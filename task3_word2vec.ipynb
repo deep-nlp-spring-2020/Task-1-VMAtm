{
 "cells": [
  {
   "cell_type": "markdown",
   "metadata": {},
   "source": [
    "# Assignment 1.3: Naive word2vec (40 points)\n",
    "\n",
    "This task can be formulated very simply. Follow this [paper](https://arxiv.org/pdf/1411.2738.pdf) and implement word2vec like a two-layer neural network with matrices $W$ and $W'$. One matrix projects words to low-dimensional 'hidden' space and the other - back to high-dimensional vocabulary space.\n",
    "\n",
    "![word2vec](https://i.stack.imgur.com/6eVXZ.jpg)\n",
    "\n",
    "You can use TensorFlow/PyTorch and code from your previous task.\n",
    "\n",
    "## Results of this task: (30 points)\n",
    " * trained word vectors (mention somewhere, how long it took to train)\n",
    " * plotted loss (so we can see that it has converged)\n",
    " * function to map token to corresponding word vector\n",
    " * beautiful visualizations (PCE, T-SNE), you can use TensorBoard and play with your vectors in 3D (don't forget to add screenshots to the task)\n",
    "\n",
    "## Extra questions: (10 points)\n",
    " * Intrinsic evaluation: you can find datasets [here](http://download.tensorflow.org/data/questions-words.txt)\n",
    " * Extrinsic evaluation: you can use [these](https://medium.com/@dataturks/rare-text-classification-open-datasets-9d340c8c508e)\n",
    "\n",
    "Also, you can find any other datasets for quantitative evaluation.\n",
    "\n",
    "Again. It is **highly recommended** to read this [paper](https://arxiv.org/pdf/1411.2738.pdf)\n",
    "\n",
    "Example of visualization in tensorboard:\n",
    "https://projector.tensorflow.org\n",
    "\n",
    "Example of 2D visualisation:\n",
    "\n",
    "![2dword2vec](https://www.tensorflow.org/images/tsne.png)"
   ]
  },
  {
   "cell_type": "code",
   "execution_count": 1,
   "metadata": {},
   "outputs": [],
   "source": [
    "import numpy as np\n",
    "import random\n",
    "import torch\n",
    "import torch.nn as nn\n",
    "import torch.optim as optim\n",
    "\n",
    "from pathlib import Path\n",
    "from pprint import pprint\n",
    "\n",
    "UNK_TOKEN = '<UNK>'\n",
    "\n",
    "np.random.seed(4242)\n",
    "random.seed(4242)"
   ]
  },
  {
   "cell_type": "code",
   "execution_count": 2,
   "metadata": {},
   "outputs": [
    {
     "data": {
      "text/plain": [
       "device(type='cuda')"
      ]
     },
     "execution_count": 2,
     "metadata": {},
     "output_type": "execute_result"
    }
   ],
   "source": [
    "USE_GPU = True\n",
    "\n",
    "if USE_GPU and torch.cuda.is_available():\n",
    "    device = torch.device('cuda')\n",
    "else:\n",
    "    device = torch.device('cpu')\n",
    "\n",
    "device"
   ]
  },
  {
   "cell_type": "code",
   "execution_count": 3,
   "metadata": {},
   "outputs": [],
   "source": [
    "from collections import Counter\n",
    "\n",
    "\n",
    "class CBOWBatcher:\n",
    "    THRESHOLD = 5\n",
    "    def __init__(self, dataset, window_size=2, threshold=THRESHOLD):\n",
    "        self.window_size = window_size\n",
    "        self.threshold = threshold\n",
    "        c = Counter(dataset)\n",
    "        # all the words we have plus <UNK> token for rare words\n",
    "        unique = {w for w in dataset if c[w] > self.threshold}\n",
    "        self.word2ind = {w: i for i, w in enumerate(unique)}\n",
    "        self.word2ind[UNK_TOKEN] = len(self.word2ind)\n",
    "        self.ind2word = {i: w for w, i in self.word2ind.items()}\n",
    "        # We need to store only the numbers of the words here, as we have their numbers already\n",
    "        # we create a padded array for tokens to process all the words from corpus\n",
    "        # remove all the uncommon words here\n",
    "        self.tokens = ([self.word2ind[UNK_TOKEN]] * window_size) +\\\n",
    "            [self.word2ind.get(w, self.word2ind[UNK_TOKEN]) for w in dataset] +\\\n",
    "            ([self.word2ind[UNK_TOKEN]] * window_size)\n",
    "        self.vocab_size = len(set(self.tokens))\n",
    "        assert self.vocab_size == len(self.word2ind)\n",
    "        assert all(t < self.vocab_size for t in self.tokens)\n",
    "        pprint(f'Corpus size: {len(dataset)}')\n",
    "        pprint(f'Actual count of words used: {self.vocab_size}')\n",
    "        pprint(f'{len(dataset)} words in dataset tokenized to {len(self.tokens)} tokens')\n",
    "\n",
    "    def get_batch(self, batch_size=512):\n",
    "        X = [None] * batch_size\n",
    "        y = [None] * batch_size\n",
    "        current = 0\n",
    "        for start in np.random.permutation(range(len(self.tokens) - 2 * window_size)):\n",
    "            center = start + window_size\n",
    "            X[current] = [self.tokens[i]\n",
    "                          for i in range(center - window_size, center + window_size + 1) if i != center]\n",
    "            y[current] = self.tokens[center]\n",
    "            current += 1\n",
    "            if current == batch_size:\n",
    "                # We need the generator, so only `yield ` is an option here\n",
    "                yield torch.from_numpy(np.asarray(X)).to(device=device),\\\n",
    "                      torch.from_numpy(np.asarray(y)).to(device=device)\n",
    "                # clean the buffer after we yielded it and we got back our process here\n",
    "                X = [None] * batch_size\n",
    "                y = [None] * batch_size\n",
    "                current = 0\n",
    "        if current:\n",
    "            # if batch didn't get to the full size but the corpus ended\n",
    "            yield torch.from_numpy(np.asarray(X[:current])).to(device=device),\\\n",
    "                  torch.from_numpy(np.asarray(y[:current])).to(device=device)         \n"
   ]
  },
  {
   "cell_type": "code",
   "execution_count": 4,
   "metadata": {},
   "outputs": [
    {
     "name": "stdout",
     "output_type": "stream",
     "text": [
      "'Corpus size: 17005207'\n",
      "'Actual count of words used: 58113'\n",
      "'17005207 words in dataset tokenized to 17005211 tokens'\n"
     ]
    }
   ],
   "source": [
    "test8_Data = Path.cwd() / 'text8'\n",
    "with test8_Data.open() as f:\n",
    "    # 1. simple cleaning: lowering all the words\n",
    "    text8 = [a.lower() for line in f for a in line.split()]\n",
    "    batcher = CBOWBatcher(text8, threshold=6)"
   ]
  },
  {
   "cell_type": "code",
   "execution_count": 5,
   "metadata": {},
   "outputs": [],
   "source": [
    "class CBOWW2V(nn.Module):\n",
    "    def __init__(self, vocab_size, embedding_size, hidden_size=256, window=2):\n",
    "        super().__init__()\n",
    "        self.embed = nn.Embedding(vocab_size, embedding_size * window * 2)\n",
    "        self.relu = nn.ReLU(inplace=False)\n",
    "        self.W1 = nn.Linear(embedding_size * window * 2, vocab_size)\n",
    "        nn.init.xavier_normal_(self.W1.weight)\n",
    "\n",
    "    def forward(self, x):\n",
    "        # get the embedding by indices\n",
    "        x = self.embed(x)\n",
    "        # hidden linear layer\n",
    "        x = self.relu(x)\n",
    "        # get the predictions\n",
    "        x = self.W1(x)\n",
    "        # we need only 1 word by the given ones\n",
    "        # here we got 4 options, so let's average them\n",
    "        return x.mean(dim=1)\n",
    "\n",
    "    def get_word_emdedding(self, word):\n",
    "        word = torch.LongTensor([word_to_ix[word]])\n",
    "        return self.embeddings(word).view(1,-1)\n",
    "\n",
    "\n",
    "def test_CBOWW2V_shapes():\n",
    "    window_size = 2\n",
    "    batch_size = 64\n",
    "    vocab_size = 50\n",
    "    x = torch.zeros((batch_size, window_size * 2), dtype=torch.long)\n",
    "    model = CBOWW2V(vocab_size, 42)\n",
    "    scores = model(x)\n",
    "    assert scores.size() == torch.Size([batch_size, vocab_size]), scores.size()\n",
    "\n",
    "\n",
    "test_CBOWW2V_shapes()\n"
   ]
  },
  {
   "cell_type": "code",
   "execution_count": 6,
   "metadata": {},
   "outputs": [],
   "source": [
    "from torch.utils.tensorboard import SummaryWriter\n",
    "from tqdm.notebook import tqdm\n",
    "\n",
    "\n",
    "EACH_PRINT = 100\n",
    "writer = SummaryWriter() \n",
    "def train_model(model, optimizer, epochs=1, max_steps=None):\n",
    "    loss = nn.CrossEntropyLoss()\n",
    "    for e in range(epochs):\n",
    "        total_loss = 0\n",
    "        t = tqdm(batcher.get_batch(1024), desc=f'Epoch {e}')\n",
    "        for step, (x, y) in enumerate(t):\n",
    "            if step > max_steps:\n",
    "                break\n",
    "            model.train()\n",
    "            x = x.to(device=device, dtype=torch.long)\n",
    "            y = y.to(device=device, dtype=torch.long)\n",
    "\n",
    "            scores = model(x)\n",
    "            check = loss(scores, y)\n",
    "\n",
    "            optimizer.zero_grad()\n",
    "            check.backward()\n",
    "            optimizer.step()\n",
    "            total_loss += check.data\n",
    "            average_loss = float(total_loss / (step + 1))\n",
    "            writer.add_scalar('Current loss/train', check.data, step)\n",
    "            writer.add_scalar('Total loss/train', total_loss, step)\n",
    "            writer.add_scalar('Average loss/train', average_loss, step)\n",
    "            t.set_postfix(loss=check.data)\n",
    "            if not step % EACH_PRINT:\n",
    "                pprint(f'Iteration {step}, current loss = {check.data:.4f}, average loss = {average_loss:.4f}')\n"
   ]
  },
  {
   "cell_type": "code",
   "execution_count": 7,
   "metadata": {},
   "outputs": [
    {
     "name": "stdout",
     "output_type": "stream",
     "text": [
      "device(type='cuda')\n"
     ]
    },
    {
     "data": {
      "application/vnd.jupyter.widget-view+json": {
       "model_id": "772f894d29224a70aa559f1816b9a69b",
       "version_major": 2,
       "version_minor": 0
      },
      "text/plain": [
       "HBox(children=(FloatProgress(value=1.0, bar_style='info', description='Epoch 0', max=1.0, style=ProgressStyle(…"
      ]
     },
     "metadata": {},
     "output_type": "display_data"
    },
    {
     "name": "stdout",
     "output_type": "stream",
     "text": [
      "'Iteration 0, loss = 10.9621'\n",
      "'Iteration 100, loss = 8.4109'\n",
      "'Iteration 200, loss = 8.2269'\n",
      "'Iteration 300, loss = 9.8921'\n",
      "'Iteration 400, loss = 10.7657'\n",
      "'Iteration 500, loss = 7.2920'\n",
      "'Iteration 600, loss = 7.5492'\n",
      "'Iteration 700, loss = 8.0928'\n",
      "'Iteration 800, loss = 10.1871'\n",
      "'Iteration 900, loss = 7.1046'\n",
      "'Iteration 1000, loss = 9.2898'\n",
      "'Iteration 1100, loss = 6.7658'\n",
      "'Iteration 1200, loss = 7.3498'\n",
      "'Iteration 1300, loss = 7.7469'\n",
      "'Iteration 1400, loss = 8.1395'\n",
      "'Iteration 1500, loss = 7.5857'\n",
      "'Iteration 1600, loss = 6.9428'\n",
      "'Iteration 1700, loss = 7.1464'\n",
      "'Iteration 1800, loss = 7.0798'\n",
      "'Iteration 1900, loss = 6.7013'\n",
      "'Iteration 2000, loss = 7.1450'\n",
      "'Iteration 2100, loss = 6.9293'\n",
      "'Iteration 2200, loss = 7.1913'\n",
      "'Iteration 2300, loss = 6.7560'\n",
      "'Iteration 2400, loss = 6.8238'\n",
      "'Iteration 2500, loss = 6.8997'\n",
      "'Iteration 2600, loss = 6.3742'\n",
      "'Iteration 2700, loss = 6.6186'\n",
      "'Iteration 2800, loss = 6.8392'\n",
      "'Iteration 2900, loss = 7.0350'\n",
      "'Iteration 3000, loss = 6.7030'\n",
      "'Iteration 3100, loss = 6.9854'\n",
      "'Iteration 3200, loss = 6.9794'\n",
      "'Iteration 3300, loss = 6.7175'\n",
      "'Iteration 3400, loss = 6.7716'\n",
      "'Iteration 3500, loss = 6.5883'\n",
      "'Iteration 3600, loss = 6.6971'\n",
      "'Iteration 3700, loss = 6.8767'\n",
      "'Iteration 3800, loss = 6.8322'\n",
      "'Iteration 3900, loss = 6.6664'\n",
      "'Iteration 4000, loss = 6.6641'\n",
      "'Iteration 4100, loss = 6.8012'\n",
      "'Iteration 4200, loss = 6.7694'\n",
      "'Iteration 4300, loss = 6.6623'\n",
      "'Iteration 4400, loss = 6.5419'\n",
      "'Iteration 4500, loss = 6.7121'\n",
      "'Iteration 4600, loss = 6.6705'\n",
      "'Iteration 4700, loss = 6.7293'\n",
      "'Iteration 4800, loss = 6.5689'\n",
      "'Iteration 4900, loss = 6.6791'\n",
      "'Iteration 5000, loss = 6.5549'\n",
      "'Iteration 5100, loss = 6.6761'\n",
      "'Iteration 5200, loss = 6.3707'\n",
      "'Iteration 5300, loss = 6.7611'\n",
      "'Iteration 5400, loss = 6.4771'\n",
      "'Iteration 5500, loss = 6.7754'\n",
      "'Iteration 5600, loss = 6.6897'\n",
      "'Iteration 5700, loss = 6.5328'\n",
      "'Iteration 5800, loss = 6.4442'\n",
      "'Iteration 5900, loss = 6.5834'\n",
      "'Iteration 6000, loss = 6.7507'\n",
      "'Iteration 6100, loss = 6.8966'\n",
      "'Iteration 6200, loss = 6.6605'\n",
      "'Iteration 6300, loss = 6.5554'\n",
      "'Iteration 6400, loss = 6.7305'\n",
      "'Iteration 6500, loss = 6.5343'\n",
      "'Iteration 6600, loss = 6.5842'\n",
      "'Iteration 6700, loss = 6.7499'\n",
      "'Iteration 6800, loss = 6.7528'\n",
      "'Iteration 6900, loss = 6.5310'\n",
      "'Iteration 7000, loss = 6.7640'\n",
      "'Iteration 7100, loss = 6.6587'\n",
      "'Iteration 7200, loss = 6.7005'\n",
      "'Iteration 7300, loss = 6.7409'\n",
      "'Iteration 7400, loss = 6.8085'\n",
      "'Iteration 7500, loss = 6.6462'\n",
      "'Iteration 7600, loss = 6.7993'\n",
      "'Iteration 7700, loss = 6.6391'\n",
      "'Iteration 7800, loss = 6.5319'\n",
      "'Iteration 7900, loss = 6.8201'\n",
      "'Iteration 8000, loss = 6.5658'\n",
      "'Iteration 8100, loss = 6.5004'\n",
      "'Iteration 8200, loss = 6.6328'\n",
      "'Iteration 8300, loss = 6.5759'\n",
      "'Iteration 8400, loss = 6.5485'\n",
      "'Iteration 8500, loss = 6.7696'\n",
      "'Iteration 8600, loss = 6.6458'\n",
      "'Iteration 8700, loss = 6.6876'\n",
      "'Iteration 8800, loss = 6.5332'\n",
      "'Iteration 8900, loss = 6.6601'\n",
      "'Iteration 9000, loss = 6.7633'\n",
      "'Iteration 9100, loss = 6.8278'\n",
      "'Iteration 9200, loss = 6.8368'\n",
      "'Iteration 9300, loss = 6.6446'\n",
      "'Iteration 9400, loss = 6.5890'\n",
      "'Iteration 9500, loss = 6.7827'\n",
      "'Iteration 9600, loss = 6.7259'\n",
      "'Iteration 9700, loss = 6.5923'\n",
      "'Iteration 9800, loss = 6.6287'\n",
      "'Iteration 9900, loss = 6.7946'\n",
      "'Iteration 10000, loss = 6.7943'\n",
      "'Iteration 10100, loss = 6.8418'\n",
      "'Iteration 10200, loss = 6.6815'\n",
      "'Iteration 10300, loss = 6.6181'\n",
      "'Iteration 10400, loss = 6.6001'\n",
      "'Iteration 10500, loss = 6.7924'\n",
      "'Iteration 10600, loss = 6.6970'\n",
      "'Iteration 10700, loss = 6.8504'\n",
      "'Iteration 10800, loss = 6.7210'\n",
      "'Iteration 10900, loss = 6.8634'\n",
      "'Iteration 11000, loss = 6.5604'\n",
      "'Iteration 11100, loss = 6.6821'\n",
      "'Iteration 11200, loss = 6.8213'\n",
      "'Iteration 11300, loss = 6.7283'\n",
      "'Iteration 11400, loss = 6.5531'\n",
      "'Iteration 11500, loss = 6.8268'\n",
      "'Iteration 11600, loss = 6.6714'\n",
      "'Iteration 11700, loss = 6.8859'\n",
      "'Iteration 11800, loss = 6.6786'\n",
      "'Iteration 11900, loss = 6.7301'\n",
      "'Iteration 12000, loss = 6.6935'\n",
      "'Iteration 12100, loss = 6.7047'\n",
      "'Iteration 12200, loss = 6.6332'\n",
      "'Iteration 12300, loss = 6.7997'\n",
      "'Iteration 12400, loss = 6.6927'\n",
      "'Iteration 12500, loss = 6.6301'\n",
      "'Iteration 12600, loss = 6.8412'\n",
      "'Iteration 12700, loss = 6.9122'\n",
      "'Iteration 12800, loss = 6.7355'\n",
      "'Iteration 12900, loss = 6.7954'\n",
      "'Iteration 13000, loss = 6.7939'\n",
      "'Iteration 13100, loss = 6.5007'\n",
      "'Iteration 13200, loss = 6.8181'\n",
      "'Iteration 13300, loss = 6.8194'\n",
      "'Iteration 13400, loss = 6.8346'\n",
      "'Iteration 13500, loss = 6.6754'\n",
      "'Iteration 13600, loss = 6.8282'\n",
      "'Iteration 13700, loss = 6.7295'\n",
      "'Iteration 13800, loss = 6.7006'\n",
      "'Iteration 13900, loss = 6.7225'\n",
      "'Iteration 14000, loss = 6.6893'\n",
      "'Iteration 14100, loss = 6.6878'\n",
      "'Iteration 14200, loss = 6.9039'\n",
      "'Iteration 14300, loss = 6.6455'\n",
      "'Iteration 14400, loss = 6.7878'\n",
      "'Iteration 14500, loss = 6.8023'\n",
      "'Iteration 14600, loss = 6.6824'\n",
      "'Iteration 14700, loss = 6.7668'\n",
      "'Iteration 14800, loss = 6.6980'\n",
      "'Iteration 14900, loss = 6.4648'\n",
      "'Iteration 15000, loss = 6.6510'\n",
      "'Iteration 15100, loss = 6.6783'\n",
      "'Iteration 15200, loss = 6.5863'\n",
      "'Iteration 15300, loss = 6.9528'\n",
      "'Iteration 15400, loss = 6.6279'\n",
      "'Iteration 15500, loss = 6.4893'\n",
      "'Iteration 15600, loss = 6.6614'\n",
      "'Iteration 15700, loss = 6.7651'\n",
      "'Iteration 15800, loss = 6.5469'\n",
      "'Iteration 15900, loss = 6.7969'\n",
      "'Iteration 16000, loss = 6.6208'\n",
      "'Iteration 16100, loss = 6.7578'\n",
      "'Iteration 16200, loss = 6.7106'\n",
      "'Iteration 16300, loss = 6.5320'\n",
      "'Iteration 16400, loss = 6.5212'\n",
      "'Iteration 16500, loss = 6.8661'\n",
      "'Iteration 16600, loss = 6.8594'\n",
      "\n"
     ]
    }
   ],
   "source": [
    "# pprint(device)\n",
    "\n",
    "# learning_rate = 1.568\n",
    "# embedding_size = 222\n",
    "# window_size = 2\n",
    "# model = CBOWW2V(batcher.vocab_size, embedding_size)\n",
    "# model = model.to(device=device)\n",
    "# optimizer = optim.ASGD(model.parameters(), lr=learning_rate)\n",
    "\n",
    "# train_model(model, optimizer)"
   ]
  },
  {
   "cell_type": "code",
   "execution_count": 7,
   "metadata": {},
   "outputs": [],
   "source": [
    "# results for the model are:\n",
    "# 16607/? [4:12:24<00:00, 1.10it/s, loss=tensor(6.5550, device='cuda:0')]\n",
    "# This is 1 epoch on the whole corpus\n"
   ]
  },
  {
   "cell_type": "markdown",
   "metadata": {},
   "source": [
    "![Loss](imgs/LossGraph.png)"
   ]
  },
  {
   "cell_type": "code",
   "execution_count": 8,
   "metadata": {},
   "outputs": [
    {
     "name": "stdout",
     "output_type": "stream",
     "text": [
      "device(type='cuda')\n"
     ]
    },
    {
     "data": {
      "application/vnd.jupyter.widget-view+json": {
       "model_id": "2023873b3f9f4ca9ad87430781a888b7",
       "version_major": 2,
       "version_minor": 0
      },
      "text/plain": [
       "HBox(children=(FloatProgress(value=1.0, bar_style='info', description='Epoch 0', max=1.0, style=ProgressStyle(…"
      ]
     },
     "metadata": {},
     "output_type": "display_data"
    },
    {
     "name": "stdout",
     "output_type": "stream",
     "text": [
      "'Iteration 0, current loss = 10.9762, average loss = 10.9762'\n",
      "'Iteration 100, current loss = 9.1245, average loss = 9.9924'\n",
      "'Iteration 200, current loss = 8.6543, average loss = 9.4664'\n",
      "'Iteration 300, current loss = 8.5092, average loss = 9.1626'\n",
      "'Iteration 400, current loss = 8.1165, average loss = 8.9625'\n",
      "'Iteration 500, current loss = 8.1539, average loss = 8.8114'\n",
      "'Iteration 600, current loss = 8.1073, average loss = 8.7006'\n",
      "'Iteration 700, current loss = 8.0480, average loss = 8.6094'\n"
     ]
    },
    {
     "data": {
      "application/vnd.jupyter.widget-view+json": {
       "model_id": "8ab76b63d2584b2693bb401bb56d56fc",
       "version_major": 2,
       "version_minor": 0
      },
      "text/plain": [
       "HBox(children=(FloatProgress(value=1.0, bar_style='info', description='Epoch 1', max=1.0, style=ProgressStyle(…"
      ]
     },
     "metadata": {},
     "output_type": "display_data"
    },
    {
     "name": "stdout",
     "output_type": "stream",
     "text": [
      "'Iteration 0, current loss = 8.0200, average loss = 8.0200'\n",
      "'Iteration 100, current loss = 7.9176, average loss = 7.9958'\n",
      "'Iteration 200, current loss = 8.2346, average loss = 7.9812'\n",
      "'Iteration 300, current loss = 7.7683, average loss = 7.9580'\n",
      "'Iteration 400, current loss = 7.8098, average loss = 7.9380'\n",
      "'Iteration 500, current loss = 7.8590, average loss = 7.9228'\n",
      "'Iteration 600, current loss = 7.6081, average loss = 7.9035'\n",
      "'Iteration 700, current loss = 7.6734, average loss = 7.8843'\n"
     ]
    },
    {
     "data": {
      "application/vnd.jupyter.widget-view+json": {
       "model_id": "e32fde255cca49a08e5bfe84066a9cfa",
       "version_major": 2,
       "version_minor": 0
      },
      "text/plain": [
       "HBox(children=(FloatProgress(value=1.0, bar_style='info', description='Epoch 2', max=1.0, style=ProgressStyle(…"
      ]
     },
     "metadata": {},
     "output_type": "display_data"
    },
    {
     "name": "stdout",
     "output_type": "stream",
     "text": [
      "'Iteration 0, current loss = 7.8092, average loss = 7.8092'\n",
      "'Iteration 100, current loss = 7.7972, average loss = 7.7396'\n",
      "'Iteration 200, current loss = 7.8740, average loss = 7.7219'\n",
      "'Iteration 300, current loss = 7.5432, average loss = 7.7078'\n",
      "'Iteration 400, current loss = 7.7078, average loss = 7.7026'\n",
      "'Iteration 500, current loss = 7.6802, average loss = 7.6945'\n",
      "'Iteration 600, current loss = 7.6871, average loss = 7.6861'\n",
      "'Iteration 700, current loss = 7.7036, average loss = 7.6776'\n"
     ]
    },
    {
     "data": {
      "application/vnd.jupyter.widget-view+json": {
       "model_id": "19db0bc585c24a12bcf58436877380ae",
       "version_major": 2,
       "version_minor": 0
      },
      "text/plain": [
       "HBox(children=(FloatProgress(value=1.0, bar_style='info', description='Epoch 3', max=1.0, style=ProgressStyle(…"
      ]
     },
     "metadata": {},
     "output_type": "display_data"
    },
    {
     "name": "stdout",
     "output_type": "stream",
     "text": [
      "'Iteration 0, current loss = 7.4463, average loss = 7.4463'\n",
      "'Iteration 100, current loss = 7.6481, average loss = 7.5834'\n",
      "'Iteration 200, current loss = 7.5962, average loss = 7.5765'\n",
      "'Iteration 300, current loss = 7.5070, average loss = 7.5743'\n",
      "'Iteration 400, current loss = 7.4437, average loss = 7.5735'\n",
      "'Iteration 500, current loss = 7.5256, average loss = 7.5656'\n",
      "'Iteration 600, current loss = 7.3709, average loss = 7.5587'\n",
      "'Iteration 700, current loss = 7.7177, average loss = 7.5501'\n"
     ]
    },
    {
     "data": {
      "application/vnd.jupyter.widget-view+json": {
       "model_id": "834185e0d1cb4f4484f4f7f4a49582e4",
       "version_major": 2,
       "version_minor": 0
      },
      "text/plain": [
       "HBox(children=(FloatProgress(value=1.0, bar_style='info', description='Epoch 4', max=1.0, style=ProgressStyle(…"
      ]
     },
     "metadata": {},
     "output_type": "display_data"
    },
    {
     "name": "stdout",
     "output_type": "stream",
     "text": [
      "'Iteration 0, current loss = 7.4954, average loss = 7.4954'\n",
      "'Iteration 100, current loss = 7.3805, average loss = 7.4977'\n",
      "'Iteration 200, current loss = 7.2157, average loss = 7.4743'\n",
      "'Iteration 300, current loss = 7.5926, average loss = 7.4833'\n",
      "'Iteration 400, current loss = 7.6093, average loss = 7.4751'\n",
      "'Iteration 500, current loss = 7.3370, average loss = 7.4715'\n",
      "'Iteration 600, current loss = 7.4374, average loss = 7.4688'\n",
      "'Iteration 700, current loss = 7.4879, average loss = 7.4610'\n"
     ]
    },
    {
     "data": {
      "application/vnd.jupyter.widget-view+json": {
       "model_id": "4979d9c3560b4edcba32be2d80722930",
       "version_major": 2,
       "version_minor": 0
      },
      "text/plain": [
       "HBox(children=(FloatProgress(value=1.0, bar_style='info', description='Epoch 5', max=1.0, style=ProgressStyle(…"
      ]
     },
     "metadata": {},
     "output_type": "display_data"
    },
    {
     "name": "stdout",
     "output_type": "stream",
     "text": [
      "'Iteration 0, current loss = 7.4032, average loss = 7.4032'\n",
      "'Iteration 100, current loss = 7.4551, average loss = 7.4248'\n",
      "'Iteration 200, current loss = 7.4735, average loss = 7.4195'\n",
      "'Iteration 300, current loss = 7.3905, average loss = 7.4114'\n",
      "'Iteration 400, current loss = 7.3889, average loss = 7.4013'\n",
      "'Iteration 500, current loss = 7.1531, average loss = 7.3975'\n",
      "'Iteration 600, current loss = 7.4002, average loss = 7.3927'\n",
      "'Iteration 700, current loss = 7.4430, average loss = 7.3905'\n"
     ]
    },
    {
     "data": {
      "application/vnd.jupyter.widget-view+json": {
       "model_id": "f9f0e2d1b49b41238ca65a5a129b37d2",
       "version_major": 2,
       "version_minor": 0
      },
      "text/plain": [
       "HBox(children=(FloatProgress(value=1.0, bar_style='info', description='Epoch 6', max=1.0, style=ProgressStyle(…"
      ]
     },
     "metadata": {},
     "output_type": "display_data"
    },
    {
     "name": "stdout",
     "output_type": "stream",
     "text": [
      "'Iteration 0, current loss = 7.3436, average loss = 7.3436'\n",
      "'Iteration 100, current loss = 7.2757, average loss = 7.3565'\n",
      "'Iteration 200, current loss = 7.5975, average loss = 7.3543'\n",
      "'Iteration 300, current loss = 7.3533, average loss = 7.3464'\n",
      "'Iteration 400, current loss = 7.3375, average loss = 7.3378'\n",
      "'Iteration 500, current loss = 7.4013, average loss = 7.3348'\n",
      "'Iteration 600, current loss = 7.3426, average loss = 7.3331'\n",
      "'Iteration 700, current loss = 7.4967, average loss = 7.3293'\n"
     ]
    },
    {
     "data": {
      "application/vnd.jupyter.widget-view+json": {
       "model_id": "4b6c7265e65048bab1124e5db0dd65ca",
       "version_major": 2,
       "version_minor": 0
      },
      "text/plain": [
       "HBox(children=(FloatProgress(value=1.0, bar_style='info', description='Epoch 7', max=1.0, style=ProgressStyle(…"
      ]
     },
     "metadata": {},
     "output_type": "display_data"
    },
    {
     "name": "stdout",
     "output_type": "stream",
     "text": [
      "'Iteration 0, current loss = 7.3705, average loss = 7.3705'\n",
      "'Iteration 100, current loss = 7.3923, average loss = 7.3241'\n",
      "'Iteration 200, current loss = 7.3180, average loss = 7.3164'\n",
      "'Iteration 300, current loss = 7.2032, average loss = 7.3077'\n",
      "'Iteration 400, current loss = 7.4335, average loss = 7.3008'\n",
      "'Iteration 500, current loss = 7.2299, average loss = 7.2984'\n",
      "'Iteration 600, current loss = 7.1218, average loss = 7.2937'\n",
      "'Iteration 700, current loss = 7.3347, average loss = 7.2914'\n"
     ]
    },
    {
     "data": {
      "application/vnd.jupyter.widget-view+json": {
       "model_id": "dccde08dd7fc47cb8d60460681c616b2",
       "version_major": 2,
       "version_minor": 0
      },
      "text/plain": [
       "HBox(children=(FloatProgress(value=1.0, bar_style='info', description='Epoch 8', max=1.0, style=ProgressStyle(…"
      ]
     },
     "metadata": {},
     "output_type": "display_data"
    },
    {
     "name": "stdout",
     "output_type": "stream",
     "text": [
      "'Iteration 0, current loss = 7.3831, average loss = 7.3831'\n",
      "'Iteration 100, current loss = 7.4332, average loss = 7.2559'\n",
      "'Iteration 200, current loss = 7.1456, average loss = 7.2596'\n",
      "'Iteration 300, current loss = 7.1779, average loss = 7.2586'\n",
      "'Iteration 400, current loss = 7.2656, average loss = 7.2500'\n",
      "'Iteration 500, current loss = 7.1989, average loss = 7.2483'\n",
      "'Iteration 600, current loss = 7.2343, average loss = 7.2429'\n",
      "'Iteration 700, current loss = 7.1757, average loss = 7.2410'\n"
     ]
    },
    {
     "data": {
      "application/vnd.jupyter.widget-view+json": {
       "model_id": "d322f82948a04c0196ed1be9d6f1eaff",
       "version_major": 2,
       "version_minor": 0
      },
      "text/plain": [
       "HBox(children=(FloatProgress(value=1.0, bar_style='info', description='Epoch 9', max=1.0, style=ProgressStyle(…"
      ]
     },
     "metadata": {},
     "output_type": "display_data"
    },
    {
     "name": "stdout",
     "output_type": "stream",
     "text": [
      "'Iteration 0, current loss = 7.2151, average loss = 7.2151'\n",
      "'Iteration 100, current loss = 7.4060, average loss = 7.2226'\n",
      "'Iteration 200, current loss = 7.2664, average loss = 7.2244'\n",
      "'Iteration 300, current loss = 7.2240, average loss = 7.2145'\n",
      "'Iteration 400, current loss = 7.2233, average loss = 7.2115'\n",
      "'Iteration 500, current loss = 6.9893, average loss = 7.2129'\n",
      "'Iteration 600, current loss = 7.1606, average loss = 7.2116'\n",
      "'Iteration 700, current loss = 7.0183, average loss = 7.2109'\n"
     ]
    }
   ],
   "source": [
    "pprint(device)\n",
    "\n",
    "learning_rate = 0.01568\n",
    "embedding_size = 222\n",
    "window_size = 2\n",
    "model2 = CBOWW2V(batcher.vocab_size, embedding_size)\n",
    "model2 = model2.to(device=device)\n",
    "optimizer2 = optim.ASGD(model2.parameters(), lr=learning_rate)\n",
    "\n",
    "train_model(model2, optimizer2, epochs=10, max_steps=700)"
   ]
  },
  {
   "cell_type": "code",
   "execution_count": 9,
   "metadata": {},
   "outputs": [
    {
     "data": {
      "application/vnd.jupyter.widget-view+json": {
       "model_id": "77d7e21f0f08468a93ba8e61c54d048d",
       "version_major": 2,
       "version_minor": 0
      },
      "text/plain": [
       "HBox(children=(FloatProgress(value=1.0, bar_style='info', description='Epoch 0', max=1.0, style=ProgressStyle(…"
      ]
     },
     "metadata": {},
     "output_type": "display_data"
    },
    {
     "name": "stdout",
     "output_type": "stream",
     "text": [
      "'Iteration 0, current loss = 7.1260, average loss = 7.1260'\n",
      "'Iteration 100, current loss = 7.2119, average loss = 7.1957'\n",
      "'Iteration 200, current loss = 7.1208, average loss = 7.1992'\n",
      "'Iteration 300, current loss = 7.2154, average loss = 7.1937'\n",
      "'Iteration 400, current loss = 7.2971, average loss = 7.1917'\n",
      "'Iteration 500, current loss = 7.0597, average loss = 7.1894'\n",
      "'Iteration 600, current loss = 7.1239, average loss = 7.1866'\n",
      "'Iteration 700, current loss = 7.0536, average loss = 7.1827'\n"
     ]
    },
    {
     "data": {
      "application/vnd.jupyter.widget-view+json": {
       "model_id": "61290e410ebe45428c58ef1514e03aa6",
       "version_major": 2,
       "version_minor": 0
      },
      "text/plain": [
       "HBox(children=(FloatProgress(value=1.0, bar_style='info', description='Epoch 1', max=1.0, style=ProgressStyle(…"
      ]
     },
     "metadata": {},
     "output_type": "display_data"
    },
    {
     "name": "stdout",
     "output_type": "stream",
     "text": [
      "'Iteration 0, current loss = 7.1181, average loss = 7.1181'\n",
      "'Iteration 100, current loss = 7.0128, average loss = 7.1522'\n",
      "'Iteration 200, current loss = 7.2486, average loss = 7.1653'\n",
      "'Iteration 300, current loss = 7.0744, average loss = 7.1659'\n",
      "'Iteration 400, current loss = 7.1537, average loss = 7.1665'\n",
      "'Iteration 500, current loss = 7.1731, average loss = 7.1631'\n",
      "'Iteration 600, current loss = 7.3547, average loss = 7.1577'\n",
      "'Iteration 700, current loss = 7.1556, average loss = 7.1505'\n"
     ]
    },
    {
     "data": {
      "application/vnd.jupyter.widget-view+json": {
       "model_id": "31d2580bf8a049d4bfbd59ee0c541c89",
       "version_major": 2,
       "version_minor": 0
      },
      "text/plain": [
       "HBox(children=(FloatProgress(value=1.0, bar_style='info', description='Epoch 2', max=1.0, style=ProgressStyle(…"
      ]
     },
     "metadata": {},
     "output_type": "display_data"
    },
    {
     "name": "stdout",
     "output_type": "stream",
     "text": [
      "'Iteration 0, current loss = 7.2332, average loss = 7.2332'\n",
      "'Iteration 100, current loss = 7.3226, average loss = 7.1279'\n",
      "'Iteration 200, current loss = 7.2767, average loss = 7.1306'\n",
      "'Iteration 300, current loss = 7.1263, average loss = 7.1325'\n",
      "'Iteration 400, current loss = 7.1830, average loss = 7.1329'\n",
      "'Iteration 500, current loss = 7.1389, average loss = 7.1331'\n",
      "'Iteration 600, current loss = 7.1645, average loss = 7.1325'\n",
      "'Iteration 700, current loss = 7.1424, average loss = 7.1307'\n"
     ]
    },
    {
     "data": {
      "application/vnd.jupyter.widget-view+json": {
       "model_id": "c0c5df06f4ca4ff7879a9aa61c514f16",
       "version_major": 2,
       "version_minor": 0
      },
      "text/plain": [
       "HBox(children=(FloatProgress(value=1.0, bar_style='info', description='Epoch 3', max=1.0, style=ProgressStyle(…"
      ]
     },
     "metadata": {},
     "output_type": "display_data"
    },
    {
     "name": "stdout",
     "output_type": "stream",
     "text": [
      "'Iteration 0, current loss = 7.1788, average loss = 7.1788'\n",
      "'Iteration 100, current loss = 7.2195, average loss = 7.0941'\n",
      "'Iteration 200, current loss = 7.3154, average loss = 7.1046'\n",
      "'Iteration 300, current loss = 7.2892, average loss = 7.1053'\n",
      "'Iteration 400, current loss = 7.1160, average loss = 7.1058'\n",
      "'Iteration 500, current loss = 6.9340, average loss = 7.1031'\n",
      "'Iteration 600, current loss = 7.0431, average loss = 7.1018'\n",
      "'Iteration 700, current loss = 7.1764, average loss = 7.1005'\n"
     ]
    },
    {
     "data": {
      "application/vnd.jupyter.widget-view+json": {
       "model_id": "9700bcdbbee747f6917ec57d9332c8fb",
       "version_major": 2,
       "version_minor": 0
      },
      "text/plain": [
       "HBox(children=(FloatProgress(value=1.0, bar_style='info', description='Epoch 4', max=1.0, style=ProgressStyle(…"
      ]
     },
     "metadata": {},
     "output_type": "display_data"
    },
    {
     "name": "stdout",
     "output_type": "stream",
     "text": [
      "'Iteration 0, current loss = 7.1245, average loss = 7.1245'\n",
      "'Iteration 100, current loss = 7.2808, average loss = 7.1102'\n",
      "'Iteration 200, current loss = 7.0386, average loss = 7.0929'\n",
      "'Iteration 300, current loss = 7.0899, average loss = 7.0934'\n",
      "'Iteration 400, current loss = 7.1474, average loss = 7.0888'\n",
      "'Iteration 500, current loss = 6.9376, average loss = 7.0882'\n",
      "'Iteration 600, current loss = 6.9950, average loss = 7.0852'\n",
      "'Iteration 700, current loss = 7.1026, average loss = 7.0837'\n"
     ]
    },
    {
     "data": {
      "application/vnd.jupyter.widget-view+json": {
       "model_id": "c650bd29bb9748f2a9c0dfe268eeb2b7",
       "version_major": 2,
       "version_minor": 0
      },
      "text/plain": [
       "HBox(children=(FloatProgress(value=1.0, bar_style='info', description='Epoch 5', max=1.0, style=ProgressStyle(…"
      ]
     },
     "metadata": {},
     "output_type": "display_data"
    },
    {
     "name": "stdout",
     "output_type": "stream",
     "text": [
      "'Iteration 0, current loss = 7.0162, average loss = 7.0162'\n",
      "'Iteration 100, current loss = 7.0702, average loss = 7.0735'\n",
      "'Iteration 200, current loss = 6.9705, average loss = 7.0729'\n",
      "'Iteration 300, current loss = 6.8781, average loss = 7.0696'\n",
      "'Iteration 400, current loss = 6.9721, average loss = 7.0711'\n",
      "'Iteration 500, current loss = 7.0846, average loss = 7.0718'\n",
      "'Iteration 600, current loss = 7.1897, average loss = 7.0751'\n",
      "'Iteration 700, current loss = 6.9750, average loss = 7.0767'\n"
     ]
    },
    {
     "data": {
      "application/vnd.jupyter.widget-view+json": {
       "model_id": "789d68048f244e2494da8f270ff703d3",
       "version_major": 2,
       "version_minor": 0
      },
      "text/plain": [
       "HBox(children=(FloatProgress(value=1.0, bar_style='info', description='Epoch 6', max=1.0, style=ProgressStyle(…"
      ]
     },
     "metadata": {},
     "output_type": "display_data"
    },
    {
     "name": "stdout",
     "output_type": "stream",
     "text": [
      "'Iteration 0, current loss = 7.1536, average loss = 7.1536'\n",
      "'Iteration 100, current loss = 7.2375, average loss = 7.0802'\n",
      "'Iteration 200, current loss = 6.8845, average loss = 7.0730'\n",
      "'Iteration 300, current loss = 7.1155, average loss = 7.0666'\n",
      "'Iteration 400, current loss = 7.1253, average loss = 7.0634'\n",
      "'Iteration 500, current loss = 7.2385, average loss = 7.0590'\n",
      "'Iteration 600, current loss = 6.9251, average loss = 7.0557'\n",
      "'Iteration 700, current loss = 7.0387, average loss = 7.0583'\n"
     ]
    },
    {
     "data": {
      "application/vnd.jupyter.widget-view+json": {
       "model_id": "eb0f409975014139984e83c10b237a86",
       "version_major": 2,
       "version_minor": 0
      },
      "text/plain": [
       "HBox(children=(FloatProgress(value=1.0, bar_style='info', description='Epoch 7', max=1.0, style=ProgressStyle(…"
      ]
     },
     "metadata": {},
     "output_type": "display_data"
    },
    {
     "name": "stdout",
     "output_type": "stream",
     "text": [
      "'Iteration 0, current loss = 6.9969, average loss = 6.9969'\n",
      "'Iteration 100, current loss = 7.0110, average loss = 7.0370'\n",
      "'Iteration 200, current loss = 7.2653, average loss = 7.0400'\n",
      "'Iteration 300, current loss = 6.8691, average loss = 7.0404'\n",
      "'Iteration 400, current loss = 6.9650, average loss = 7.0352'\n",
      "'Iteration 500, current loss = 7.0372, average loss = 7.0321'\n",
      "'Iteration 600, current loss = 6.9309, average loss = 7.0357'\n",
      "'Iteration 700, current loss = 6.9789, average loss = 7.0344'\n"
     ]
    },
    {
     "data": {
      "application/vnd.jupyter.widget-view+json": {
       "model_id": "f9d400bb93f74727934c70f56f01a1cf",
       "version_major": 2,
       "version_minor": 0
      },
      "text/plain": [
       "HBox(children=(FloatProgress(value=1.0, bar_style='info', description='Epoch 8', max=1.0, style=ProgressStyle(…"
      ]
     },
     "metadata": {},
     "output_type": "display_data"
    },
    {
     "name": "stdout",
     "output_type": "stream",
     "text": [
      "'Iteration 0, current loss = 7.0260, average loss = 7.0260'\n",
      "'Iteration 100, current loss = 7.0643, average loss = 7.0293'\n",
      "'Iteration 200, current loss = 7.0534, average loss = 7.0363'\n",
      "'Iteration 300, current loss = 7.1356, average loss = 7.0355'\n",
      "'Iteration 400, current loss = 7.1113, average loss = 7.0372'\n",
      "'Iteration 500, current loss = 7.1767, average loss = 7.0370'\n",
      "'Iteration 600, current loss = 6.9815, average loss = 7.0316'\n",
      "'Iteration 700, current loss = 7.2865, average loss = 7.0299'\n"
     ]
    },
    {
     "data": {
      "application/vnd.jupyter.widget-view+json": {
       "model_id": "d0a3a681cf294a80932c6a02eac00b16",
       "version_major": 2,
       "version_minor": 0
      },
      "text/plain": [
       "HBox(children=(FloatProgress(value=1.0, bar_style='info', description='Epoch 9', max=1.0, style=ProgressStyle(…"
      ]
     },
     "metadata": {},
     "output_type": "display_data"
    },
    {
     "name": "stdout",
     "output_type": "stream",
     "text": [
      "'Iteration 0, current loss = 7.0352, average loss = 7.0352'\n",
      "'Iteration 100, current loss = 7.1777, average loss = 7.0201'\n",
      "'Iteration 200, current loss = 6.9152, average loss = 7.0106'\n",
      "'Iteration 300, current loss = 7.0912, average loss = 7.0170'\n",
      "'Iteration 400, current loss = 7.1072, average loss = 7.0194'\n",
      "'Iteration 500, current loss = 6.9492, average loss = 7.0202'\n",
      "'Iteration 600, current loss = 6.9867, average loss = 7.0197'\n",
      "'Iteration 700, current loss = 6.9986, average loss = 7.0178'\n"
     ]
    }
   ],
   "source": [
    "train_model(model2, optimizer2, epochs=10, max_steps=700)"
   ]
  },
  {
   "cell_type": "code",
   "execution_count": 10,
   "metadata": {},
   "outputs": [
    {
     "data": {
      "text/plain": [
       "CBOWW2V(\n",
       "  (embed): Embedding(58113, 888)\n",
       "  (relu): ReLU()\n",
       "  (W1): Linear(in_features=888, out_features=58113, bias=True)\n",
       ")"
      ]
     },
     "execution_count": 10,
     "metadata": {},
     "output_type": "execute_result"
    }
   ],
   "source": [
    "torch.save(model.state_dict(), PATH)"
   ]
  }
 ],
 "metadata": {
  "kernelspec": {
   "display_name": "Python 3",
   "language": "python",
   "name": "python3"
  },
  "language_info": {
   "codemirror_mode": {
    "name": "ipython",
    "version": 3
   },
   "file_extension": ".py",
   "mimetype": "text/x-python",
   "name": "python",
   "nbconvert_exporter": "python",
   "pygments_lexer": "ipython3",
   "version": "3.7.1"
  }
 },
 "nbformat": 4,
 "nbformat_minor": 2
}
