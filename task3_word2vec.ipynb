{
 "cells": [
  {
   "cell_type": "markdown",
   "metadata": {},
   "source": [
    "# Assignment 1.3: Naive word2vec (40 points)\n",
    "\n",
    "This task can be formulated very simply. Follow this [paper](https://arxiv.org/pdf/1411.2738.pdf) and implement word2vec like a two-layer neural network with matrices $W$ and $W'$. One matrix projects words to low-dimensional 'hidden' space and the other - back to high-dimensional vocabulary space.\n",
    "\n",
    "![word2vec](https://i.stack.imgur.com/6eVXZ.jpg)\n",
    "\n",
    "You can use TensorFlow/PyTorch and code from your previous task.\n",
    "\n",
    "## Results of this task: (30 points)\n",
    " * trained word vectors (mention somewhere, how long it took to train)\n",
    " * plotted loss (so we can see that it has converged)\n",
    " * function to map token to corresponding word vector\n",
    " * beautiful visualizations (PCE, T-SNE), you can use TensorBoard and play with your vectors in 3D (don't forget to add screenshots to the task)\n",
    "\n",
    "## Extra questions: (10 points)\n",
    " * Intrinsic evaluation: you can find datasets [here](http://download.tensorflow.org/data/questions-words.txt)\n",
    " * Extrinsic evaluation: you can use [these](https://medium.com/@dataturks/rare-text-classification-open-datasets-9d340c8c508e)\n",
    "\n",
    "Also, you can find any other datasets for quantitative evaluation.\n",
    "\n",
    "Again. It is **highly recommended** to read this [paper](https://arxiv.org/pdf/1411.2738.pdf)\n",
    "\n",
    "Example of visualization in tensorboard:\n",
    "https://projector.tensorflow.org\n",
    "\n",
    "Example of 2D visualisation:\n",
    "\n",
    "![2dword2vec](https://www.tensorflow.org/images/tsne.png)"
   ]
  },
  {
   "cell_type": "code",
   "execution_count": 1,
   "metadata": {},
   "outputs": [],
   "source": [
    "import numpy as np\n",
    "import random\n",
    "import torch\n",
    "import torch.nn as nn\n",
    "import torch.optim as optim\n",
    "\n",
    "from pathlib import Path\n",
    "from pprint import pprint\n",
    "\n",
    "UNK_TOKEN = '<UNK>'\n",
    "\n",
    "np.random.seed(4242)\n",
    "random.seed(4242)"
   ]
  },
  {
   "cell_type": "code",
   "execution_count": 2,
   "metadata": {},
   "outputs": [
    {
     "data": {
      "text/plain": [
       "device(type='cuda')"
      ]
     },
     "execution_count": 2,
     "metadata": {},
     "output_type": "execute_result"
    }
   ],
   "source": [
    "USE_GPU = True\n",
    "\n",
    "if USE_GPU and torch.cuda.is_available():\n",
    "    device = torch.device('cuda')\n",
    "else:\n",
    "    device = torch.device('cpu')\n",
    "\n",
    "device"
   ]
  },
  {
   "cell_type": "code",
   "execution_count": 3,
   "metadata": {},
   "outputs": [],
   "source": [
    "from collections import Counter\n",
    "\n",
    "\n",
    "class CBOWBatcher:\n",
    "    THRESHOLD = 5\n",
    "    def __init__(self, dataset, window_size=2, threshold=THRESHOLD):\n",
    "        self.window_size = window_size\n",
    "        self.threshold = threshold\n",
    "        self.c = Counter(dataset)\n",
    "        # all the words we have plus <UNK> token for rare words\n",
    "        unique = {w for w in dataset if self.c[w] > self.threshold}\n",
    "        self.word2ind = {w: i for i, w in enumerate(sorted(unique))}\n",
    "        self.word2ind[UNK_TOKEN] = len(self.word2ind)\n",
    "        self.ind2word = {i: w for w, i in self.word2ind.items()}\n",
    "        # We need to store only the numbers of the words here, as we have their numbers already\n",
    "        # we create a padded array for tokens to process all the words from corpus\n",
    "        # remove all the uncommon words here\n",
    "        self.tokens = ([self.word2ind[UNK_TOKEN]] * window_size) +\\\n",
    "            [self.word2ind.get(w, self.word2ind[UNK_TOKEN]) for w in dataset] +\\\n",
    "            ([self.word2ind[UNK_TOKEN]] * window_size)\n",
    "        self.vocab_size = len(set(self.tokens))\n",
    "        assert self.vocab_size == len(self.word2ind)\n",
    "        assert all(t < self.vocab_size for t in self.tokens)\n",
    "        pprint(f'Corpus size: {len(dataset)}')\n",
    "        pprint(f'Actual count of words used: {self.vocab_size}')\n",
    "        pprint(f'{len(dataset)} words in dataset tokenized to {len(self.tokens)} tokens')\n",
    "\n",
    "    def get_batch(self, batch_size=512):\n",
    "        X = [None] * batch_size\n",
    "        y = [None] * batch_size\n",
    "        current = 0\n",
    "        for start in np.random.permutation(range(len(self.tokens) - 2 * window_size)):\n",
    "            center = start + window_size\n",
    "            X[current] = [self.tokens[i]\n",
    "                          for i in range(center - window_size, center + window_size + 1) if i != center]\n",
    "            y[current] = self.tokens[center]\n",
    "            current += 1\n",
    "            if current == batch_size:\n",
    "                # We need the generator, so only `yield ` is an option here\n",
    "                yield torch.from_numpy(np.asarray(X)).to(device=device),\\\n",
    "                      torch.from_numpy(np.asarray(y)).to(device=device)\n",
    "                # clean the buffer after we yielded it and we got back our process here\n",
    "                X = [None] * batch_size\n",
    "                y = [None] * batch_size\n",
    "                current = 0\n",
    "        if current:\n",
    "            # if batch didn't get to the full size but the corpus ended\n",
    "            yield torch.from_numpy(np.asarray(X[:current])).to(device=device),\\\n",
    "                  torch.from_numpy(np.asarray(y[:current])).to(device=device)         \n"
   ]
  },
  {
   "cell_type": "code",
   "execution_count": 4,
   "metadata": {},
   "outputs": [
    {
     "name": "stdout",
     "output_type": "stream",
     "text": [
      "'Corpus size: 17005207'\n",
      "'Actual count of words used: 58113'\n",
      "'17005207 words in dataset tokenized to 17005211 tokens'\n"
     ]
    }
   ],
   "source": [
    "test8_Data = Path.cwd() / 'text8'\n",
    "with test8_Data.open() as f:\n",
    "    # 1. simple cleaning: lowering all the words\n",
    "    text8 = [a.lower() for line in f for a in line.split()]\n",
    "    batcher = CBOWBatcher(text8, threshold=6)"
   ]
  },
  {
   "cell_type": "code",
   "execution_count": 14,
   "metadata": {},
   "outputs": [],
   "source": [
    "class CBOWW2V(nn.Module):\n",
    "    def __init__(self, vocab_size, embedding_size, hidden_size=256, window=2):\n",
    "        super().__init__()\n",
    "        self.embed = nn.Embedding(vocab_size, embedding_size * window * 2)\n",
    "        self.relu = nn.ReLU(inplace=False)\n",
    "        self.W1 = nn.Linear(embedding_size * window * 2, vocab_size)\n",
    "        nn.init.xavier_normal_(self.W1.weight)\n",
    "\n",
    "    def forward(self, x):\n",
    "        # get the embedding by indices\n",
    "        x = self.embed(x)\n",
    "        # hidden linear layer\n",
    "        x = self.relu(x)\n",
    "        # get the predictions\n",
    "        x = self.W1(x)\n",
    "        # we need only 1 word by the given ones\n",
    "        # here we got 4 options, so let's average them\n",
    "        return x.mean(dim=1)\n",
    "\n",
    "\n",
    "def test_CBOWW2V_shapes():\n",
    "    window_size = 2\n",
    "    batch_size = 64\n",
    "    vocab_size = 50\n",
    "    x = torch.zeros((batch_size, window_size * 2), dtype=torch.long)\n",
    "    model = CBOWW2V(vocab_size, 42)\n",
    "    scores = model(x)\n",
    "    assert scores.size() == torch.Size([batch_size, vocab_size]), scores.size()\n",
    "\n",
    "\n",
    "test_CBOWW2V_shapes()\n"
   ]
  },
  {
   "cell_type": "code",
   "execution_count": 5,
   "metadata": {},
   "outputs": [],
   "source": [
    "from torch.utils.tensorboard import SummaryWriter\n",
    "from tqdm.notebook import tqdm\n",
    "\n",
    "\n",
    "EACH_PRINT = 100\n",
    "writer = SummaryWriter() \n",
    "def train_model(model, optimizer, epochs=1, max_steps=None):\n",
    "    loss = nn.CrossEntropyLoss()\n",
    "    for e in range(epochs):\n",
    "        total_loss = 0\n",
    "        t = tqdm(batcher.get_batch(1024), desc=f'Epoch {e}')\n",
    "        for step, (x, y) in enumerate(t):\n",
    "            if step > max_steps:\n",
    "                break\n",
    "            model.train()\n",
    "            x = x.to(device=device, dtype=torch.long)\n",
    "            y = y.to(device=device, dtype=torch.long)\n",
    "\n",
    "            scores = model(x)\n",
    "            check = loss(scores, y)\n",
    "\n",
    "            optimizer.zero_grad()\n",
    "            check.backward()\n",
    "            optimizer.step()\n",
    "            total_loss += check.data\n",
    "            average_loss = float(total_loss / (step + 1))\n",
    "            writer.add_scalar('Current loss/train', check.data, step)\n",
    "            writer.add_scalar('Total loss/train', total_loss, step)\n",
    "            writer.add_scalar('Average loss/train', average_loss, step)\n",
    "            t.set_postfix(loss=check.data)\n",
    "            if not step % EACH_PRINT:\n",
    "                pprint(f'Iteration {step}, current loss = {check.data:.4f}, average loss = {average_loss:.4f}')\n"
   ]
  },
  {
   "cell_type": "code",
   "execution_count": 7,
   "metadata": {},
   "outputs": [
    {
     "name": "stdout",
     "output_type": "stream",
     "text": [
      "device(type='cuda')\n"
     ]
    },
    {
     "data": {
      "application/vnd.jupyter.widget-view+json": {
       "model_id": "772f894d29224a70aa559f1816b9a69b",
       "version_major": 2,
       "version_minor": 0
      },
      "text/plain": [
       "HBox(children=(FloatProgress(value=1.0, bar_style='info', description='Epoch 0', max=1.0, style=ProgressStyle(…"
      ]
     },
     "metadata": {},
     "output_type": "display_data"
    },
    {
     "name": "stdout",
     "output_type": "stream",
     "text": [
      "'Iteration 0, loss = 10.9621'\n",
      "'Iteration 100, loss = 8.4109'\n",
      "'Iteration 200, loss = 8.2269'\n",
      "'Iteration 300, loss = 9.8921'\n",
      "'Iteration 400, loss = 10.7657'\n",
      "'Iteration 500, loss = 7.2920'\n",
      "'Iteration 600, loss = 7.5492'\n",
      "'Iteration 700, loss = 8.0928'\n",
      "'Iteration 800, loss = 10.1871'\n",
      "'Iteration 900, loss = 7.1046'\n",
      "'Iteration 1000, loss = 9.2898'\n",
      "'Iteration 1100, loss = 6.7658'\n",
      "'Iteration 1200, loss = 7.3498'\n",
      "'Iteration 1300, loss = 7.7469'\n",
      "'Iteration 1400, loss = 8.1395'\n",
      "'Iteration 1500, loss = 7.5857'\n",
      "'Iteration 1600, loss = 6.9428'\n",
      "'Iteration 1700, loss = 7.1464'\n",
      "'Iteration 1800, loss = 7.0798'\n",
      "'Iteration 1900, loss = 6.7013'\n",
      "'Iteration 2000, loss = 7.1450'\n",
      "'Iteration 2100, loss = 6.9293'\n",
      "'Iteration 2200, loss = 7.1913'\n",
      "'Iteration 2300, loss = 6.7560'\n",
      "'Iteration 2400, loss = 6.8238'\n",
      "'Iteration 2500, loss = 6.8997'\n",
      "'Iteration 2600, loss = 6.3742'\n",
      "'Iteration 2700, loss = 6.6186'\n",
      "'Iteration 2800, loss = 6.8392'\n",
      "'Iteration 2900, loss = 7.0350'\n",
      "'Iteration 3000, loss = 6.7030'\n",
      "'Iteration 3100, loss = 6.9854'\n",
      "'Iteration 3200, loss = 6.9794'\n",
      "'Iteration 3300, loss = 6.7175'\n",
      "'Iteration 3400, loss = 6.7716'\n",
      "'Iteration 3500, loss = 6.5883'\n",
      "'Iteration 3600, loss = 6.6971'\n",
      "'Iteration 3700, loss = 6.8767'\n",
      "'Iteration 3800, loss = 6.8322'\n",
      "'Iteration 3900, loss = 6.6664'\n",
      "'Iteration 4000, loss = 6.6641'\n",
      "'Iteration 4100, loss = 6.8012'\n",
      "'Iteration 4200, loss = 6.7694'\n",
      "'Iteration 4300, loss = 6.6623'\n",
      "'Iteration 4400, loss = 6.5419'\n",
      "'Iteration 4500, loss = 6.7121'\n",
      "'Iteration 4600, loss = 6.6705'\n",
      "'Iteration 4700, loss = 6.7293'\n",
      "'Iteration 4800, loss = 6.5689'\n",
      "'Iteration 4900, loss = 6.6791'\n",
      "'Iteration 5000, loss = 6.5549'\n",
      "'Iteration 5100, loss = 6.6761'\n",
      "'Iteration 5200, loss = 6.3707'\n",
      "'Iteration 5300, loss = 6.7611'\n",
      "'Iteration 5400, loss = 6.4771'\n",
      "'Iteration 5500, loss = 6.7754'\n",
      "'Iteration 5600, loss = 6.6897'\n",
      "'Iteration 5700, loss = 6.5328'\n",
      "'Iteration 5800, loss = 6.4442'\n",
      "'Iteration 5900, loss = 6.5834'\n",
      "'Iteration 6000, loss = 6.7507'\n",
      "'Iteration 6100, loss = 6.8966'\n",
      "'Iteration 6200, loss = 6.6605'\n",
      "'Iteration 6300, loss = 6.5554'\n",
      "'Iteration 6400, loss = 6.7305'\n",
      "'Iteration 6500, loss = 6.5343'\n",
      "'Iteration 6600, loss = 6.5842'\n",
      "'Iteration 6700, loss = 6.7499'\n",
      "'Iteration 6800, loss = 6.7528'\n",
      "'Iteration 6900, loss = 6.5310'\n",
      "'Iteration 7000, loss = 6.7640'\n",
      "'Iteration 7100, loss = 6.6587'\n",
      "'Iteration 7200, loss = 6.7005'\n",
      "'Iteration 7300, loss = 6.7409'\n",
      "'Iteration 7400, loss = 6.8085'\n",
      "'Iteration 7500, loss = 6.6462'\n",
      "'Iteration 7600, loss = 6.7993'\n",
      "'Iteration 7700, loss = 6.6391'\n",
      "'Iteration 7800, loss = 6.5319'\n",
      "'Iteration 7900, loss = 6.8201'\n",
      "'Iteration 8000, loss = 6.5658'\n",
      "'Iteration 8100, loss = 6.5004'\n",
      "'Iteration 8200, loss = 6.6328'\n",
      "'Iteration 8300, loss = 6.5759'\n",
      "'Iteration 8400, loss = 6.5485'\n",
      "'Iteration 8500, loss = 6.7696'\n",
      "'Iteration 8600, loss = 6.6458'\n",
      "'Iteration 8700, loss = 6.6876'\n",
      "'Iteration 8800, loss = 6.5332'\n",
      "'Iteration 8900, loss = 6.6601'\n",
      "'Iteration 9000, loss = 6.7633'\n",
      "'Iteration 9100, loss = 6.8278'\n",
      "'Iteration 9200, loss = 6.8368'\n",
      "'Iteration 9300, loss = 6.6446'\n",
      "'Iteration 9400, loss = 6.5890'\n",
      "'Iteration 9500, loss = 6.7827'\n",
      "'Iteration 9600, loss = 6.7259'\n",
      "'Iteration 9700, loss = 6.5923'\n",
      "'Iteration 9800, loss = 6.6287'\n",
      "'Iteration 9900, loss = 6.7946'\n",
      "'Iteration 10000, loss = 6.7943'\n",
      "'Iteration 10100, loss = 6.8418'\n",
      "'Iteration 10200, loss = 6.6815'\n",
      "'Iteration 10300, loss = 6.6181'\n",
      "'Iteration 10400, loss = 6.6001'\n",
      "'Iteration 10500, loss = 6.7924'\n",
      "'Iteration 10600, loss = 6.6970'\n",
      "'Iteration 10700, loss = 6.8504'\n",
      "'Iteration 10800, loss = 6.7210'\n",
      "'Iteration 10900, loss = 6.8634'\n",
      "'Iteration 11000, loss = 6.5604'\n",
      "'Iteration 11100, loss = 6.6821'\n",
      "'Iteration 11200, loss = 6.8213'\n",
      "'Iteration 11300, loss = 6.7283'\n",
      "'Iteration 11400, loss = 6.5531'\n",
      "'Iteration 11500, loss = 6.8268'\n",
      "'Iteration 11600, loss = 6.6714'\n",
      "'Iteration 11700, loss = 6.8859'\n",
      "'Iteration 11800, loss = 6.6786'\n",
      "'Iteration 11900, loss = 6.7301'\n",
      "'Iteration 12000, loss = 6.6935'\n",
      "'Iteration 12100, loss = 6.7047'\n",
      "'Iteration 12200, loss = 6.6332'\n",
      "'Iteration 12300, loss = 6.7997'\n",
      "'Iteration 12400, loss = 6.6927'\n",
      "'Iteration 12500, loss = 6.6301'\n",
      "'Iteration 12600, loss = 6.8412'\n",
      "'Iteration 12700, loss = 6.9122'\n",
      "'Iteration 12800, loss = 6.7355'\n",
      "'Iteration 12900, loss = 6.7954'\n",
      "'Iteration 13000, loss = 6.7939'\n",
      "'Iteration 13100, loss = 6.5007'\n",
      "'Iteration 13200, loss = 6.8181'\n",
      "'Iteration 13300, loss = 6.8194'\n",
      "'Iteration 13400, loss = 6.8346'\n",
      "'Iteration 13500, loss = 6.6754'\n",
      "'Iteration 13600, loss = 6.8282'\n",
      "'Iteration 13700, loss = 6.7295'\n",
      "'Iteration 13800, loss = 6.7006'\n",
      "'Iteration 13900, loss = 6.7225'\n",
      "'Iteration 14000, loss = 6.6893'\n",
      "'Iteration 14100, loss = 6.6878'\n",
      "'Iteration 14200, loss = 6.9039'\n",
      "'Iteration 14300, loss = 6.6455'\n",
      "'Iteration 14400, loss = 6.7878'\n",
      "'Iteration 14500, loss = 6.8023'\n",
      "'Iteration 14600, loss = 6.6824'\n",
      "'Iteration 14700, loss = 6.7668'\n",
      "'Iteration 14800, loss = 6.6980'\n",
      "'Iteration 14900, loss = 6.4648'\n",
      "'Iteration 15000, loss = 6.6510'\n",
      "'Iteration 15100, loss = 6.6783'\n",
      "'Iteration 15200, loss = 6.5863'\n",
      "'Iteration 15300, loss = 6.9528'\n",
      "'Iteration 15400, loss = 6.6279'\n",
      "'Iteration 15500, loss = 6.4893'\n",
      "'Iteration 15600, loss = 6.6614'\n",
      "'Iteration 15700, loss = 6.7651'\n",
      "'Iteration 15800, loss = 6.5469'\n",
      "'Iteration 15900, loss = 6.7969'\n",
      "'Iteration 16000, loss = 6.6208'\n",
      "'Iteration 16100, loss = 6.7578'\n",
      "'Iteration 16200, loss = 6.7106'\n",
      "'Iteration 16300, loss = 6.5320'\n",
      "'Iteration 16400, loss = 6.5212'\n",
      "'Iteration 16500, loss = 6.8661'\n",
      "'Iteration 16600, loss = 6.8594'\n",
      "\n"
     ]
    }
   ],
   "source": [
    "# pprint(device)\n",
    "\n",
    "# learning_rate = 1.568\n",
    "# embedding_size = 222\n",
    "# window_size = 2\n",
    "# model = CBOWW2V(batcher.vocab_size, embedding_size)\n",
    "# model = model.to(device=device)\n",
    "# optimizer = optim.ASGD(model.parameters(), lr=learning_rate)\n",
    "\n",
    "# train_model(model, optimizer)"
   ]
  },
  {
   "cell_type": "code",
   "execution_count": 7,
   "metadata": {},
   "outputs": [],
   "source": [
    "# results for the model are:\n",
    "# 16607/? [4:12:24<00:00, 1.10it/s, loss=tensor(6.5550, device='cuda:0')]\n",
    "# This is 1 epoch on the whole corpus\n"
   ]
  },
  {
   "cell_type": "markdown",
   "metadata": {},
   "source": [
    "![Loss](imgs/LossGraph.png)"
   ]
  },
  {
   "cell_type": "code",
   "execution_count": 8,
   "metadata": {},
   "outputs": [
    {
     "name": "stdout",
     "output_type": "stream",
     "text": [
      "device(type='cuda')\n"
     ]
    },
    {
     "data": {
      "application/vnd.jupyter.widget-view+json": {
       "model_id": "b6f190b2d81e49f7bbea28804eee427b",
       "version_major": 2,
       "version_minor": 0
      },
      "text/plain": [
       "HBox(children=(FloatProgress(value=1.0, bar_style='info', description='Epoch 0', max=1.0, style=ProgressStyle(…"
      ]
     },
     "metadata": {},
     "output_type": "display_data"
    },
    {
     "name": "stdout",
     "output_type": "stream",
     "text": [
      "'Iteration 0, current loss = 10.9680, average loss = 10.9680'\n",
      "'Iteration 100, current loss = 9.1175, average loss = 9.9843'\n",
      "'Iteration 200, current loss = 8.6529, average loss = 9.4582'\n",
      "'Iteration 300, current loss = 8.4976, average loss = 9.1552'\n",
      "'Iteration 400, current loss = 8.1041, average loss = 8.9558'\n",
      "'Iteration 500, current loss = 8.1481, average loss = 8.8054'\n",
      "'Iteration 600, current loss = 8.1087, average loss = 8.6950'\n",
      "'Iteration 700, current loss = 8.0470, average loss = 8.6041'\n"
     ]
    },
    {
     "data": {
      "application/vnd.jupyter.widget-view+json": {
       "model_id": "bd35d9835e6846ebab0085a10cf4de3b",
       "version_major": 2,
       "version_minor": 0
      },
      "text/plain": [
       "HBox(children=(FloatProgress(value=1.0, bar_style='info', description='Epoch 1', max=1.0, style=ProgressStyle(…"
      ]
     },
     "metadata": {},
     "output_type": "display_data"
    },
    {
     "name": "stdout",
     "output_type": "stream",
     "text": [
      "'Iteration 0, current loss = 8.0247, average loss = 8.0247'\n",
      "'Iteration 100, current loss = 7.9059, average loss = 7.9931'\n",
      "'Iteration 200, current loss = 8.2303, average loss = 7.9785'\n",
      "'Iteration 300, current loss = 7.7628, average loss = 7.9552'\n",
      "'Iteration 400, current loss = 7.8094, average loss = 7.9355'\n",
      "'Iteration 500, current loss = 7.8529, average loss = 7.9205'\n",
      "'Iteration 600, current loss = 7.6086, average loss = 7.9012'\n",
      "'Iteration 700, current loss = 7.6729, average loss = 7.8821'\n"
     ]
    },
    {
     "data": {
      "application/vnd.jupyter.widget-view+json": {
       "model_id": "262abf5d1e42416280bd815513306130",
       "version_major": 2,
       "version_minor": 0
      },
      "text/plain": [
       "HBox(children=(FloatProgress(value=1.0, bar_style='info', description='Epoch 2', max=1.0, style=ProgressStyle(…"
      ]
     },
     "metadata": {},
     "output_type": "display_data"
    },
    {
     "name": "stdout",
     "output_type": "stream",
     "text": [
      "'Iteration 0, current loss = 7.8019, average loss = 7.8019'\n",
      "'Iteration 100, current loss = 7.7943, average loss = 7.7382'\n",
      "'Iteration 200, current loss = 7.8658, average loss = 7.7205'\n",
      "'Iteration 300, current loss = 7.5498, average loss = 7.7065'\n",
      "'Iteration 400, current loss = 7.7082, average loss = 7.7016'\n",
      "'Iteration 500, current loss = 7.6759, average loss = 7.6934'\n",
      "'Iteration 600, current loss = 7.6919, average loss = 7.6850'\n",
      "'Iteration 700, current loss = 7.7010, average loss = 7.6764'\n"
     ]
    },
    {
     "data": {
      "application/vnd.jupyter.widget-view+json": {
       "model_id": "35957afc7d8d44a09fcfe465df75b7e2",
       "version_major": 2,
       "version_minor": 0
      },
      "text/plain": [
       "HBox(children=(FloatProgress(value=1.0, bar_style='info', description='Epoch 3', max=1.0, style=ProgressStyle(…"
      ]
     },
     "metadata": {},
     "output_type": "display_data"
    },
    {
     "name": "stdout",
     "output_type": "stream",
     "text": [
      "'Iteration 0, current loss = 7.4418, average loss = 7.4418'\n",
      "'Iteration 100, current loss = 7.6411, average loss = 7.5812'\n",
      "'Iteration 200, current loss = 7.5978, average loss = 7.5744'\n",
      "'Iteration 300, current loss = 7.5095, average loss = 7.5723'\n",
      "'Iteration 400, current loss = 7.4470, average loss = 7.5719'\n",
      "'Iteration 500, current loss = 7.5134, average loss = 7.5641'\n",
      "'Iteration 600, current loss = 7.3744, average loss = 7.5571'\n",
      "'Iteration 700, current loss = 7.7160, average loss = 7.5485'\n"
     ]
    },
    {
     "data": {
      "application/vnd.jupyter.widget-view+json": {
       "model_id": "aa62a23fbf6b4cfab16c687509d5643f",
       "version_major": 2,
       "version_minor": 0
      },
      "text/plain": [
       "HBox(children=(FloatProgress(value=1.0, bar_style='info', description='Epoch 4', max=1.0, style=ProgressStyle(…"
      ]
     },
     "metadata": {},
     "output_type": "display_data"
    },
    {
     "name": "stdout",
     "output_type": "stream",
     "text": [
      "'Iteration 0, current loss = 7.4782, average loss = 7.4782'\n",
      "'Iteration 100, current loss = 7.3805, average loss = 7.4965'\n",
      "'Iteration 200, current loss = 7.2169, average loss = 7.4731'\n",
      "'Iteration 300, current loss = 7.5933, average loss = 7.4820'\n",
      "'Iteration 400, current loss = 7.6021, average loss = 7.4738'\n",
      "'Iteration 500, current loss = 7.3354, average loss = 7.4703'\n",
      "'Iteration 600, current loss = 7.4310, average loss = 7.4674'\n",
      "'Iteration 700, current loss = 7.4962, average loss = 7.4598'\n"
     ]
    },
    {
     "data": {
      "application/vnd.jupyter.widget-view+json": {
       "model_id": "2f6e407b5c844635b1801ba3398d8ce5",
       "version_major": 2,
       "version_minor": 0
      },
      "text/plain": [
       "HBox(children=(FloatProgress(value=1.0, bar_style='info', description='Epoch 5', max=1.0, style=ProgressStyle(…"
      ]
     },
     "metadata": {},
     "output_type": "display_data"
    },
    {
     "name": "stdout",
     "output_type": "stream",
     "text": [
      "'Iteration 0, current loss = 7.4099, average loss = 7.4099'\n",
      "'Iteration 100, current loss = 7.4543, average loss = 7.4244'\n",
      "'Iteration 200, current loss = 7.4628, average loss = 7.4186'\n",
      "'Iteration 300, current loss = 7.3844, average loss = 7.4103'\n",
      "'Iteration 400, current loss = 7.3773, average loss = 7.4003'\n",
      "'Iteration 500, current loss = 7.1500, average loss = 7.3967'\n",
      "'Iteration 600, current loss = 7.3995, average loss = 7.3919'\n",
      "'Iteration 700, current loss = 7.4419, average loss = 7.3897'\n"
     ]
    },
    {
     "data": {
      "application/vnd.jupyter.widget-view+json": {
       "model_id": "a4db8b14df494cdc8c3cdf90c59142a9",
       "version_major": 2,
       "version_minor": 0
      },
      "text/plain": [
       "HBox(children=(FloatProgress(value=1.0, bar_style='info', description='Epoch 6', max=1.0, style=ProgressStyle(…"
      ]
     },
     "metadata": {},
     "output_type": "display_data"
    },
    {
     "name": "stdout",
     "output_type": "stream",
     "text": [
      "'Iteration 0, current loss = 7.3353, average loss = 7.3353'\n",
      "'Iteration 100, current loss = 7.2744, average loss = 7.3554'\n",
      "'Iteration 200, current loss = 7.5885, average loss = 7.3536'\n",
      "'Iteration 300, current loss = 7.3594, average loss = 7.3457'\n",
      "'Iteration 400, current loss = 7.3388, average loss = 7.3371'\n",
      "'Iteration 500, current loss = 7.3997, average loss = 7.3339'\n",
      "'Iteration 600, current loss = 7.3427, average loss = 7.3323'\n",
      "'Iteration 700, current loss = 7.4980, average loss = 7.3287'\n"
     ]
    },
    {
     "data": {
      "application/vnd.jupyter.widget-view+json": {
       "model_id": "26ff976950114ff5936b6b1b91fd7b49",
       "version_major": 2,
       "version_minor": 0
      },
      "text/plain": [
       "HBox(children=(FloatProgress(value=1.0, bar_style='info', description='Epoch 7', max=1.0, style=ProgressStyle(…"
      ]
     },
     "metadata": {},
     "output_type": "display_data"
    },
    {
     "name": "stdout",
     "output_type": "stream",
     "text": [
      "'Iteration 0, current loss = 7.3640, average loss = 7.3640'\n",
      "'Iteration 100, current loss = 7.3848, average loss = 7.3240'\n",
      "'Iteration 200, current loss = 7.3153, average loss = 7.3159'\n",
      "'Iteration 300, current loss = 7.2021, average loss = 7.3072'\n",
      "'Iteration 400, current loss = 7.4389, average loss = 7.3004'\n",
      "'Iteration 500, current loss = 7.2328, average loss = 7.2982'\n",
      "'Iteration 600, current loss = 7.1257, average loss = 7.2935'\n",
      "'Iteration 700, current loss = 7.3307, average loss = 7.2913'\n"
     ]
    },
    {
     "data": {
      "application/vnd.jupyter.widget-view+json": {
       "model_id": "90175e7aaa0147099e3b843c656d9925",
       "version_major": 2,
       "version_minor": 0
      },
      "text/plain": [
       "HBox(children=(FloatProgress(value=1.0, bar_style='info', description='Epoch 8', max=1.0, style=ProgressStyle(…"
      ]
     },
     "metadata": {},
     "output_type": "display_data"
    },
    {
     "name": "stdout",
     "output_type": "stream",
     "text": [
      "'Iteration 0, current loss = 7.3852, average loss = 7.3852'\n",
      "'Iteration 100, current loss = 7.4382, average loss = 7.2554'\n",
      "'Iteration 200, current loss = 7.1681, average loss = 7.2598'\n",
      "'Iteration 300, current loss = 7.1810, average loss = 7.2585'\n",
      "'Iteration 400, current loss = 7.2736, average loss = 7.2502'\n",
      "'Iteration 500, current loss = 7.2018, average loss = 7.2486'\n",
      "'Iteration 600, current loss = 7.2317, average loss = 7.2432'\n",
      "'Iteration 700, current loss = 7.1801, average loss = 7.2414'\n"
     ]
    },
    {
     "data": {
      "application/vnd.jupyter.widget-view+json": {
       "model_id": "3f7c3687e0ab43d8b73b12e743f9ffd0",
       "version_major": 2,
       "version_minor": 0
      },
      "text/plain": [
       "HBox(children=(FloatProgress(value=1.0, bar_style='info', description='Epoch 9', max=1.0, style=ProgressStyle(…"
      ]
     },
     "metadata": {},
     "output_type": "display_data"
    },
    {
     "name": "stdout",
     "output_type": "stream",
     "text": [
      "'Iteration 0, current loss = 7.2066, average loss = 7.2066'\n",
      "'Iteration 100, current loss = 7.3967, average loss = 7.2225'\n",
      "'Iteration 200, current loss = 7.2669, average loss = 7.2240'\n",
      "'Iteration 300, current loss = 7.2199, average loss = 7.2141'\n",
      "'Iteration 400, current loss = 7.2148, average loss = 7.2115'\n",
      "'Iteration 500, current loss = 6.9840, average loss = 7.2127'\n",
      "'Iteration 600, current loss = 7.1612, average loss = 7.2111'\n",
      "'Iteration 700, current loss = 7.0293, average loss = 7.2105'\n"
     ]
    }
   ],
   "source": [
    "pprint(device)\n",
    "\n",
    "learning_rate = 0.01568\n",
    "embedding_size = 222\n",
    "window_size = 2\n",
    "model2 = CBOWW2V(batcher.vocab_size, embedding_size)\n",
    "model2 = model2.to(device=device)\n",
    "optimizer2 = optim.ASGD(model2.parameters(), lr=learning_rate)\n",
    "\n",
    "train_model(model2, optimizer2, epochs=10, max_steps=700)"
   ]
  },
  {
   "cell_type": "code",
   "execution_count": 9,
   "metadata": {},
   "outputs": [
    {
     "data": {
      "application/vnd.jupyter.widget-view+json": {
       "model_id": "695cdd153e454e569a0684ff73c653e6",
       "version_major": 2,
       "version_minor": 0
      },
      "text/plain": [
       "HBox(children=(FloatProgress(value=1.0, bar_style='info', description='Epoch 0', max=1.0, style=ProgressStyle(…"
      ]
     },
     "metadata": {},
     "output_type": "display_data"
    },
    {
     "name": "stdout",
     "output_type": "stream",
     "text": [
      "'Iteration 0, current loss = 7.1295, average loss = 7.1295'\n",
      "'Iteration 100, current loss = 7.2120, average loss = 7.1972'\n",
      "'Iteration 200, current loss = 7.1200, average loss = 7.2000'\n",
      "'Iteration 300, current loss = 7.2095, average loss = 7.1947'\n",
      "'Iteration 400, current loss = 7.2956, average loss = 7.1919'\n",
      "'Iteration 500, current loss = 7.0616, average loss = 7.1899'\n",
      "'Iteration 600, current loss = 7.1213, average loss = 7.1869'\n",
      "'Iteration 700, current loss = 7.0558, average loss = 7.1831'\n"
     ]
    },
    {
     "data": {
      "application/vnd.jupyter.widget-view+json": {
       "model_id": "ed91510f176a447f8702d883f580031b",
       "version_major": 2,
       "version_minor": 0
      },
      "text/plain": [
       "HBox(children=(FloatProgress(value=1.0, bar_style='info', description='Epoch 1', max=1.0, style=ProgressStyle(…"
      ]
     },
     "metadata": {},
     "output_type": "display_data"
    },
    {
     "name": "stdout",
     "output_type": "stream",
     "text": [
      "'Iteration 0, current loss = 7.1132, average loss = 7.1132'\n",
      "'Iteration 100, current loss = 7.0275, average loss = 7.1538'\n",
      "'Iteration 200, current loss = 7.2400, average loss = 7.1659'\n",
      "'Iteration 300, current loss = 7.0808, average loss = 7.1666'\n",
      "'Iteration 400, current loss = 7.1553, average loss = 7.1674'\n",
      "'Iteration 500, current loss = 7.1802, average loss = 7.1639'\n",
      "'Iteration 600, current loss = 7.3558, average loss = 7.1584'\n",
      "'Iteration 700, current loss = 7.1528, average loss = 7.1511'\n"
     ]
    },
    {
     "data": {
      "application/vnd.jupyter.widget-view+json": {
       "model_id": "d5e2468a734641839e70b7f27f7b30a2",
       "version_major": 2,
       "version_minor": 0
      },
      "text/plain": [
       "HBox(children=(FloatProgress(value=1.0, bar_style='info', description='Epoch 2', max=1.0, style=ProgressStyle(…"
      ]
     },
     "metadata": {},
     "output_type": "display_data"
    },
    {
     "name": "stdout",
     "output_type": "stream",
     "text": [
      "'Iteration 0, current loss = 7.2398, average loss = 7.2398'\n",
      "'Iteration 100, current loss = 7.3172, average loss = 7.1277'\n",
      "'Iteration 200, current loss = 7.2658, average loss = 7.1313'\n",
      "'Iteration 300, current loss = 7.1282, average loss = 7.1333'\n",
      "'Iteration 400, current loss = 7.1849, average loss = 7.1337'\n",
      "'Iteration 500, current loss = 7.1314, average loss = 7.1338'\n",
      "'Iteration 600, current loss = 7.1601, average loss = 7.1331'\n",
      "'Iteration 700, current loss = 7.1546, average loss = 7.1313'\n"
     ]
    },
    {
     "data": {
      "application/vnd.jupyter.widget-view+json": {
       "model_id": "ca06b3634a60405f955c937cd16cf600",
       "version_major": 2,
       "version_minor": 0
      },
      "text/plain": [
       "HBox(children=(FloatProgress(value=1.0, bar_style='info', description='Epoch 3', max=1.0, style=ProgressStyle(…"
      ]
     },
     "metadata": {},
     "output_type": "display_data"
    },
    {
     "name": "stdout",
     "output_type": "stream",
     "text": [
      "'Iteration 0, current loss = 7.1869, average loss = 7.1869'\n",
      "'Iteration 100, current loss = 7.2182, average loss = 7.0946'\n",
      "'Iteration 200, current loss = 7.2987, average loss = 7.1055'\n",
      "'Iteration 300, current loss = 7.2859, average loss = 7.1060'\n",
      "'Iteration 400, current loss = 7.1160, average loss = 7.1065'\n",
      "'Iteration 500, current loss = 6.9330, average loss = 7.1038'\n",
      "'Iteration 600, current loss = 7.0466, average loss = 7.1023'\n",
      "'Iteration 700, current loss = 7.1770, average loss = 7.1010'\n"
     ]
    },
    {
     "data": {
      "application/vnd.jupyter.widget-view+json": {
       "model_id": "e526695814074898bbdcc0abd3b3b521",
       "version_major": 2,
       "version_minor": 0
      },
      "text/plain": [
       "HBox(children=(FloatProgress(value=1.0, bar_style='info', description='Epoch 4', max=1.0, style=ProgressStyle(…"
      ]
     },
     "metadata": {},
     "output_type": "display_data"
    },
    {
     "name": "stdout",
     "output_type": "stream",
     "text": [
      "'Iteration 0, current loss = 7.1334, average loss = 7.1334'\n",
      "'Iteration 100, current loss = 7.2832, average loss = 7.1116'\n",
      "'Iteration 200, current loss = 7.0400, average loss = 7.0942'\n",
      "'Iteration 300, current loss = 7.0896, average loss = 7.0943'\n",
      "'Iteration 400, current loss = 7.1456, average loss = 7.0897'\n",
      "'Iteration 500, current loss = 6.9408, average loss = 7.0889'\n",
      "'Iteration 600, current loss = 6.9917, average loss = 7.0860'\n",
      "'Iteration 700, current loss = 7.0964, average loss = 7.0847'\n"
     ]
    },
    {
     "data": {
      "application/vnd.jupyter.widget-view+json": {
       "model_id": "cf251a3de9b54b6abac23f643411cb8b",
       "version_major": 2,
       "version_minor": 0
      },
      "text/plain": [
       "HBox(children=(FloatProgress(value=1.0, bar_style='info', description='Epoch 5', max=1.0, style=ProgressStyle(…"
      ]
     },
     "metadata": {},
     "output_type": "display_data"
    },
    {
     "name": "stdout",
     "output_type": "stream",
     "text": [
      "'Iteration 0, current loss = 7.0194, average loss = 7.0194'\n",
      "'Iteration 100, current loss = 7.0589, average loss = 7.0737'\n",
      "'Iteration 200, current loss = 6.9681, average loss = 7.0737'\n",
      "'Iteration 300, current loss = 6.8842, average loss = 7.0706'\n",
      "'Iteration 400, current loss = 6.9667, average loss = 7.0719'\n",
      "'Iteration 500, current loss = 7.0857, average loss = 7.0727'\n",
      "'Iteration 600, current loss = 7.1763, average loss = 7.0759'\n",
      "'Iteration 700, current loss = 6.9774, average loss = 7.0775'\n"
     ]
    },
    {
     "data": {
      "application/vnd.jupyter.widget-view+json": {
       "model_id": "ec6659cbcf474cb69ce98311eb9c592e",
       "version_major": 2,
       "version_minor": 0
      },
      "text/plain": [
       "HBox(children=(FloatProgress(value=1.0, bar_style='info', description='Epoch 6', max=1.0, style=ProgressStyle(…"
      ]
     },
     "metadata": {},
     "output_type": "display_data"
    },
    {
     "name": "stdout",
     "output_type": "stream",
     "text": [
      "'Iteration 0, current loss = 7.1645, average loss = 7.1645'\n",
      "'Iteration 100, current loss = 7.2422, average loss = 7.0808'\n",
      "'Iteration 200, current loss = 6.8786, average loss = 7.0740'\n",
      "'Iteration 300, current loss = 7.1151, average loss = 7.0674'\n",
      "'Iteration 400, current loss = 7.1330, average loss = 7.0644'\n",
      "'Iteration 500, current loss = 7.2414, average loss = 7.0602'\n",
      "'Iteration 600, current loss = 6.9224, average loss = 7.0569'\n",
      "'Iteration 700, current loss = 7.0394, average loss = 7.0594'\n"
     ]
    },
    {
     "data": {
      "application/vnd.jupyter.widget-view+json": {
       "model_id": "6a79f13b5afd43e7b9fea817ab6259f3",
       "version_major": 2,
       "version_minor": 0
      },
      "text/plain": [
       "HBox(children=(FloatProgress(value=1.0, bar_style='info', description='Epoch 7', max=1.0, style=ProgressStyle(…"
      ]
     },
     "metadata": {},
     "output_type": "display_data"
    },
    {
     "name": "stdout",
     "output_type": "stream",
     "text": [
      "'Iteration 0, current loss = 6.9963, average loss = 6.9963'\n",
      "'Iteration 100, current loss = 7.0061, average loss = 7.0370'\n",
      "'Iteration 200, current loss = 7.2579, average loss = 7.0404'\n",
      "'Iteration 300, current loss = 6.8759, average loss = 7.0413'\n",
      "'Iteration 400, current loss = 6.9649, average loss = 7.0363'\n",
      "'Iteration 500, current loss = 7.0348, average loss = 7.0333'\n",
      "'Iteration 600, current loss = 6.9418, average loss = 7.0368'\n",
      "'Iteration 700, current loss = 6.9809, average loss = 7.0355'\n"
     ]
    },
    {
     "data": {
      "application/vnd.jupyter.widget-view+json": {
       "model_id": "78ee7d28bb9c4b688f287ff32b8089b0",
       "version_major": 2,
       "version_minor": 0
      },
      "text/plain": [
       "HBox(children=(FloatProgress(value=1.0, bar_style='info', description='Epoch 8', max=1.0, style=ProgressStyle(…"
      ]
     },
     "metadata": {},
     "output_type": "display_data"
    },
    {
     "name": "stdout",
     "output_type": "stream",
     "text": [
      "'Iteration 0, current loss = 7.0157, average loss = 7.0157'\n",
      "'Iteration 100, current loss = 7.0527, average loss = 7.0305'\n",
      "'Iteration 200, current loss = 7.0582, average loss = 7.0375'\n",
      "'Iteration 300, current loss = 7.1487, average loss = 7.0368'\n",
      "'Iteration 400, current loss = 7.0949, average loss = 7.0383'\n",
      "'Iteration 500, current loss = 7.1698, average loss = 7.0384'\n",
      "'Iteration 600, current loss = 6.9820, average loss = 7.0331'\n",
      "'Iteration 700, current loss = 7.2715, average loss = 7.0313'\n"
     ]
    },
    {
     "data": {
      "application/vnd.jupyter.widget-view+json": {
       "model_id": "0041a04ff2b743b791865fdda65cea7d",
       "version_major": 2,
       "version_minor": 0
      },
      "text/plain": [
       "HBox(children=(FloatProgress(value=1.0, bar_style='info', description='Epoch 9', max=1.0, style=ProgressStyle(…"
      ]
     },
     "metadata": {},
     "output_type": "display_data"
    },
    {
     "name": "stdout",
     "output_type": "stream",
     "text": [
      "'Iteration 0, current loss = 7.0320, average loss = 7.0320'\n",
      "'Iteration 100, current loss = 7.1789, average loss = 7.0214'\n",
      "'Iteration 200, current loss = 6.9223, average loss = 7.0115'\n",
      "'Iteration 300, current loss = 7.0856, average loss = 7.0180'\n",
      "'Iteration 400, current loss = 7.1150, average loss = 7.0200'\n",
      "'Iteration 500, current loss = 6.9547, average loss = 7.0209'\n",
      "'Iteration 600, current loss = 6.9909, average loss = 7.0203'\n",
      "'Iteration 700, current loss = 6.9866, average loss = 7.0185'\n"
     ]
    },
    {
     "data": {
      "application/vnd.jupyter.widget-view+json": {
       "model_id": "892094f97c014f7f8bf2c83d59c699a7",
       "version_major": 2,
       "version_minor": 0
      },
      "text/plain": [
       "HBox(children=(FloatProgress(value=1.0, bar_style='info', description='Epoch 10', max=1.0, style=ProgressStyle…"
      ]
     },
     "metadata": {},
     "output_type": "display_data"
    },
    {
     "name": "stdout",
     "output_type": "stream",
     "text": [
      "'Iteration 0, current loss = 7.1111, average loss = 7.1111'\n",
      "'Iteration 100, current loss = 7.0652, average loss = 7.0272'\n",
      "'Iteration 200, current loss = 7.0514, average loss = 7.0172'\n",
      "'Iteration 300, current loss = 7.2668, average loss = 7.0178'\n",
      "'Iteration 400, current loss = 7.1276, average loss = 7.0114'\n",
      "'Iteration 500, current loss = 6.9808, average loss = 7.0094'\n",
      "'Iteration 600, current loss = 7.0064, average loss = 7.0102'\n",
      "'Iteration 700, current loss = 6.9056, average loss = 7.0102'\n"
     ]
    },
    {
     "data": {
      "application/vnd.jupyter.widget-view+json": {
       "model_id": "fad3e7460c864f0caae2c37a2538aea2",
       "version_major": 2,
       "version_minor": 0
      },
      "text/plain": [
       "HBox(children=(FloatProgress(value=1.0, bar_style='info', description='Epoch 11', max=1.0, style=ProgressStyle…"
      ]
     },
     "metadata": {},
     "output_type": "display_data"
    },
    {
     "name": "stdout",
     "output_type": "stream",
     "text": [
      "'Iteration 0, current loss = 7.0241, average loss = 7.0241'\n",
      "'Iteration 100, current loss = 7.0751, average loss = 7.0365'\n",
      "'Iteration 200, current loss = 7.0186, average loss = 7.0205'\n",
      "'Iteration 300, current loss = 7.1641, average loss = 7.0117'\n",
      "'Iteration 400, current loss = 6.8292, average loss = 7.0055'\n",
      "'Iteration 500, current loss = 6.8222, average loss = 7.0018'\n",
      "'Iteration 600, current loss = 6.9733, average loss = 6.9996'\n",
      "'Iteration 700, current loss = 6.9183, average loss = 6.9989'\n"
     ]
    },
    {
     "data": {
      "application/vnd.jupyter.widget-view+json": {
       "model_id": "166740f958af4d92a900e2573017d81b",
       "version_major": 2,
       "version_minor": 0
      },
      "text/plain": [
       "HBox(children=(FloatProgress(value=1.0, bar_style='info', description='Epoch 12', max=1.0, style=ProgressStyle…"
      ]
     },
     "metadata": {},
     "output_type": "display_data"
    },
    {
     "name": "stdout",
     "output_type": "stream",
     "text": [
      "'Iteration 0, current loss = 6.9884, average loss = 6.9884'\n",
      "'Iteration 100, current loss = 7.1014, average loss = 6.9843'\n",
      "'Iteration 200, current loss = 6.9448, average loss = 6.9908'\n",
      "'Iteration 300, current loss = 6.9677, average loss = 6.9922'\n",
      "'Iteration 400, current loss = 7.1003, average loss = 6.9930'\n",
      "'Iteration 500, current loss = 6.9260, average loss = 6.9919'\n",
      "'Iteration 600, current loss = 6.9840, average loss = 6.9873'\n",
      "'Iteration 700, current loss = 7.0020, average loss = 6.9858'\n"
     ]
    },
    {
     "data": {
      "application/vnd.jupyter.widget-view+json": {
       "model_id": "4349beb048ce49f89fbcd36c162673ee",
       "version_major": 2,
       "version_minor": 0
      },
      "text/plain": [
       "HBox(children=(FloatProgress(value=1.0, bar_style='info', description='Epoch 13', max=1.0, style=ProgressStyle…"
      ]
     },
     "metadata": {},
     "output_type": "display_data"
    },
    {
     "name": "stdout",
     "output_type": "stream",
     "text": [
      "'Iteration 0, current loss = 7.0499, average loss = 7.0499'\n",
      "'Iteration 100, current loss = 6.8055, average loss = 6.9609'\n",
      "'Iteration 200, current loss = 6.9975, average loss = 6.9665'\n",
      "'Iteration 300, current loss = 7.2060, average loss = 6.9730'\n",
      "'Iteration 400, current loss = 6.7319, average loss = 6.9720'\n",
      "'Iteration 500, current loss = 6.8883, average loss = 6.9760'\n",
      "'Iteration 600, current loss = 6.9818, average loss = 6.9799'\n",
      "'Iteration 700, current loss = 7.0498, average loss = 6.9798'\n"
     ]
    },
    {
     "data": {
      "application/vnd.jupyter.widget-view+json": {
       "model_id": "a5f76433581c43abb871eb55f2215a6d",
       "version_major": 2,
       "version_minor": 0
      },
      "text/plain": [
       "HBox(children=(FloatProgress(value=1.0, bar_style='info', description='Epoch 14', max=1.0, style=ProgressStyle…"
      ]
     },
     "metadata": {},
     "output_type": "display_data"
    },
    {
     "name": "stdout",
     "output_type": "stream",
     "text": [
      "'Iteration 0, current loss = 6.9616, average loss = 6.9616'\n",
      "'Iteration 100, current loss = 6.9267, average loss = 6.9541'\n",
      "'Iteration 200, current loss = 7.1456, average loss = 6.9608'\n",
      "'Iteration 300, current loss = 7.0253, average loss = 6.9618'\n",
      "'Iteration 400, current loss = 6.9814, average loss = 6.9608'\n",
      "'Iteration 500, current loss = 7.1156, average loss = 6.9604'\n",
      "'Iteration 600, current loss = 6.8700, average loss = 6.9602'\n",
      "'Iteration 700, current loss = 6.8378, average loss = 6.9602'\n"
     ]
    },
    {
     "data": {
      "application/vnd.jupyter.widget-view+json": {
       "model_id": "9316e1fd583f4b518c63abf113340185",
       "version_major": 2,
       "version_minor": 0
      },
      "text/plain": [
       "HBox(children=(FloatProgress(value=1.0, bar_style='info', description='Epoch 15', max=1.0, style=ProgressStyle…"
      ]
     },
     "metadata": {},
     "output_type": "display_data"
    },
    {
     "name": "stdout",
     "output_type": "stream",
     "text": [
      "'Iteration 0, current loss = 7.0308, average loss = 7.0308'\n",
      "'Iteration 100, current loss = 6.9007, average loss = 6.9620'\n",
      "'Iteration 200, current loss = 6.8562, average loss = 6.9646'\n",
      "'Iteration 300, current loss = 6.9673, average loss = 6.9581'\n",
      "'Iteration 400, current loss = 6.9321, average loss = 6.9617'\n",
      "'Iteration 500, current loss = 6.9375, average loss = 6.9621'\n",
      "'Iteration 600, current loss = 7.0997, average loss = 6.9603'\n",
      "'Iteration 700, current loss = 6.9635, average loss = 6.9588'\n"
     ]
    },
    {
     "data": {
      "application/vnd.jupyter.widget-view+json": {
       "model_id": "8191b2fdb01a4a72b3b1efe21b35179b",
       "version_major": 2,
       "version_minor": 0
      },
      "text/plain": [
       "HBox(children=(FloatProgress(value=1.0, bar_style='info', description='Epoch 16', max=1.0, style=ProgressStyle…"
      ]
     },
     "metadata": {},
     "output_type": "display_data"
    },
    {
     "name": "stdout",
     "output_type": "stream",
     "text": [
      "'Iteration 0, current loss = 7.0912, average loss = 7.0912'\n",
      "'Iteration 100, current loss = 7.0080, average loss = 6.9603'\n",
      "'Iteration 200, current loss = 6.8647, average loss = 6.9471'\n",
      "'Iteration 300, current loss = 6.8438, average loss = 6.9504'\n",
      "'Iteration 400, current loss = 6.9325, average loss = 6.9488'\n",
      "'Iteration 500, current loss = 7.0225, average loss = 6.9509'\n",
      "'Iteration 600, current loss = 6.6456, average loss = 6.9513'\n",
      "'Iteration 700, current loss = 6.9428, average loss = 6.9504'\n"
     ]
    },
    {
     "data": {
      "application/vnd.jupyter.widget-view+json": {
       "model_id": "a24c7d999cc54f5d873ba8936542cbd7",
       "version_major": 2,
       "version_minor": 0
      },
      "text/plain": [
       "HBox(children=(FloatProgress(value=1.0, bar_style='info', description='Epoch 17', max=1.0, style=ProgressStyle…"
      ]
     },
     "metadata": {},
     "output_type": "display_data"
    },
    {
     "name": "stdout",
     "output_type": "stream",
     "text": [
      "'Iteration 0, current loss = 6.9459, average loss = 6.9459'\n",
      "'Iteration 100, current loss = 7.2064, average loss = 6.9236'\n",
      "'Iteration 200, current loss = 6.9516, average loss = 6.9321'\n",
      "'Iteration 300, current loss = 6.8978, average loss = 6.9355'\n",
      "'Iteration 400, current loss = 6.8991, average loss = 6.9336'\n",
      "'Iteration 500, current loss = 6.8931, average loss = 6.9392'\n",
      "'Iteration 600, current loss = 7.0754, average loss = 6.9382'\n",
      "'Iteration 700, current loss = 7.1194, average loss = 6.9401'\n"
     ]
    },
    {
     "data": {
      "application/vnd.jupyter.widget-view+json": {
       "model_id": "f432009e6fd840d091087fb9ddbf0fd2",
       "version_major": 2,
       "version_minor": 0
      },
      "text/plain": [
       "HBox(children=(FloatProgress(value=1.0, bar_style='info', description='Epoch 18', max=1.0, style=ProgressStyle…"
      ]
     },
     "metadata": {},
     "output_type": "display_data"
    },
    {
     "name": "stdout",
     "output_type": "stream",
     "text": [
      "'Iteration 0, current loss = 6.9645, average loss = 6.9645'\n",
      "'Iteration 100, current loss = 6.7213, average loss = 6.9349'\n",
      "'Iteration 200, current loss = 7.0140, average loss = 6.9411'\n",
      "'Iteration 300, current loss = 7.0105, average loss = 6.9393'\n",
      "'Iteration 400, current loss = 6.9580, average loss = 6.9372'\n",
      "'Iteration 500, current loss = 6.9227, average loss = 6.9350'\n",
      "'Iteration 600, current loss = 6.9804, average loss = 6.9342'\n",
      "'Iteration 700, current loss = 6.8111, average loss = 6.9315'\n"
     ]
    },
    {
     "data": {
      "application/vnd.jupyter.widget-view+json": {
       "model_id": "0b1333c663ed4bd5b020b7022ec348ae",
       "version_major": 2,
       "version_minor": 0
      },
      "text/plain": [
       "HBox(children=(FloatProgress(value=1.0, bar_style='info', description='Epoch 19', max=1.0, style=ProgressStyle…"
      ]
     },
     "metadata": {},
     "output_type": "display_data"
    },
    {
     "name": "stdout",
     "output_type": "stream",
     "text": [
      "'Iteration 0, current loss = 6.9600, average loss = 6.9600'\n",
      "'Iteration 100, current loss = 7.0127, average loss = 6.9270'\n",
      "'Iteration 200, current loss = 7.0226, average loss = 6.9347'\n",
      "'Iteration 300, current loss = 6.7182, average loss = 6.9242'\n",
      "'Iteration 400, current loss = 6.9684, average loss = 6.9238'\n",
      "'Iteration 500, current loss = 6.9947, average loss = 6.9228'\n",
      "'Iteration 600, current loss = 7.0337, average loss = 6.9249'\n",
      "'Iteration 700, current loss = 6.8715, average loss = 6.9234'\n"
     ]
    }
   ],
   "source": [
    "train_model(model2, optimizer2, epochs=20, max_steps=700)"
   ]
  },
  {
   "cell_type": "code",
   "execution_count": 12,
   "metadata": {},
   "outputs": [],
   "source": [
    "torch.save(model2.state_dict(), 'model2.dict')"
   ]
  },
  {
   "cell_type": "code",
   "execution_count": 19,
   "metadata": {},
   "outputs": [],
   "source": [
    "class CBOWW2VSparse(nn.Module):\n",
    "    def __init__(self, vocab_size, embedding_size, hidden_size=256, window=2):\n",
    "        super().__init__()\n",
    "        self.embed = nn.Embedding(vocab_size, embedding_size * window * 2, sparse=True)\n",
    "        nn.init.xavier_normal_(self.embed.weight)\n",
    "        self.relu = nn.ReLU(inplace=False)\n",
    "        self.W1 = nn.Linear(embedding_size * window * 2, vocab_size)\n",
    "        nn.init.xavier_normal_(self.W1.weight)\n",
    "\n",
    "    def forward(self, x):\n",
    "        # get the embedding by indices\n",
    "        x = self.embed(x)\n",
    "        # hidden non-linear layer\n",
    "        x = self.relu(x)\n",
    "        # get the predictions\n",
    "        x = self.W1(x)\n",
    "        # we need only 1 word by the given ones\n",
    "        # here we got 4 options, so let's average them\n",
    "        return x.mean(dim=1)\n",
    "\n",
    "\n",
    "def test_CBOWW2VSparse_shapes():\n",
    "    window_size = 2\n",
    "    batch_size = 64\n",
    "    vocab_size = 50\n",
    "    x = torch.zeros((batch_size, window_size * 2), dtype=torch.long)\n",
    "    model = CBOWW2VSparse(vocab_size, 42)\n",
    "    scores = model(x)\n",
    "    assert scores.size() == torch.Size([batch_size, vocab_size]), scores.size()\n",
    "\n",
    "\n",
    "test_CBOWW2VSparse_shapes()"
   ]
  },
  {
   "cell_type": "code",
   "execution_count": 10,
   "metadata": {},
   "outputs": [],
   "source": [
    "class MupltipleOptimizer:\n",
    "    def __init__(self, *opts):\n",
    "        self.optimiizers = opts\n",
    "\n",
    "    def zero_grad(self):\n",
    "        for o in self.optimiizers:\n",
    "            o.zero_grad()\n",
    "\n",
    "    def step(self):\n",
    "        for o in self.optimiizers:\n",
    "            o.step()"
   ]
  },
  {
   "cell_type": "code",
   "execution_count": 23,
   "metadata": {},
   "outputs": [
    {
     "name": "stdout",
     "output_type": "stream",
     "text": [
      "device(type='cuda')\n"
     ]
    },
    {
     "data": {
      "application/vnd.jupyter.widget-view+json": {
       "model_id": "016768ffcf5d4219ae372cd67e7484bc",
       "version_major": 2,
       "version_minor": 0
      },
      "text/plain": [
       "HBox(children=(FloatProgress(value=1.0, bar_style='info', description='Epoch 0', max=1.0, style=ProgressStyle(…"
      ]
     },
     "metadata": {},
     "output_type": "display_data"
    },
    {
     "name": "stdout",
     "output_type": "stream",
     "text": [
      "'Iteration 0, current loss = 10.9704, average loss = 10.9704'\n",
      "'Iteration 100, current loss = 7.3439, average loss = 7.7937'\n",
      "'Iteration 200, current loss = 7.0171, average loss = 7.4469'\n",
      "'Iteration 300, current loss = 6.7441, average loss = 7.2650'\n",
      "'Iteration 400, current loss = 6.8543, average loss = 7.1461'\n",
      "'Iteration 500, current loss = 6.5714, average loss = 7.0605'\n",
      "'Iteration 600, current loss = 6.5671, average loss = 6.9928'\n",
      "'Iteration 700, current loss = 6.6814, average loss = 6.9393'\n"
     ]
    },
    {
     "data": {
      "application/vnd.jupyter.widget-view+json": {
       "model_id": "1ae41c507961464ab9753d71f9bd98bc",
       "version_major": 2,
       "version_minor": 0
      },
      "text/plain": [
       "HBox(children=(FloatProgress(value=1.0, bar_style='info', description='Epoch 1', max=1.0, style=ProgressStyle(…"
      ]
     },
     "metadata": {},
     "output_type": "display_data"
    },
    {
     "name": "stdout",
     "output_type": "stream",
     "text": [
      "'Iteration 0, current loss = 6.6316, average loss = 6.6316'\n",
      "'Iteration 100, current loss = 6.5776, average loss = 6.5133'\n",
      "'Iteration 200, current loss = 6.3682, average loss = 6.5062'\n",
      "'Iteration 300, current loss = 6.3670, average loss = 6.4928'\n",
      "'Iteration 400, current loss = 6.3308, average loss = 6.4713'\n",
      "'Iteration 500, current loss = 6.3482, average loss = 6.4623'\n",
      "'Iteration 600, current loss = 6.4137, average loss = 6.4473'\n",
      "'Iteration 700, current loss = 6.4525, average loss = 6.4385'\n"
     ]
    },
    {
     "data": {
      "application/vnd.jupyter.widget-view+json": {
       "model_id": "637facc9670d42aca12bbd17557b24e4",
       "version_major": 2,
       "version_minor": 0
      },
      "text/plain": [
       "HBox(children=(FloatProgress(value=1.0, bar_style='info', description='Epoch 2', max=1.0, style=ProgressStyle(…"
      ]
     },
     "metadata": {},
     "output_type": "display_data"
    },
    {
     "name": "stdout",
     "output_type": "stream",
     "text": [
      "'Iteration 0, current loss = 6.3551, average loss = 6.3551'\n",
      "'Iteration 100, current loss = 6.3796, average loss = 6.3051'\n",
      "'Iteration 200, current loss = 6.3772, average loss = 6.3077'\n",
      "'Iteration 300, current loss = 6.3886, average loss = 6.3011'\n",
      "'Iteration 400, current loss = 6.2027, average loss = 6.2983'\n",
      "'Iteration 500, current loss = 6.1874, average loss = 6.2947'\n",
      "'Iteration 600, current loss = 6.1945, average loss = 6.2893'\n",
      "'Iteration 700, current loss = 6.1623, average loss = 6.2862'\n"
     ]
    },
    {
     "data": {
      "application/vnd.jupyter.widget-view+json": {
       "model_id": "00d04875d98b4b13afb30b2b924cb8d7",
       "version_major": 2,
       "version_minor": 0
      },
      "text/plain": [
       "HBox(children=(FloatProgress(value=1.0, bar_style='info', description='Epoch 3', max=1.0, style=ProgressStyle(…"
      ]
     },
     "metadata": {},
     "output_type": "display_data"
    },
    {
     "name": "stdout",
     "output_type": "stream",
     "text": [
      "'Iteration 0, current loss = 6.0598, average loss = 6.0598'\n",
      "'Iteration 100, current loss = 6.2218, average loss = 6.2008'\n",
      "'Iteration 200, current loss = 6.1234, average loss = 6.2042'\n",
      "'Iteration 300, current loss = 6.1225, average loss = 6.1958'\n",
      "'Iteration 400, current loss = 6.2250, average loss = 6.1939'\n",
      "'Iteration 500, current loss = 6.0521, average loss = 6.1937'\n",
      "'Iteration 600, current loss = 6.1842, average loss = 6.1885'\n",
      "'Iteration 700, current loss = 5.9642, average loss = 6.1820'\n"
     ]
    },
    {
     "data": {
      "application/vnd.jupyter.widget-view+json": {
       "model_id": "8cdfe05ae4bd4f959fa8d49ce4810403",
       "version_major": 2,
       "version_minor": 0
      },
      "text/plain": [
       "HBox(children=(FloatProgress(value=1.0, bar_style='info', description='Epoch 4', max=1.0, style=ProgressStyle(…"
      ]
     },
     "metadata": {},
     "output_type": "display_data"
    },
    {
     "name": "stdout",
     "output_type": "stream",
     "text": [
      "'Iteration 0, current loss = 5.9090, average loss = 5.9090'\n",
      "'Iteration 100, current loss = 6.2164, average loss = 6.1049'\n",
      "'Iteration 200, current loss = 6.1861, average loss = 6.1118'\n",
      "'Iteration 300, current loss = 5.9330, average loss = 6.1078'\n",
      "'Iteration 400, current loss = 6.0642, average loss = 6.1032'\n",
      "'Iteration 500, current loss = 6.2734, average loss = 6.0990'\n",
      "'Iteration 600, current loss = 6.3212, average loss = 6.0933'\n",
      "'Iteration 700, current loss = 6.1814, average loss = 6.0868'\n"
     ]
    },
    {
     "data": {
      "application/vnd.jupyter.widget-view+json": {
       "model_id": "a98467d06fb5453aaa00974ea9822bae",
       "version_major": 2,
       "version_minor": 0
      },
      "text/plain": [
       "HBox(children=(FloatProgress(value=1.0, bar_style='info', description='Epoch 5', max=1.0, style=ProgressStyle(…"
      ]
     },
     "metadata": {},
     "output_type": "display_data"
    },
    {
     "name": "stdout",
     "output_type": "stream",
     "text": [
      "'Iteration 0, current loss = 6.0261, average loss = 6.0261'\n",
      "'Iteration 100, current loss = 6.2415, average loss = 6.0043'\n",
      "'Iteration 200, current loss = 6.0821, average loss = 6.0065'\n",
      "'Iteration 300, current loss = 6.0680, average loss = 6.0058'\n",
      "'Iteration 400, current loss = 6.0997, average loss = 6.0058'\n",
      "'Iteration 500, current loss = 5.9992, average loss = 6.0046'\n",
      "'Iteration 600, current loss = 6.0252, average loss = 6.0068'\n",
      "'Iteration 700, current loss = 6.0102, average loss = 6.0045'\n"
     ]
    },
    {
     "data": {
      "application/vnd.jupyter.widget-view+json": {
       "model_id": "f89e6643a66d4f2eb549ecbffc7b0bc1",
       "version_major": 2,
       "version_minor": 0
      },
      "text/plain": [
       "HBox(children=(FloatProgress(value=1.0, bar_style='info', description='Epoch 6', max=1.0, style=ProgressStyle(…"
      ]
     },
     "metadata": {},
     "output_type": "display_data"
    },
    {
     "name": "stdout",
     "output_type": "stream",
     "text": [
      "'Iteration 0, current loss = 6.0180, average loss = 6.0180'\n",
      "'Iteration 100, current loss = 5.9538, average loss = 5.9215'\n",
      "'Iteration 200, current loss = 6.0872, average loss = 5.9273'\n",
      "'Iteration 300, current loss = 6.0350, average loss = 5.9292'\n",
      "'Iteration 400, current loss = 5.8667, average loss = 5.9294'\n",
      "'Iteration 500, current loss = 5.7535, average loss = 5.9255'\n",
      "'Iteration 600, current loss = 5.7600, average loss = 5.9244'\n",
      "'Iteration 700, current loss = 6.1275, average loss = 5.9233'\n"
     ]
    },
    {
     "data": {
      "application/vnd.jupyter.widget-view+json": {
       "model_id": "6ac2d638f60a49159530d51d504c2eb9",
       "version_major": 2,
       "version_minor": 0
      },
      "text/plain": [
       "HBox(children=(FloatProgress(value=1.0, bar_style='info', description='Epoch 7', max=1.0, style=ProgressStyle(…"
      ]
     },
     "metadata": {},
     "output_type": "display_data"
    },
    {
     "name": "stdout",
     "output_type": "stream",
     "text": [
      "'Iteration 0, current loss = 5.9308, average loss = 5.9308'\n",
      "'Iteration 100, current loss = 6.0055, average loss = 5.8864'\n",
      "'Iteration 200, current loss = 5.7475, average loss = 5.8746'\n",
      "'Iteration 300, current loss = 5.9079, average loss = 5.8729'\n",
      "'Iteration 400, current loss = 5.8566, average loss = 5.8675'\n",
      "'Iteration 500, current loss = 5.7602, average loss = 5.8705'\n",
      "'Iteration 600, current loss = 5.7143, average loss = 5.8695'\n",
      "'Iteration 700, current loss = 5.8394, average loss = 5.8674'\n"
     ]
    },
    {
     "data": {
      "application/vnd.jupyter.widget-view+json": {
       "model_id": "e07a7bcbf9874613a6292c35b4dec037",
       "version_major": 2,
       "version_minor": 0
      },
      "text/plain": [
       "HBox(children=(FloatProgress(value=1.0, bar_style='info', description='Epoch 8', max=1.0, style=ProgressStyle(…"
      ]
     },
     "metadata": {},
     "output_type": "display_data"
    },
    {
     "name": "stdout",
     "output_type": "stream",
     "text": [
      "'Iteration 0, current loss = 5.7799, average loss = 5.7799'\n",
      "'Iteration 100, current loss = 5.9232, average loss = 5.8180'\n",
      "'Iteration 200, current loss = 5.7526, average loss = 5.8208'\n",
      "'Iteration 300, current loss = 5.5690, average loss = 5.8171'\n",
      "'Iteration 400, current loss = 5.7215, average loss = 5.8164'\n",
      "'Iteration 500, current loss = 5.6684, average loss = 5.8137'\n",
      "'Iteration 600, current loss = 5.8820, average loss = 5.8154'\n",
      "'Iteration 700, current loss = 5.6981, average loss = 5.8168'\n"
     ]
    },
    {
     "data": {
      "application/vnd.jupyter.widget-view+json": {
       "model_id": "6b5b3109ea0f45028f1527676a4649dc",
       "version_major": 2,
       "version_minor": 0
      },
      "text/plain": [
       "HBox(children=(FloatProgress(value=1.0, bar_style='info', description='Epoch 9', max=1.0, style=ProgressStyle(…"
      ]
     },
     "metadata": {},
     "output_type": "display_data"
    },
    {
     "name": "stdout",
     "output_type": "stream",
     "text": [
      "'Iteration 0, current loss = 5.9115, average loss = 5.9115'\n",
      "'Iteration 100, current loss = 5.8279, average loss = 5.7590'\n",
      "'Iteration 200, current loss = 5.7010, average loss = 5.7584'\n",
      "'Iteration 300, current loss = 5.8210, average loss = 5.7569'\n",
      "'Iteration 400, current loss = 5.9012, average loss = 5.7576'\n",
      "'Iteration 500, current loss = 5.9202, average loss = 5.7575'\n",
      "'Iteration 600, current loss = 5.7001, average loss = 5.7524'\n",
      "'Iteration 700, current loss = 5.8715, average loss = 5.7553'\n"
     ]
    }
   ],
   "source": [
    "pprint(device)\n",
    "\n",
    "learning_rate = .01568\n",
    "embedding_size = 222\n",
    "window_size = 2\n",
    "model_sparse = CBOWW2VSparse(batcher.vocab_size, embedding_size)\n",
    "model_sparse = model_sparse.to(device=device)\n",
    "optimizer_sparse_sgd = optim.ASGD(model_sparse.parameters(), lr=learning_rate)\n",
    "\n",
    "optimizer_sparse = optim.SparseAdam([model_sparse.embed.weight], lr=learning_rate)\n",
    "optimizer_dense = optim.AdamW([model_sparse.W1.weight], lr=learning_rate)\n",
    "unified = MupltipleOptimizer(optimizer_sparse, optimizer_dense)\n",
    "\n",
    "train_model(model_sparse, unified, epochs=10, max_steps=700)"
   ]
  },
  {
   "cell_type": "code",
   "execution_count": 24,
   "metadata": {},
   "outputs": [
    {
     "data": {
      "application/vnd.jupyter.widget-view+json": {
       "model_id": "6129322db4b64592a735e214092bf2d6",
       "version_major": 2,
       "version_minor": 0
      },
      "text/plain": [
       "HBox(children=(FloatProgress(value=1.0, bar_style='info', description='Epoch 0', max=1.0, style=ProgressStyle(…"
      ]
     },
     "metadata": {},
     "output_type": "display_data"
    },
    {
     "name": "stdout",
     "output_type": "stream",
     "text": [
      "'Iteration 0, current loss = 5.5959, average loss = 5.5959'\n",
      "'Iteration 100, current loss = 5.6760, average loss = 5.7075'\n",
      "'Iteration 200, current loss = 5.8361, average loss = 5.7002'\n",
      "'Iteration 300, current loss = 5.6588, average loss = 5.7048'\n",
      "'Iteration 400, current loss = 5.5189, average loss = 5.7042'\n",
      "'Iteration 500, current loss = 5.7943, average loss = 5.7035'\n",
      "'Iteration 600, current loss = 5.5454, average loss = 5.7083'\n",
      "'Iteration 700, current loss = 5.6094, average loss = 5.7048'\n"
     ]
    },
    {
     "data": {
      "application/vnd.jupyter.widget-view+json": {
       "model_id": "40dfc08266114ab3b3fa665b19300424",
       "version_major": 2,
       "version_minor": 0
      },
      "text/plain": [
       "HBox(children=(FloatProgress(value=1.0, bar_style='info', description='Epoch 1', max=1.0, style=ProgressStyle(…"
      ]
     },
     "metadata": {},
     "output_type": "display_data"
    },
    {
     "name": "stdout",
     "output_type": "stream",
     "text": [
      "'Iteration 0, current loss = 5.5468, average loss = 5.5468'\n",
      "'Iteration 100, current loss = 5.6099, average loss = 5.6823'\n",
      "'Iteration 200, current loss = 5.5720, average loss = 5.6834'\n",
      "'Iteration 300, current loss = 5.7842, average loss = 5.6819'\n",
      "'Iteration 400, current loss = 5.7390, average loss = 5.6833'\n",
      "'Iteration 500, current loss = 5.8492, average loss = 5.6816'\n",
      "'Iteration 600, current loss = 5.6568, average loss = 5.6775'\n",
      "'Iteration 700, current loss = 5.8624, average loss = 5.6767'\n"
     ]
    },
    {
     "data": {
      "application/vnd.jupyter.widget-view+json": {
       "model_id": "7f137a6478eb4a509f5c17cc4b10468e",
       "version_major": 2,
       "version_minor": 0
      },
      "text/plain": [
       "HBox(children=(FloatProgress(value=1.0, bar_style='info', description='Epoch 2', max=1.0, style=ProgressStyle(…"
      ]
     },
     "metadata": {},
     "output_type": "display_data"
    },
    {
     "name": "stdout",
     "output_type": "stream",
     "text": [
      "'Iteration 0, current loss = 5.6205, average loss = 5.6205'\n",
      "'Iteration 100, current loss = 5.7074, average loss = 5.6307'\n",
      "'Iteration 200, current loss = 5.5815, average loss = 5.6292'\n",
      "'Iteration 300, current loss = 5.8131, average loss = 5.6379'\n",
      "'Iteration 400, current loss = 5.7137, average loss = 5.6431'\n",
      "'Iteration 500, current loss = 5.5229, average loss = 5.6414'\n",
      "'Iteration 600, current loss = 5.6599, average loss = 5.6417'\n",
      "'Iteration 700, current loss = 5.6678, average loss = 5.6433'\n"
     ]
    },
    {
     "data": {
      "application/vnd.jupyter.widget-view+json": {
       "model_id": "917caf4e636646c7b48293eaa0b9cd41",
       "version_major": 2,
       "version_minor": 0
      },
      "text/plain": [
       "HBox(children=(FloatProgress(value=1.0, bar_style='info', description='Epoch 3', max=1.0, style=ProgressStyle(…"
      ]
     },
     "metadata": {},
     "output_type": "display_data"
    },
    {
     "name": "stdout",
     "output_type": "stream",
     "text": [
      "'Iteration 0, current loss = 5.5268, average loss = 5.5268'\n",
      "'Iteration 100, current loss = 5.5974, average loss = 5.6233'\n",
      "'Iteration 200, current loss = 5.5486, average loss = 5.6114'\n",
      "'Iteration 300, current loss = 5.8275, average loss = 5.6108'\n",
      "'Iteration 400, current loss = 5.7025, average loss = 5.6074'\n",
      "'Iteration 500, current loss = 5.5937, average loss = 5.6051'\n",
      "'Iteration 600, current loss = 5.6032, average loss = 5.6103'\n",
      "'Iteration 700, current loss = 5.4337, average loss = 5.6111'\n"
     ]
    },
    {
     "data": {
      "application/vnd.jupyter.widget-view+json": {
       "model_id": "f9a780e659334e06a64cd732814eda2e",
       "version_major": 2,
       "version_minor": 0
      },
      "text/plain": [
       "HBox(children=(FloatProgress(value=1.0, bar_style='info', description='Epoch 4', max=1.0, style=ProgressStyle(…"
      ]
     },
     "metadata": {},
     "output_type": "display_data"
    },
    {
     "name": "stdout",
     "output_type": "stream",
     "text": [
      "'Iteration 0, current loss = 5.4827, average loss = 5.4827'\n",
      "'Iteration 100, current loss = 5.6601, average loss = 5.6020'\n",
      "'Iteration 200, current loss = 5.5506, average loss = 5.5916'\n",
      "'Iteration 300, current loss = 5.6371, average loss = 5.5821'\n",
      "'Iteration 400, current loss = 5.5776, average loss = 5.5852'\n",
      "'Iteration 500, current loss = 5.4829, average loss = 5.5832'\n",
      "'Iteration 600, current loss = 5.6198, average loss = 5.5810'\n",
      "'Iteration 700, current loss = 5.4474, average loss = 5.5822'\n"
     ]
    },
    {
     "data": {
      "application/vnd.jupyter.widget-view+json": {
       "model_id": "aecf895c40324c789c456c6332fa2125",
       "version_major": 2,
       "version_minor": 0
      },
      "text/plain": [
       "HBox(children=(FloatProgress(value=1.0, bar_style='info', description='Epoch 5', max=1.0, style=ProgressStyle(…"
      ]
     },
     "metadata": {},
     "output_type": "display_data"
    },
    {
     "name": "stdout",
     "output_type": "stream",
     "text": [
      "'Iteration 0, current loss = 5.5171, average loss = 5.5171'\n",
      "'Iteration 100, current loss = 5.4627, average loss = 5.5592'\n",
      "'Iteration 200, current loss = 5.4842, average loss = 5.5600'\n",
      "'Iteration 300, current loss = 5.4610, average loss = 5.5552'\n",
      "'Iteration 400, current loss = 5.4366, average loss = 5.5563'\n",
      "'Iteration 500, current loss = 5.5516, average loss = 5.5581'\n",
      "'Iteration 600, current loss = 5.5926, average loss = 5.5569'\n",
      "'Iteration 700, current loss = 5.5448, average loss = 5.5594'\n"
     ]
    },
    {
     "data": {
      "application/vnd.jupyter.widget-view+json": {
       "model_id": "9a3b93a362be44c38ccb997dd06f167c",
       "version_major": 2,
       "version_minor": 0
      },
      "text/plain": [
       "HBox(children=(FloatProgress(value=1.0, bar_style='info', description='Epoch 6', max=1.0, style=ProgressStyle(…"
      ]
     },
     "metadata": {},
     "output_type": "display_data"
    },
    {
     "name": "stdout",
     "output_type": "stream",
     "text": [
      "'Iteration 0, current loss = 5.5375, average loss = 5.5375'\n",
      "'Iteration 100, current loss = 5.3871, average loss = 5.5236'\n",
      "'Iteration 200, current loss = 5.4896, average loss = 5.5293'\n",
      "'Iteration 300, current loss = 5.6773, average loss = 5.5268'\n",
      "'Iteration 400, current loss = 5.3307, average loss = 5.5277'\n",
      "'Iteration 500, current loss = 5.5461, average loss = 5.5320'\n",
      "'Iteration 600, current loss = 5.6761, average loss = 5.5357'\n",
      "'Iteration 700, current loss = 5.8169, average loss = 5.5382'\n"
     ]
    },
    {
     "data": {
      "application/vnd.jupyter.widget-view+json": {
       "model_id": "8feec86708fa456387b06a941183e202",
       "version_major": 2,
       "version_minor": 0
      },
      "text/plain": [
       "HBox(children=(FloatProgress(value=1.0, bar_style='info', description='Epoch 7', max=1.0, style=ProgressStyle(…"
      ]
     },
     "metadata": {},
     "output_type": "display_data"
    },
    {
     "name": "stdout",
     "output_type": "stream",
     "text": [
      "'Iteration 0, current loss = 5.5612, average loss = 5.5612'\n",
      "'Iteration 100, current loss = 5.4203, average loss = 5.5011'\n",
      "'Iteration 200, current loss = 5.4915, average loss = 5.5081'\n",
      "'Iteration 300, current loss = 5.5567, average loss = 5.5082'\n",
      "'Iteration 400, current loss = 5.5004, average loss = 5.5114'\n",
      "'Iteration 500, current loss = 5.6424, average loss = 5.5105'\n",
      "'Iteration 600, current loss = 5.3507, average loss = 5.5101'\n",
      "'Iteration 700, current loss = 5.5856, average loss = 5.5103'\n"
     ]
    },
    {
     "data": {
      "application/vnd.jupyter.widget-view+json": {
       "model_id": "9bd6e64b57874a8baa46b91d6d801a7d",
       "version_major": 2,
       "version_minor": 0
      },
      "text/plain": [
       "HBox(children=(FloatProgress(value=1.0, bar_style='info', description='Epoch 8', max=1.0, style=ProgressStyle(…"
      ]
     },
     "metadata": {},
     "output_type": "display_data"
    },
    {
     "name": "stdout",
     "output_type": "stream",
     "text": [
      "'Iteration 0, current loss = 5.5607, average loss = 5.5607'\n",
      "'Iteration 100, current loss = 5.3913, average loss = 5.4960'\n",
      "'Iteration 200, current loss = 5.4474, average loss = 5.5029'\n",
      "'Iteration 300, current loss = 5.4376, average loss = 5.4962'\n",
      "'Iteration 400, current loss = 5.6037, average loss = 5.5000'\n",
      "'Iteration 500, current loss = 5.5136, average loss = 5.5019'\n",
      "'Iteration 600, current loss = 5.5337, average loss = 5.5030'\n",
      "'Iteration 700, current loss = 5.3739, average loss = 5.5021'\n"
     ]
    },
    {
     "data": {
      "application/vnd.jupyter.widget-view+json": {
       "model_id": "5a4426d302ee4bc3a15e29be983f8192",
       "version_major": 2,
       "version_minor": 0
      },
      "text/plain": [
       "HBox(children=(FloatProgress(value=1.0, bar_style='info', description='Epoch 9', max=1.0, style=ProgressStyle(…"
      ]
     },
     "metadata": {},
     "output_type": "display_data"
    },
    {
     "name": "stdout",
     "output_type": "stream",
     "text": [
      "'Iteration 0, current loss = 5.7752, average loss = 5.7752'\n",
      "'Iteration 100, current loss = 5.3922, average loss = 5.4920'\n",
      "'Iteration 200, current loss = 5.4338, average loss = 5.4733'\n",
      "'Iteration 300, current loss = 5.2856, average loss = 5.4789'\n",
      "'Iteration 400, current loss = 5.4065, average loss = 5.4809'\n",
      "'Iteration 500, current loss = 5.6303, average loss = 5.4840'\n",
      "'Iteration 600, current loss = 5.2364, average loss = 5.4838'\n",
      "'Iteration 700, current loss = 5.6276, average loss = 5.4833'\n"
     ]
    },
    {
     "data": {
      "application/vnd.jupyter.widget-view+json": {
       "model_id": "d006c4b024634fb8a72199e8bdbd2780",
       "version_major": 2,
       "version_minor": 0
      },
      "text/plain": [
       "HBox(children=(FloatProgress(value=1.0, bar_style='info', description='Epoch 10', max=1.0, style=ProgressStyle…"
      ]
     },
     "metadata": {},
     "output_type": "display_data"
    },
    {
     "name": "stdout",
     "output_type": "stream",
     "text": [
      "'Iteration 0, current loss = 5.4897, average loss = 5.4897'\n",
      "'Iteration 100, current loss = 5.6393, average loss = 5.4518'\n",
      "'Iteration 200, current loss = 5.4222, average loss = 5.4574'\n",
      "'Iteration 300, current loss = 5.4602, average loss = 5.4601'\n",
      "'Iteration 400, current loss = 5.4505, average loss = 5.4563'\n",
      "'Iteration 500, current loss = 5.3720, average loss = 5.4657'\n",
      "'Iteration 600, current loss = 5.5528, average loss = 5.4644'\n",
      "'Iteration 700, current loss = 5.6596, average loss = 5.4658'\n"
     ]
    },
    {
     "data": {
      "application/vnd.jupyter.widget-view+json": {
       "model_id": "b88a606a07c344d2ba6e485f9bff4e81",
       "version_major": 2,
       "version_minor": 0
      },
      "text/plain": [
       "HBox(children=(FloatProgress(value=1.0, bar_style='info', description='Epoch 11', max=1.0, style=ProgressStyle…"
      ]
     },
     "metadata": {},
     "output_type": "display_data"
    },
    {
     "name": "stdout",
     "output_type": "stream",
     "text": [
      "'Iteration 0, current loss = 5.4101, average loss = 5.4101'\n",
      "'Iteration 100, current loss = 5.2903, average loss = 5.4442'\n",
      "'Iteration 200, current loss = 5.4560, average loss = 5.4433'\n",
      "'Iteration 300, current loss = 5.5116, average loss = 5.4425'\n",
      "'Iteration 400, current loss = 5.4492, average loss = 5.4454'\n",
      "'Iteration 500, current loss = 5.2834, average loss = 5.4467'\n",
      "'Iteration 600, current loss = 5.4853, average loss = 5.4469'\n",
      "'Iteration 700, current loss = 5.4545, average loss = 5.4472'\n"
     ]
    },
    {
     "data": {
      "application/vnd.jupyter.widget-view+json": {
       "model_id": "c620cf5ea832411d86599fad86cbefce",
       "version_major": 2,
       "version_minor": 0
      },
      "text/plain": [
       "HBox(children=(FloatProgress(value=1.0, bar_style='info', description='Epoch 12', max=1.0, style=ProgressStyle…"
      ]
     },
     "metadata": {},
     "output_type": "display_data"
    },
    {
     "name": "stdout",
     "output_type": "stream",
     "text": [
      "'Iteration 0, current loss = 5.5172, average loss = 5.5172'\n",
      "'Iteration 100, current loss = 5.5324, average loss = 5.4248'\n",
      "'Iteration 200, current loss = 5.3916, average loss = 5.4267'\n",
      "'Iteration 300, current loss = 5.3900, average loss = 5.4284'\n",
      "'Iteration 400, current loss = 5.4383, average loss = 5.4305'\n",
      "'Iteration 500, current loss = 5.5002, average loss = 5.4331'\n",
      "'Iteration 600, current loss = 5.5623, average loss = 5.4387'\n",
      "'Iteration 700, current loss = 5.3103, average loss = 5.4390'\n"
     ]
    },
    {
     "data": {
      "application/vnd.jupyter.widget-view+json": {
       "model_id": "23948bd27c50483bb2433b5d6e36f86f",
       "version_major": 2,
       "version_minor": 0
      },
      "text/plain": [
       "HBox(children=(FloatProgress(value=1.0, bar_style='info', description='Epoch 13', max=1.0, style=ProgressStyle…"
      ]
     },
     "metadata": {},
     "output_type": "display_data"
    },
    {
     "name": "stdout",
     "output_type": "stream",
     "text": [
      "'Iteration 0, current loss = 5.5202, average loss = 5.5202'\n",
      "'Iteration 100, current loss = 5.2835, average loss = 5.4227'\n",
      "'Iteration 200, current loss = 5.5624, average loss = 5.4299'\n",
      "'Iteration 300, current loss = 5.3550, average loss = 5.4299'\n",
      "'Iteration 400, current loss = 5.3757, average loss = 5.4354'\n",
      "'Iteration 500, current loss = 5.4357, average loss = 5.4352'\n",
      "'Iteration 600, current loss = 5.1937, average loss = 5.4350'\n",
      "'Iteration 700, current loss = 5.5063, average loss = 5.4353'\n"
     ]
    },
    {
     "data": {
      "application/vnd.jupyter.widget-view+json": {
       "model_id": "89657daf4576467987298a4abf6deba8",
       "version_major": 2,
       "version_minor": 0
      },
      "text/plain": [
       "HBox(children=(FloatProgress(value=1.0, bar_style='info', description='Epoch 14', max=1.0, style=ProgressStyle…"
      ]
     },
     "metadata": {},
     "output_type": "display_data"
    },
    {
     "name": "stdout",
     "output_type": "stream",
     "text": [
      "'Iteration 0, current loss = 5.4458, average loss = 5.4458'\n",
      "'Iteration 100, current loss = 5.1538, average loss = 5.4054'\n",
      "'Iteration 200, current loss = 5.2387, average loss = 5.4134'\n",
      "'Iteration 300, current loss = 5.5732, average loss = 5.4172'\n",
      "'Iteration 400, current loss = 5.3950, average loss = 5.4204'\n",
      "'Iteration 500, current loss = 5.4625, average loss = 5.4235'\n",
      "'Iteration 600, current loss = 5.4129, average loss = 5.4278'\n",
      "'Iteration 700, current loss = 5.3759, average loss = 5.4278'\n"
     ]
    },
    {
     "data": {
      "application/vnd.jupyter.widget-view+json": {
       "model_id": "4d14987a12bc49629f194a8269bb6c49",
       "version_major": 2,
       "version_minor": 0
      },
      "text/plain": [
       "HBox(children=(FloatProgress(value=1.0, bar_style='info', description='Epoch 15', max=1.0, style=ProgressStyle…"
      ]
     },
     "metadata": {},
     "output_type": "display_data"
    },
    {
     "name": "stdout",
     "output_type": "stream",
     "text": [
      "'Iteration 0, current loss = 5.4432, average loss = 5.4432'\n",
      "'Iteration 100, current loss = 5.4627, average loss = 5.4066'\n",
      "'Iteration 200, current loss = 5.4371, average loss = 5.4119'\n",
      "'Iteration 300, current loss = 5.4437, average loss = 5.4115'\n",
      "'Iteration 400, current loss = 5.6615, average loss = 5.4164'\n",
      "'Iteration 500, current loss = 5.6129, average loss = 5.4183'\n",
      "'Iteration 600, current loss = 5.4566, average loss = 5.4196'\n",
      "'Iteration 700, current loss = 5.5308, average loss = 5.4228'\n"
     ]
    },
    {
     "data": {
      "application/vnd.jupyter.widget-view+json": {
       "model_id": "aae95c93643b439eac700b745fd7fc4d",
       "version_major": 2,
       "version_minor": 0
      },
      "text/plain": [
       "HBox(children=(FloatProgress(value=1.0, bar_style='info', description='Epoch 16', max=1.0, style=ProgressStyle…"
      ]
     },
     "metadata": {},
     "output_type": "display_data"
    },
    {
     "name": "stdout",
     "output_type": "stream",
     "text": [
      "'Iteration 0, current loss = 5.5361, average loss = 5.5361'\n",
      "'Iteration 100, current loss = 5.5175, average loss = 5.4087'\n",
      "'Iteration 200, current loss = 5.3944, average loss = 5.4137'\n",
      "'Iteration 300, current loss = 5.2948, average loss = 5.4127'\n",
      "'Iteration 400, current loss = 5.4504, average loss = 5.4202'\n",
      "'Iteration 500, current loss = 5.2421, average loss = 5.4195'\n",
      "'Iteration 600, current loss = 5.6143, average loss = 5.4213'\n",
      "'Iteration 700, current loss = 5.5085, average loss = 5.4219'\n"
     ]
    },
    {
     "data": {
      "application/vnd.jupyter.widget-view+json": {
       "model_id": "89268b1f8d784dc69c29302721b72f86",
       "version_major": 2,
       "version_minor": 0
      },
      "text/plain": [
       "HBox(children=(FloatProgress(value=1.0, bar_style='info', description='Epoch 17', max=1.0, style=ProgressStyle…"
      ]
     },
     "metadata": {},
     "output_type": "display_data"
    },
    {
     "name": "stdout",
     "output_type": "stream",
     "text": [
      "'Iteration 0, current loss = 5.3135, average loss = 5.3135'\n",
      "'Iteration 100, current loss = 5.5225, average loss = 5.3963'\n",
      "'Iteration 200, current loss = 5.3442, average loss = 5.4049'\n",
      "'Iteration 300, current loss = 5.3848, average loss = 5.4041'\n",
      "'Iteration 400, current loss = 5.3864, average loss = 5.3995'\n",
      "'Iteration 500, current loss = 5.3407, average loss = 5.4026'\n",
      "'Iteration 600, current loss = 5.4646, average loss = 5.4034'\n",
      "'Iteration 700, current loss = 5.2799, average loss = 5.4073'\n"
     ]
    },
    {
     "data": {
      "application/vnd.jupyter.widget-view+json": {
       "model_id": "38bd7e0393c74e56afd6140ab4284ed1",
       "version_major": 2,
       "version_minor": 0
      },
      "text/plain": [
       "HBox(children=(FloatProgress(value=1.0, bar_style='info', description='Epoch 18', max=1.0, style=ProgressStyle…"
      ]
     },
     "metadata": {},
     "output_type": "display_data"
    },
    {
     "name": "stdout",
     "output_type": "stream",
     "text": [
      "'Iteration 0, current loss = 5.3225, average loss = 5.3225'\n",
      "'Iteration 100, current loss = 5.2660, average loss = 5.3756'\n",
      "'Iteration 200, current loss = 5.4380, average loss = 5.3914'\n",
      "'Iteration 300, current loss = 5.3265, average loss = 5.3979'\n",
      "'Iteration 400, current loss = 5.2032, average loss = 5.3957'\n",
      "'Iteration 500, current loss = 5.3936, average loss = 5.4013'\n",
      "'Iteration 600, current loss = 5.2801, average loss = 5.4004'\n",
      "'Iteration 700, current loss = 5.6433, average loss = 5.4042'\n"
     ]
    },
    {
     "data": {
      "application/vnd.jupyter.widget-view+json": {
       "model_id": "dff771bd42474ddda5b3a79cc47f33f0",
       "version_major": 2,
       "version_minor": 0
      },
      "text/plain": [
       "HBox(children=(FloatProgress(value=1.0, bar_style='info', description='Epoch 19', max=1.0, style=ProgressStyle…"
      ]
     },
     "metadata": {},
     "output_type": "display_data"
    },
    {
     "name": "stdout",
     "output_type": "stream",
     "text": [
      "'Iteration 0, current loss = 5.3133, average loss = 5.3133'\n",
      "'Iteration 100, current loss = 5.2537, average loss = 5.3852'\n",
      "'Iteration 200, current loss = 5.4570, average loss = 5.3927'\n",
      "'Iteration 300, current loss = 5.2854, average loss = 5.3888'\n",
      "'Iteration 400, current loss = 5.3531, average loss = 5.3945'\n",
      "'Iteration 500, current loss = 5.3620, average loss = 5.3961'\n",
      "'Iteration 600, current loss = 5.3412, average loss = 5.3938'\n",
      "'Iteration 700, current loss = 5.5851, average loss = 5.3959'\n"
     ]
    }
   ],
   "source": [
    "train_model(model_sparse, unified, epochs=20, max_steps=700)"
   ]
  },
  {
   "cell_type": "markdown",
   "metadata": {},
   "source": [
    "Looks like it can't be better than current state at ~5.4, comparing with previous ~6.9\n",
    "\n",
    "![Sparse Loss](imgs/Average_loss_train.svg)"
   ]
  },
  {
   "cell_type": "code",
   "execution_count": 49,
   "metadata": {},
   "outputs": [],
   "source": [
    "def embedding_by_index(ind):\n",
    "    if ind not in batcher.ind2word:\n",
    "        return None\n",
    "    return model_sparse.embed(torch.LongTensor([ind]).to(device))\n",
    "\n",
    "\n",
    "def embedding_by_word(w):\n",
    "    if w not in batcher.word2ind:\n",
    "        return None\n",
    "    return embedding_by_index(batcher.word2ind[w])"
   ]
  },
  {
   "cell_type": "code",
   "execution_count": 89,
   "metadata": {},
   "outputs": [],
   "source": [
    "import pandas as pd\n",
    "\n",
    "\n",
    "STOP_WORDS = {'the', 'of', 'and', 'in', 'a', 'to', 'is', 'as', 'for', 's', 'was', 'by', 'that'}\n",
    "\n",
    "sample = embedding_by_word('the')\n",
    "columns = sample.size()[1]\n",
    "\n",
    "samples = batcher.c.most_common(10000)\n",
    "df = pd.DataFrame(index=range(len(samples)), columns=[str(i) for i in range(columns)])\n",
    "for i in range(len(samples)):\n",
    "    df.iloc[i] = embedding_by_word(samples[i][0]).cpu().detach().numpy()\n",
    "df['label'] = pd.Series([x[0] for x in samples])\n",
    "df['color'] = pd.Series(['r' if x[0] in STOP_WORDS else\n",
    "                         'b' if x[1] > 100000 else\n",
    "                         'y' if x[1] > 10000 else\n",
    "                         'g' for x in samples])"
   ]
  },
  {
   "cell_type": "code",
   "execution_count": 97,
   "metadata": {},
   "outputs": [],
   "source": [
    "df.loc[:, ['label', 'color']].to_csv('metadata.tsv', sep='\\t', index=False)\n",
    "df.iloc[:, :888].to_csv('embeddings.tsv', sep='\\t', header=False, index=False)"
   ]
  },
  {
   "cell_type": "markdown",
   "metadata": {},
   "source": [
    "PCA results via linkes wibsite:\n",
    "\n",
    "- Numeric words are red, stop words are blue, popular words are pink\n",
    "- As you can see, they cluster good enough\n",
    "- Hockey and USSR are near :)\n",
    "- Nearest word for `husband` is `oh` :))\n",
    "- Near `criticisms` one can find `nazi` cluster\n",
    "- Months are clustering - for each month the nearest tensor is another month. Also related words are: `born`, `broadway`, and `voting`, which makes much sense for me. One exception is `may` as it's get clustered with verbs.\n",
    "\n",
    "![PCA results](imgs/PCA.png)"
   ]
  },
  {
   "attachments": {},
   "cell_type": "markdown",
   "metadata": {},
   "source": [
    "T-SNE results:\n",
    "\n",
    "Overall picture after some iterations\n",
    "![TSNE](imgs/TSNE1.png)\n",
    "\n",
    "Small cluster of the popular words extracted separately\n",
    "![TSNE](imgs/TSNE2.png)\n",
    "\n",
    "AS example, we can examine numeric words, most of them are quite near\n",
    "![TSNE](imgs/TSNE3.png)"
   ]
  },
  {
   "cell_type": "code",
   "execution_count": 114,
   "metadata": {},
   "outputs": [
    {
     "data": {
      "application/vnd.jupyter.widget-view+json": {
       "model_id": "4db95d76697e4549a3d765ac23f81960",
       "version_major": 2,
       "version_minor": 0
      },
      "text/plain": [
       "HBox(children=(FloatProgress(value=0.0, max=58113.0), HTML(value='')))"
      ]
     },
     "metadata": {},
     "output_type": "display_data"
    },
    {
     "name": "stdout",
     "output_type": "stream",
     "text": [
      "'0, a'\n",
      "'100, abeda'\n",
      "'200, abraham'\n",
      "'300, acadians'\n",
      "'400, accumulate'\n",
      "'500, acquires'\n",
      "'600, adapters'\n",
      "'700, adjusted'\n",
      "'800, adrienne'\n",
      "'900, aerial'\n",
      "'1000, afield'\n",
      "'1100, agile'\n",
      "'1200, aikman'\n",
      "'1300, akimbo'\n",
      "'1400, alchemist'\n",
      "'1500, alfaro'\n",
      "'1600, allegedly'\n",
      "'1700, almonds'\n",
      "'1800, alto'\n",
      "'1900, ambition'\n",
      "'2000, ammonite'\n",
      "'2100, amyraut'\n",
      "'2200, ancestral'\n",
      "'2300, angelico'\n",
      "'2400, annabel'\n",
      "'2500, antarctica'\n",
      "'2600, antiproton'\n",
      "'2700, apatosaurus'\n",
      "'2800, appeased'\n",
      "'2900, approximations'\n",
      "'3000, arbor'\n",
      "'3100, arduous'\n",
      "'3200, arlene'\n",
      "'3300, arrive'\n",
      "'3400, ascalon'\n",
      "'3500, aspartic'\n",
      "'3600, associated'\n",
      "'3700, asymmetry'\n",
      "'3800, atrial'\n",
      "'3900, aucklanders'\n",
      "'4000, australians'\n",
      "'4100, autumn'\n",
      "'4200, award'\n",
      "'4300, aztlan'\n",
      "'4400, badb'\n",
      "'4500, bakunin'\n",
      "'4600, bamiyan'\n",
      "'4700, baptized'\n",
      "'4800, barratry'\n",
      "'4900, basler'\n",
      "'5000, battling'\n",
      "'5100, beans'\n",
      "'5200, beeching'\n",
      "'5300, belgica'\n",
      "'5400, benelux'\n",
      "'5500, bernadette'\n",
      "'5600, bevan'\n",
      "'5700, biennial'\n",
      "'5800, biodiversity'\n",
      "'5900, bishop'\n",
      "'6000, blair'\n",
      "'6100, blobs'\n",
      "'6200, bmj'\n",
      "'6300, bogs'\n",
      "'6400, bone'\n",
      "'6500, bordering'\n",
      "'6600, bou'\n",
      "'6700, boyce'\n",
      "'6800, branden'\n",
      "'6900, breeches'\n",
      "'7000, brightly'\n",
      "'7100, bronchial'\n",
      "'7200, bryan'\n",
      "'7300, buffett'\n",
      "'7400, bunk'\n",
      "'7500, burton'\n",
      "'7600, byproduct'\n",
      "'7700, cage'\n",
      "'7800, callimico'\n",
      "'7900, campuses'\n",
      "'8000, cans'\n",
      "'8100, captaincy'\n",
      "'8200, caretaker'\n",
      "'8300, carrera'\n",
      "'8400, cass'\n",
      "'8500, catastrophe'\n",
      "'8600, causes'\n",
      "'8700, cebidae'\n",
      "'8800, centered'\n",
      "'8900, cesium'\n",
      "'9000, champagne'\n",
      "'9100, charger'\n",
      "'9200, checkout'\n",
      "'9300, chicago'\n",
      "'9400, chlamydia'\n",
      "'9500, christensen'\n",
      "'9600, chuvash'\n",
      "'9700, circumstantial'\n",
      "'9800, clandestinely'\n",
      "'9900, cleansing'\n",
      "'10000, clintons'\n",
      "'10100, clusters'\n",
      "'10200, cockney'\n",
      "'10300, coil'\n",
      "'10400, collegetown'\n",
      "'10500, column'\n",
      "'10600, comment'\n",
      "'10700, compaction'\n",
      "'10800, complication'\n",
      "'10900, conceit'\n",
      "'11000, conditioned'\n",
      "'11100, conformist'\n",
      "'11200, connectives'\n",
      "'11300, consisting'\n",
      "'11400, consultants'\n",
      "'11500, contours'\n",
      "'11600, converting'\n",
      "'11700, coprocessor'\n",
      "'11800, coroner'\n",
      "'11900, cos'\n",
      "'12000, counterbalanced'\n",
      "'12100, covent'\n",
      "'12200, craps'\n",
      "'12300, crewmembers'\n",
      "'12400, cromwell'\n",
      "'12500, crushing'\n",
      "'12600, cubic'\n",
      "'12700, curds'\n",
      "'12800, cutters'\n",
      "'12900, cytoplasm'\n",
      "'13000, dali'\n",
      "'13100, dar'\n",
      "'13200, davidians'\n",
      "'13300, dearth'\n",
      "'13400, decisively'\n",
      "'13500, deems'\n",
      "'13600, defuse'\n",
      "'13700, delineation'\n",
      "'13800, demonstrating'\n",
      "'13900, departing'\n",
      "'14000, deride'\n",
      "'14100, desolate'\n",
      "'14200, detours'\n",
      "'14300, dewan'\n",
      "'14400, diaper'\n",
      "'14500, differed'\n",
      "'14600, diminished'\n",
      "'14700, directive'\n",
      "'14800, dischord'\n",
      "'14900, disenfranchisement'\n",
      "'15000, dispensationalism'\n",
      "'15100, dissonance'\n",
      "'15200, diversifying'\n",
      "'15300, dobson'\n",
      "'15400, domestication'\n",
      "'15500, doping'\n",
      "'15600, downfall'\n",
      "'15700, drawbridge'\n",
      "'15800, drought'\n",
      "'15900, duchenne'\n",
      "'16000, dunwich'\n",
      "'16100, dwyer'\n",
      "'16200, earthly'\n",
      "'16300, echl'\n",
      "'16400, edicts'\n",
      "'16500, effluents'\n",
      "'16600, ejaculate'\n",
      "'16700, electromyography'\n",
      "'16800, elkins'\n",
      "'16900, embarked'\n",
      "'17000, emma'\n",
      "'17100, encamp'\n",
      "'17200, ending'\n",
      "'17300, engrailed'\n",
      "'17400, entablature'\n",
      "'17500, envoy'\n",
      "'17600, eps'\n",
      "'17700, ergonomic'\n",
      "'17800, escalator'\n",
      "'17900, establishments'\n",
      "'18000, etienne'\n",
      "'18100, eurystheus'\n",
      "'18200, evicted'\n",
      "'18300, exceptions'\n",
      "'18400, exhaustively'\n",
      "'18500, expense'\n",
      "'18600, expressive'\n",
      "'18700, eyeless'\n",
      "'18800, fadlan'\n",
      "'18900, famagusta'\n",
      "'19000, faroe'\n",
      "'19100, favors'\n",
      "'19200, feet'\n",
      "'19300, feroze'\n",
      "'19400, fib'\n",
      "'19500, filibuster'\n",
      "'19600, finisterre'\n",
      "'19700, fists'\n",
      "'19800, flatness'\n",
      "'19900, floccinaucinihilipilification'\n",
      "'20000, flying'\n",
      "'20100, foobar'\n",
      "'20200, forest'\n",
      "'20300, forth'\n",
      "'20400, fractional'\n",
      "'20500, frauds'\n",
      "'20600, frequentist'\n",
      "'20700, frontage'\n",
      "'20800, fulgencio'\n",
      "'20900, fuselage'\n",
      "'21000, gakuin'\n",
      "'21100, gamecube'\n",
      "'21200, garonne'\n",
      "'21300, gaye'\n",
      "'21400, gemological'\n",
      "'21500, gentlemen'\n",
      "'21600, germinal'\n",
      "'21700, gia'\n",
      "'21800, ginsberg'\n",
      "'21900, glazer'\n",
      "'22000, glutamine'\n",
      "'22100, goggles'\n",
      "'22200, googolplex'\n",
      "'22300, gower'\n",
      "'22400, grandmother'\n",
      "'22500, gre'\n",
      "'22600, griffiths'\n",
      "'22700, groves'\n",
      "'22800, guernica'\n",
      "'22900, gunnery'\n",
      "'23000, gyro'\n",
      "'23100, hagia'\n",
      "'23200, halloween'\n",
      "'23300, handguard'\n",
      "'23400, harakat'\n",
      "'23500, harpersanfrancisco'\n",
      "'23600, hath'\n",
      "'23700, haznawi'\n",
      "'23800, heater'\n",
      "'23900, heineken'\n",
      "'24000, hemlock'\n",
      "'24100, heredity'\n",
      "'24200, hesser'\n",
      "'24300, hierarchies'\n",
      "'24400, hinder'\n",
      "'24500, hitch'\n",
      "'24600, hohlbein'\n",
      "'24700, homicide'\n",
      "'24800, hooper'\n",
      "'24900, hoshino'\n",
      "'25000, hoysala'\n",
      "'25100, humanoid'\n",
      "'25200, husbands'\n",
      "'25300, hyenas'\n",
      "'25400, iamblichus'\n",
      "'25500, idaho'\n",
      "'25600, igg'\n",
      "'25700, illusory'\n",
      "'25800, immorality'\n",
      "'25900, implemented'\n",
      "'26000, inaccuracy'\n",
      "'26100, incompletely'\n",
      "'26200, indicating'\n",
      "'26300, inen'\n",
      "'26400, inflated'\n",
      "'26500, inhabiting'\n",
      "'26600, innovation'\n",
      "'26700, inst'\n",
      "'26800, intake'\n",
      "'26900, interconnects'\n",
      "'27000, interpolation'\n",
      "'27100, intrepid'\n",
      "'27200, investment'\n",
      "'27300, iraqis'\n",
      "'27400, isaiah'\n",
      "'27500, israelite'\n",
      "'27600, iwama'\n",
      "'27700, jair'\n",
      "'27800, jawaharlal'\n",
      "'27900, jespersen'\n",
      "'28000, joanna'\n",
      "'28100, josep'\n",
      "'28200, judicial'\n",
      "'28300, justifies'\n",
      "'28400, kambojas'\n",
      "'28500, karlsruhe'\n",
      "'28600, kcal'\n",
      "'28700, kenya'\n",
      "'28800, khalid'\n",
      "'28900, kilobyte'\n",
      "'29000, kirov'\n",
      "'29100, knicks'\n",
      "'29200, komm'\n",
      "'29300, kraken'\n",
      "'29400, kun'\n",
      "'29500, labiodental'\n",
      "'29600, laguardia'\n",
      "'29700, landed'\n",
      "'29800, lapland'\n",
      "'29900, latter'\n",
      "'30000, laypersons'\n",
      "'30100, leaved'\n",
      "'30200, legionaries'\n",
      "'30300, leninist'\n",
      "'30400, lettre'\n",
      "'30500, liao'\n",
      "'30600, lied'\n",
      "'30700, lille'\n",
      "'30800, lining'\n",
      "'30900, literature'\n",
      "'31000, ln'\n",
      "'31100, logan'\n",
      "'31200, longship'\n",
      "'31300, lothian'\n",
      "'31400, ltc'\n",
      "'31500, lumberjack'\n",
      "'31600, lyc'\n",
      "'31700, macduff'\n",
      "'31800, madge'\n",
      "'31900, magnificat'\n",
      "'32000, maitre'\n",
      "'32100, malik'\n",
      "'32200, manche'\n",
      "'32300, mankind'\n",
      "'32400, marathon'\n",
      "'32500, marino'\n",
      "'32600, marshal'\n",
      "'32700, maslow'\n",
      "'32800, mathematische'\n",
      "'32900, mawr'\n",
      "'33000, mcculloch'\n",
      "'33100, meaningful'\n",
      "'33200, mediterranean'\n",
      "'33300, mellen'\n",
      "'33400, meninges'\n",
      "'33500, merlini'\n",
      "'33600, metaphase'\n",
      "'33700, mez'\n",
      "'33800, microorganisms'\n",
      "'33900, miguel'\n",
      "'34000, millionaires'\n",
      "'34100, minimise'\n",
      "'34200, misandry'\n",
      "'34300, mistaking'\n",
      "'34400, mmix'\n",
      "'34500, modicum'\n",
      "'34600, mollymawks'\n",
      "'34700, mono'\n",
      "'34800, montezuma'\n",
      "'34900, mori'\n",
      "'35000, mosquitos'\n",
      "'35100, mourn'\n",
      "'35200, mtv'\n",
      "'35300, multiplies'\n",
      "'35400, muscle'\n",
      "'35500, mwh'\n",
      "'35600, nadir'\n",
      "'35700, napkin'\n",
      "'35800, native'\n",
      "'35900, nda'\n",
      "'36000, negotiators'\n",
      "'36100, nervousness'\n",
      "'36200, nevil'\n",
      "'36300, niccolo'\n",
      "'36400, nikolayevich'\n",
      "'36500, nmos'\n",
      "'36600, nonetheless'\n",
      "'36700, northridge'\n",
      "'36800, novelization'\n",
      "'36900, nudge'\n",
      "'37000, nyos'\n",
      "'37100, obscures'\n",
      "'37200, oceans'\n",
      "'37300, offensives'\n",
      "'37400, oldest'\n",
      "'37500, onetime'\n",
      "'37600, opold'\n",
      "'37700, orchestra'\n",
      "'37800, orifice'\n",
      "'37900, oscilloscopes'\n",
      "'38000, ouguiya'\n",
      "'38100, outsold'\n",
      "'38200, overrule'\n",
      "'38300, oxidizer'\n",
      "'38400, pahlavi'\n",
      "'38500, palmerston'\n",
      "'38600, papert'\n",
      "'38700, pardubice'\n",
      "'38800, participated'\n",
      "'38900, pasteurized'\n",
      "'39000, patronymic'\n",
      "'39100, pdv'\n",
      "'39200, pegg'\n",
      "'39300, penrose'\n",
      "'39400, performa'\n",
      "'39500, persecute'\n",
      "'39600, pete'\n",
      "'39700, pharmacologic'\n",
      "'39800, phocas'\n",
      "'39900, physiocrats'\n",
      "'40000, pigeon'\n",
      "'40100, piper'\n",
      "'40200, placements'\n",
      "'40300, platter'\n",
      "'40400, plots'\n",
      "'40500, podkopayeva'\n",
      "'40600, politecnico'\n",
      "'40700, polysaccharides'\n",
      "'40800, popularizer'\n",
      "'40900, possessed'\n",
      "'41000, pouches'\n",
      "'41100, praline'\n",
      "'41200, prediction'\n",
      "'41300, prepositioning'\n",
      "'41400, presumption'\n",
      "'41500, princip'\n",
      "'41600, proceedings'\n",
      "'41700, programmed'\n",
      "'41800, pronunciation'\n",
      "'41900, prospector'\n",
      "'42000, providence'\n",
      "'42100, psychoanalyst'\n",
      "'42200, pulsars'\n",
      "'42300, purports'\n",
      "'42400, qaeda'\n",
      "'42500, quantized'\n",
      "'42600, quicksort'\n",
      "'42700, racecar'\n",
      "'42800, ragga'\n",
      "'42900, ramesses'\n",
      "'43000, rapunzel'\n",
      "'43100, rawhide'\n",
      "'43200, realization'\n",
      "'43300, recapture'\n",
      "'43400, reconnaissance'\n",
      "'43500, redevelop'\n",
      "'43600, refinement'\n",
      "'43700, regents'\n",
      "'43800, reims'\n",
      "'43900, relegation'\n",
      "'44000, remixing'\n",
      "'44100, repair'\n",
      "'44200, reprint'\n",
      "'44300, reservation'\n",
      "'44400, respondent'\n",
      "'44500, retells'\n",
      "'44600, reversal'\n",
      "'44700, rgb'\n",
      "'44800, richman'\n",
      "'44900, rik'\n",
      "'45000, rivas'\n",
      "'45100, robust'\n",
      "'45200, romain'\n",
      "'45300, rosenzweig'\n",
      "'45400, rowdy'\n",
      "'45500, rudd'\n",
      "'45600, rushmore'\n",
      "'45700, saccas'\n",
      "'45800, sailed'\n",
      "'45900, salute'\n",
      "'46000, sandra'\n",
      "'46100, sarris'\n",
      "'46200, savage'\n",
      "'46300, scantily'\n",
      "'46400, schizophrenic'\n",
      "'46500, sclerosis'\n",
      "'46600, scripts'\n",
      "'46700, searched'\n",
      "'46800, sed'\n",
      "'46900, selberg'\n"
     ]
    },
    {
     "name": "stdout",
     "output_type": "stream",
     "text": [
      "'47000, senegal'\n",
      "'47100, sequencers'\n",
      "'47200, seti'\n",
      "'47300, shadowing'\n",
      "'47400, shares'\n",
      "'47500, sheltered'\n",
      "'47600, shiragami'\n",
      "'47700, shoulder'\n",
      "'47800, shyness'\n",
      "'47900, signaled'\n",
      "'48000, similarities'\n",
      "'48100, sinner'\n",
      "'48200, skel'\n",
      "'48300, slashes'\n",
      "'48400, slotted'\n",
      "'48500, smoot'\n",
      "'48600, soapbox'\n",
      "'48700, sold'\n",
      "'48800, sonar'\n",
      "'48900, soundness'\n",
      "'49000, spanning'\n",
      "'49100, specter'\n",
      "'49200, spinoffs'\n",
      "'49300, sporting'\n",
      "'49400, squaw'\n",
      "'49500, stainless'\n",
      "'49600, starfish'\n",
      "'49700, steadfastly'\n",
      "'49800, stereotypically'\n",
      "'49900, stitch'\n",
      "'50000, stowe'\n",
      "'50100, strengthen'\n",
      "'50200, struggles'\n",
      "'50300, subcarrier'\n",
      "'50400, subscripts'\n",
      "'50500, success'\n",
      "'50600, suited'\n",
      "'50700, sunnyvale'\n",
      "'50800, superstructure'\n",
      "'50900, surname'\n",
      "'51000, suzuki'\n",
      "'51100, swinnerton'\n",
      "'51200, symptoms'\n",
      "'51300, szl'\n",
      "'51400, tails'\n",
      "'51500, tamar'\n",
      "'51600, taranto'\n",
      "'51700, taxa'\n",
      "'51800, teddy'\n",
      "'51900, temmu'\n",
      "'52000, terahertz'\n",
      "'52100, tetra'\n",
      "'52200, theirs'\n",
      "'52300, thermionic'\n",
      "'52400, thoroughgoing'\n",
      "'52500, thuringiensis'\n",
      "'52600, tiled'\n",
      "'52700, tirpitz'\n",
      "'52800, tojo'\n",
      "'52900, toonopedia'\n",
      "'53000, total'\n",
      "'53100, trackless'\n",
      "'53200, transcribed'\n",
      "'53300, transparent'\n",
      "'53400, treatise'\n",
      "'53500, triennial'\n",
      "'53600, trollh'\n",
      "'53700, truths'\n",
      "'53800, tum'\n",
      "'53900, tursiops'\n",
      "'54000, typhus'\n",
      "'54100, uhf'\n",
      "'54200, unanimously'\n",
      "'54300, unction'\n",
      "'54400, undetected'\n",
      "'54500, unhappy'\n",
      "'54600, universitas'\n",
      "'54700, unquestionably'\n",
      "'54800, unthinkable'\n",
      "'54900, upshot'\n",
      "'55000, usb'\n",
      "'55100, uvular'\n",
      "'55200, vallabhbhai'\n",
      "'55300, various'\n",
      "'55400, vehement'\n",
      "'55500, verdon'\n",
      "'55600, vesuvius'\n",
      "'55700, vienna'\n",
      "'55800, violating'\n",
      "'55900, vitale'\n",
      "'56000, vojt'\n",
      "'56100, vrml'\n",
      "'56200, wake'\n",
      "'56300, want'\n",
      "'56400, wassily'\n",
      "'56500, wb'\n",
      "'56600, wehrmacht'\n",
      "'56700, west'\n",
      "'56800, whipped'\n",
      "'56900, widened'\n",
      "'57000, williamite'\n",
      "'57100, wirth'\n",
      "'57200, wollaston'\n",
      "'57300, workout'\n",
      "'57400, wrestlers'\n",
      "'57500, xerxes'\n",
      "'57600, yakuza'\n",
      "'57700, yeshiva'\n",
      "'57800, ystem'\n",
      "'57900, zappa'\n",
      "'58000, zim'\n",
      "'58100, zwi'\n",
      "\n"
     ]
    },
    {
     "data": {
      "text/plain": [
       "<gensim.models.keyedvectors.WordEmbeddingsKeyedVectors at 0x14045015160>"
      ]
     },
     "execution_count": 114,
     "metadata": {},
     "output_type": "execute_result"
    }
   ],
   "source": [
    "from gensim.models.keyedvectors import WordEmbeddingsKeyedVectors\n",
    "\n",
    "embedding = WordEmbeddingsKeyedVectors(vector_size=888)\n",
    "for i, n in enumerate(tqdm(batcher.word2ind)):\n",
    "    embedding.add(entities=n, weights=embedding_by_word(n).cpu().detach())\n",
    "    if not i % 100:\n",
    "        pprint(f'{i}, {n}')"
   ]
  },
  {
   "cell_type": "code",
   "execution_count": 115,
   "metadata": {},
   "outputs": [],
   "source": [
    "embedding.save('keyed_values.dir')"
   ]
  },
  {
   "cell_type": "code",
   "execution_count": 132,
   "metadata": {},
   "outputs": [
    {
     "name": "stdout",
     "output_type": "stream",
     "text": [
      "0.0033216679518358145\n",
      "'capital-common-countries: 6 / 506'\n",
      "'capital-world: 3 / 3224'\n",
      "'currency: 0 / 548'\n",
      "'city-in-state: 4 / 2128'\n",
      "'family: 28 / 420'\n",
      "'gram1-adjective-to-adverb: 0 / 992'\n",
      "'gram2-opposite: 5 / 650'\n",
      "'gram3-comparative: 5 / 1332'\n",
      "'gram4-superlative: 0 / 870'\n",
      "'gram5-present-participle: 0 / 1056'\n",
      "'gram6-nationality-adjective: 2 / 1521'\n",
      "'gram7-past-tense: 1 / 1482'\n",
      "'gram8-plural: 2 / 1260'\n",
      "'gram9-plural-verbs: 0 / 870'\n",
      "'Total accuracy: 56 / 16859'\n"
     ]
    }
   ],
   "source": [
    "# 0.003 :(\n",
    "accuracy, result = embedding.evaluate_word_analogies('questions-words.txt')\n",
    "pprint(accuracy)\n",
    "for r in result:\n",
    "    correct_len = len(r['correct'])\n",
    "    incorrect_len = len(r['incorrect'])\n",
    "    pprint(f'{r[\"section\"]}: {correct_len} / {(correct_len + incorrect_len)}')"
   ]
  },
  {
   "cell_type": "code",
   "execution_count": 129,
   "metadata": {},
   "outputs": [
    {
     "name": "stdout",
     "output_type": "stream",
     "text": [
      "(0.11921588873527891,\n",
      " 0.19238090419572795,\n",
      " [('goddess', 0.26827317476272583),\n",
      "  ('ivan', 0.25932806730270386),\n",
      "  ('count', 0.25258105993270874),\n",
      "  ('successor', 0.2509012818336487),\n",
      "  ('elder', 0.24425522983074188),\n",
      "  ('assistant', 0.24366986751556396),\n",
      "  ('terrified', 0.24023668467998505),\n",
      "  ('dissolution', 0.24021600186824799),\n",
      "  ('caesaris', 0.2356097400188446),\n",
      "  ('audrey', 0.23385654389858246)],\n",
      " 0.46028097442197746)\n"
     ]
    },
    {
     "data": {
      "text/plain": [
       "((0.1611660995499102, 0.0024933373498505786),\n",
       " SpearmanrResult(correlation=0.14772197868394188, pvalue=0.0056238029600451005),\n",
       " 0.84985835694051)"
      ]
     },
     "execution_count": 129,
     "metadata": {},
     "output_type": "execute_result"
    }
   ],
   "source": [
    "from gensim.test.utils import datapath\n",
    "\n",
    "pprint(\n",
    "    (embedding.n_similarity([\"king\"], [\"duke\"]),\n",
    "     embedding.n_similarity([\"king\"], [\"queen\"]),\n",
    "     embedding.most_similar(positive=['woman', 'king'], negative=['man']),\n",
    "     embedding.n_similarity(['sushi', 'shop'], ['japanese', 'restaurant']),))\n",
    "\n",
    "embedding.evaluate_word_pairs(datapath('wordsim353.tsv'))"
   ]
  }
 ],
 "metadata": {
  "kernelspec": {
   "display_name": "Python 3",
   "language": "python",
   "name": "python3"
  },
  "language_info": {
   "codemirror_mode": {
    "name": "ipython",
    "version": 3
   },
   "file_extension": ".py",
   "mimetype": "text/x-python",
   "name": "python",
   "nbconvert_exporter": "python",
   "pygments_lexer": "ipython3",
   "version": "3.7.1"
  },
  "widgets": {
   "application/vnd.jupyter.widget-state+json": {
    "state": {
     "0041a04ff2b743b791865fdda65cea7d": {
      "model_module": "@jupyter-widgets/controls",
      "model_module_version": "1.5.0",
      "model_name": "HBoxModel",
      "state": {
       "children": [
        "IPY_MODEL_f2c91beb9ca64bf6822ead7454479ecb",
        "IPY_MODEL_880bc84055624ac48bdac795f1f5972b"
       ],
       "layout": "IPY_MODEL_f425a0b7447342428412f403b04f8001"
      }
     },
     "00cc855df66a4d65bd2a2db8d44d9c0a": {
      "model_module": "@jupyter-widgets/base",
      "model_module_version": "1.2.0",
      "model_name": "LayoutModel",
      "state": {}
     },
     "00d04875d98b4b13afb30b2b924cb8d7": {
      "model_module": "@jupyter-widgets/controls",
      "model_module_version": "1.5.0",
      "model_name": "HBoxModel",
      "state": {
       "children": [
        "IPY_MODEL_32116c092a154acebc010fdc5e756bad",
        "IPY_MODEL_fab022981375415496b4309ce50cae0a"
       ],
       "layout": "IPY_MODEL_b0512371b7cb4bfeaab42236058494b9"
      }
     },
     "016768ffcf5d4219ae372cd67e7484bc": {
      "model_module": "@jupyter-widgets/controls",
      "model_module_version": "1.5.0",
      "model_name": "HBoxModel",
      "state": {
       "children": [
        "IPY_MODEL_13548a95e8b049afacf01f87ac935fbd",
        "IPY_MODEL_5de5c9a3c7dd4e09bd751f2fb2d6f5e8"
       ],
       "layout": "IPY_MODEL_d55b078066b947239dc4674953ad4153"
      }
     },
     "02f154564e2c4f6ea5826032270513f9": {
      "model_module": "@jupyter-widgets/controls",
      "model_module_version": "1.5.0",
      "model_name": "HTMLModel",
      "state": {
       "layout": "IPY_MODEL_6f68f3bbce7a46c3b605b4d9c81f57d4",
       "style": "IPY_MODEL_2f55d169267c4dddb5504a739a06be50",
       "value": " 701/? [1:38:06&lt;00:00,  8.40s/it, loss=tensor(6.8378, device=&#x27;cuda:0&#x27;)]"
      }
     },
     "02f4a1e25ab647f095885de0e1886473": {
      "model_module": "@jupyter-widgets/base",
      "model_module_version": "1.2.0",
      "model_name": "LayoutModel",
      "state": {}
     },
     "039abda1e9174f6082b2f0206301748d": {
      "model_module": "@jupyter-widgets/controls",
      "model_module_version": "1.5.0",
      "model_name": "DescriptionStyleModel",
      "state": {
       "description_width": ""
      }
     },
     "0461b9ec50ee4371b21d9d59d67378ca": {
      "model_module": "@jupyter-widgets/controls",
      "model_module_version": "1.5.0",
      "model_name": "DescriptionStyleModel",
      "state": {
       "description_width": ""
      }
     },
     "0587e9c508644c5ea5ad7400271ffe72": {
      "model_module": "@jupyter-widgets/controls",
      "model_module_version": "1.5.0",
      "model_name": "FloatProgressModel",
      "state": {
       "bar_style": "danger",
       "description": "Epoch 14: ",
       "layout": "IPY_MODEL_bc104d2eb294462ca56111f633357006",
       "max": 1,
       "style": "IPY_MODEL_639cb4a2be91407fafa8c4973d0e4b78",
       "value": 1
      }
     },
     "06da9f4cf67342c19d8ec89ce23f6857": {
      "model_module": "@jupyter-widgets/controls",
      "model_module_version": "1.5.0",
      "model_name": "DescriptionStyleModel",
      "state": {
       "description_width": ""
      }
     },
     "077d6181a46146afa54602406b84c79b": {
      "model_module": "@jupyter-widgets/controls",
      "model_module_version": "1.5.0",
      "model_name": "HTMLModel",
      "state": {
       "layout": "IPY_MODEL_3fe32ad2f6ec47eb817f280f0d470d8e",
       "style": "IPY_MODEL_e813fd3e291f414badde71118ecbeea7",
       "value": " 701/? [06:58&lt;00:00,  1.69it/s, loss=tensor(5.5856, device=&#x27;cuda:0&#x27;)]"
      }
     },
     "07c2cbbbca414969a3127a79bc78f266": {
      "model_module": "@jupyter-widgets/controls",
      "model_module_version": "1.5.0",
      "model_name": "DescriptionStyleModel",
      "state": {
       "description_width": ""
      }
     },
     "095a09dde1ef4bacb2e40218b67bb866": {
      "model_module": "@jupyter-widgets/base",
      "model_module_version": "1.2.0",
      "model_name": "LayoutModel",
      "state": {}
     },
     "0a8455a220c44280a87d94877e6628ab": {
      "model_module": "@jupyter-widgets/base",
      "model_module_version": "1.2.0",
      "model_name": "LayoutModel",
      "state": {}
     },
     "0ad8b0829fe744aab6e2ebd659fb0650": {
      "model_module": "@jupyter-widgets/controls",
      "model_module_version": "1.5.0",
      "model_name": "ProgressStyleModel",
      "state": {
       "description_width": "initial"
      }
     },
     "0b1333c663ed4bd5b020b7022ec348ae": {
      "model_module": "@jupyter-widgets/controls",
      "model_module_version": "1.5.0",
      "model_name": "HBoxModel",
      "state": {
       "children": [
        "IPY_MODEL_4e969e0749d744d3b4092410a3dbd3cf",
        "IPY_MODEL_f3c5ed563d004b688fb9f8cdead7de94"
       ],
       "layout": "IPY_MODEL_eb67b9d59f4f4441a39ce376eef6a816"
      }
     },
     "0bcb4b1a02b04a89bce890e880d2ecf4": {
      "model_module": "@jupyter-widgets/base",
      "model_module_version": "1.2.0",
      "model_name": "LayoutModel",
      "state": {}
     },
     "0ceacc8427624d8daaefe939560d6090": {
      "model_module": "@jupyter-widgets/controls",
      "model_module_version": "1.5.0",
      "model_name": "HBoxModel",
      "state": {
       "children": [
        "IPY_MODEL_8576334298d34ff3bedea48b8f9d53db",
        "IPY_MODEL_fe94c8b0e06e4bae8b9d85c281624643"
       ],
       "layout": "IPY_MODEL_095a09dde1ef4bacb2e40218b67bb866"
      }
     },
     "0d7f104142e04e2684783f53d4314af3": {
      "model_module": "@jupyter-widgets/base",
      "model_module_version": "1.2.0",
      "model_name": "LayoutModel",
      "state": {}
     },
     "0e4e399f5e4a494d9a8e050d479f4999": {
      "model_module": "@jupyter-widgets/controls",
      "model_module_version": "1.5.0",
      "model_name": "HTMLModel",
      "state": {
       "layout": "IPY_MODEL_babb7acf39884a3d90e6dff733671519",
       "style": "IPY_MODEL_53b19c1f47eb4ca2b51a853f8e6e732d",
       "value": " 701/? [4:02:38&lt;00:00, 20.77s/it, loss=tensor(7.4419, device=&#x27;cuda:0&#x27;)]"
      }
     },
     "0eaa4dae1e8d457fb126b32e874772b0": {
      "model_module": "@jupyter-widgets/controls",
      "model_module_version": "1.5.0",
      "model_name": "ProgressStyleModel",
      "state": {
       "description_width": "initial"
      }
     },
     "0edca00e946247dd961fce61da319dea": {
      "model_module": "@jupyter-widgets/controls",
      "model_module_version": "1.5.0",
      "model_name": "DescriptionStyleModel",
      "state": {
       "description_width": ""
      }
     },
     "0fbae592c53e46aab0b0124dc258e3d0": {
      "model_module": "@jupyter-widgets/base",
      "model_module_version": "1.2.0",
      "model_name": "LayoutModel",
      "state": {}
     },
     "10479e15ec894662a384b4a283482cfe": {
      "model_module": "@jupyter-widgets/controls",
      "model_module_version": "1.5.0",
      "model_name": "ProgressStyleModel",
      "state": {
       "description_width": "initial"
      }
     },
     "10585971e8fa4d5d8bde24135e555f2b": {
      "model_module": "@jupyter-widgets/controls",
      "model_module_version": "1.5.0",
      "model_name": "FloatProgressModel",
      "state": {
       "bar_style": "danger",
       "description": "Epoch 14: ",
       "layout": "IPY_MODEL_4bc13d45462641d0ba8f587ac44638e4",
       "max": 1,
       "style": "IPY_MODEL_b20ee325e56949f9b6dce473da4fd0a9",
       "value": 1
      }
     },
     "10b868c5e8e542aa80e8f6872551759d": {
      "model_module": "@jupyter-widgets/controls",
      "model_module_version": "1.5.0",
      "model_name": "FloatProgressModel",
      "state": {
       "bar_style": "danger",
       "description": "Epoch 9: ",
       "layout": "IPY_MODEL_3e044c831c6743029c34ca4ff15d8f6e",
       "max": 1,
       "style": "IPY_MODEL_6256f908a76648229e9172f1da19569e",
       "value": 1
      }
     },
     "10d2722637dc49acbc291dbf198f01be": {
      "model_module": "@jupyter-widgets/controls",
      "model_module_version": "1.5.0",
      "model_name": "ProgressStyleModel",
      "state": {
       "description_width": "initial"
      }
     },
     "11f562f684f24ef19af3d370e637de7f": {
      "model_module": "@jupyter-widgets/base",
      "model_module_version": "1.2.0",
      "model_name": "LayoutModel",
      "state": {}
     },
     "129f72fb521d4016b0d7f2890eff2d24": {
      "model_module": "@jupyter-widgets/base",
      "model_module_version": "1.2.0",
      "model_name": "LayoutModel",
      "state": {}
     },
     "1317f70f70a446b3bc51f7adc5712808": {
      "model_module": "@jupyter-widgets/controls",
      "model_module_version": "1.5.0",
      "model_name": "ProgressStyleModel",
      "state": {
       "description_width": "initial"
      }
     },
     "13548a95e8b049afacf01f87ac935fbd": {
      "model_module": "@jupyter-widgets/controls",
      "model_module_version": "1.5.0",
      "model_name": "FloatProgressModel",
      "state": {
       "bar_style": "danger",
       "description": "Epoch 0: ",
       "layout": "IPY_MODEL_68509f41d7c1440d9a5f5d2199d45cba",
       "max": 1,
       "style": "IPY_MODEL_f781613adec64d7e9358d52244d4609a",
       "value": 1
      }
     },
     "13e6e1d701f74804bebe2bb48da943fd": {
      "model_module": "@jupyter-widgets/controls",
      "model_module_version": "1.5.0",
      "model_name": "HTMLModel",
      "state": {
       "layout": "IPY_MODEL_20c11df5b87a47f5ba519d945794a5a4",
       "style": "IPY_MODEL_373c8acfb7c54330967f0ec2d1ea427c",
       "value": " 701/? [2:36:15&lt;00:00, 13.37s/it, loss=tensor(7.0394, device=&#x27;cuda:0&#x27;)]"
      }
     },
     "1468e73c430a49c0bea982b7e5c73b8c": {
      "model_module": "@jupyter-widgets/base",
      "model_module_version": "1.2.0",
      "model_name": "LayoutModel",
      "state": {}
     },
     "14df0379772745b0801557a4023c7754": {
      "model_module": "@jupyter-widgets/base",
      "model_module_version": "1.2.0",
      "model_name": "LayoutModel",
      "state": {}
     },
     "14f003d364b14f98be82846c519b6179": {
      "model_module": "@jupyter-widgets/controls",
      "model_module_version": "1.5.0",
      "model_name": "FloatProgressModel",
      "state": {
       "bar_style": "danger",
       "description": "Epoch 1: ",
       "layout": "IPY_MODEL_cfc17af81723438f9c5593a56f3c29d9",
       "max": 1,
       "style": "IPY_MODEL_e27866227e064635878e7f1f80d2cb6c",
       "value": 1
      }
     },
     "15910994eb9d4960847f63d4b9bd0296": {
      "model_module": "@jupyter-widgets/base",
      "model_module_version": "1.2.0",
      "model_name": "LayoutModel",
      "state": {}
     },
     "15ba5d9f9f5047e7830e78e13b839d8b": {
      "model_module": "@jupyter-widgets/controls",
      "model_module_version": "1.5.0",
      "model_name": "DescriptionStyleModel",
      "state": {
       "description_width": ""
      }
     },
     "15eed9deb98a4e4b9198975f63d61311": {
      "model_module": "@jupyter-widgets/base",
      "model_module_version": "1.2.0",
      "model_name": "LayoutModel",
      "state": {}
     },
     "163669f1884b4f5bb8e5ccac7f38e5b8": {
      "model_module": "@jupyter-widgets/base",
      "model_module_version": "1.2.0",
      "model_name": "LayoutModel",
      "state": {}
     },
     "1649f185444743899c75d0dbcc4a901b": {
      "model_module": "@jupyter-widgets/base",
      "model_module_version": "1.2.0",
      "model_name": "LayoutModel",
      "state": {}
     },
     "166740f958af4d92a900e2573017d81b": {
      "model_module": "@jupyter-widgets/controls",
      "model_module_version": "1.5.0",
      "model_name": "HBoxModel",
      "state": {
       "children": [
        "IPY_MODEL_8e6ad4a93ebd495ab1208397e24e075b",
        "IPY_MODEL_f55afbc76bf04f51a13c96f71fc62b4d"
       ],
       "layout": "IPY_MODEL_d0a0fe31fd514ab8bd06a705905aedf8"
      }
     },
     "16b8a414cad641adae605c7df0af45f7": {
      "model_module": "@jupyter-widgets/controls",
      "model_module_version": "1.5.0",
      "model_name": "DescriptionStyleModel",
      "state": {
       "description_width": ""
      }
     },
     "178086fe7f94445dbdf5fec2c9020f51": {
      "model_module": "@jupyter-widgets/controls",
      "model_module_version": "1.5.0",
      "model_name": "ProgressStyleModel",
      "state": {
       "description_width": "initial"
      }
     },
     "179a2b0415bf4fababb30caf333afbef": {
      "model_module": "@jupyter-widgets/base",
      "model_module_version": "1.2.0",
      "model_name": "LayoutModel",
      "state": {}
     },
     "17abc12d66cc420a89184c0734acb671": {
      "model_module": "@jupyter-widgets/controls",
      "model_module_version": "1.5.0",
      "model_name": "DescriptionStyleModel",
      "state": {
       "description_width": ""
      }
     },
     "17d23e8bffaf468da4d290cc8d0f8083": {
      "model_module": "@jupyter-widgets/base",
      "model_module_version": "1.2.0",
      "model_name": "LayoutModel",
      "state": {}
     },
     "18b918fa7c9643c48162db6c7271c90e": {
      "model_module": "@jupyter-widgets/controls",
      "model_module_version": "1.5.0",
      "model_name": "DescriptionStyleModel",
      "state": {
       "description_width": ""
      }
     },
     "19319599ec1946019133ee3881adaf60": {
      "model_module": "@jupyter-widgets/base",
      "model_module_version": "1.2.0",
      "model_name": "LayoutModel",
      "state": {}
     },
     "1943f653c44c450ab8a61d3a68a32c47": {
      "model_module": "@jupyter-widgets/controls",
      "model_module_version": "1.5.0",
      "model_name": "DescriptionStyleModel",
      "state": {
       "description_width": ""
      }
     },
     "198e5aa6e70e49b0beaecbe418b55646": {
      "model_module": "@jupyter-widgets/base",
      "model_module_version": "1.2.0",
      "model_name": "LayoutModel",
      "state": {}
     },
     "1a4fdd2041144af3be67063ad7082f06": {
      "model_module": "@jupyter-widgets/base",
      "model_module_version": "1.2.0",
      "model_name": "LayoutModel",
      "state": {}
     },
     "1ae41c507961464ab9753d71f9bd98bc": {
      "model_module": "@jupyter-widgets/controls",
      "model_module_version": "1.5.0",
      "model_name": "HBoxModel",
      "state": {
       "children": [
        "IPY_MODEL_629e9b28dd414ecfaff93785036c62c6",
        "IPY_MODEL_1b37936135944b5d8af3ac836bb24ebb"
       ],
       "layout": "IPY_MODEL_15910994eb9d4960847f63d4b9bd0296"
      }
     },
     "1b29c92432154fa98f339dcd11ea427d": {
      "model_module": "@jupyter-widgets/controls",
      "model_module_version": "1.5.0",
      "model_name": "HTMLModel",
      "state": {
       "layout": "IPY_MODEL_608a89a8da444ef6b2a67cd7339c7dfe",
       "style": "IPY_MODEL_c3826a8be876467db7319bb6951fedf2",
       "value": " 701/? [2:29:07&lt;00:00, 12.76s/it, loss=tensor(6.9809, device=&#x27;cuda:0&#x27;)]"
      }
     },
     "1b37936135944b5d8af3ac836bb24ebb": {
      "model_module": "@jupyter-widgets/controls",
      "model_module_version": "1.5.0",
      "model_name": "HTMLModel",
      "state": {
       "layout": "IPY_MODEL_9c45a48e562743faa20d4984ff1e97f6",
       "style": "IPY_MODEL_b7d9d2ce9e3a481abd4641f6de1f22d7",
       "value": " 701/? [06:40&lt;00:00,  1.74it/s, loss=tensor(6.4525, device=&#x27;cuda:0&#x27;)]"
      }
     },
     "1b59589d24a54656ae5ae1417e1e350a": {
      "model_module": "@jupyter-widgets/base",
      "model_module_version": "1.2.0",
      "model_name": "LayoutModel",
      "state": {}
     },
     "1d2a964f8fe344309357f09e30ba701e": {
      "model_module": "@jupyter-widgets/base",
      "model_module_version": "1.2.0",
      "model_name": "LayoutModel",
      "state": {}
     },
     "1d6711d346b149b48fa3fd10b25e2489": {
      "model_module": "@jupyter-widgets/base",
      "model_module_version": "1.2.0",
      "model_name": "LayoutModel",
      "state": {}
     },
     "1dc60f85058e4f6f9489a278cddb3551": {
      "model_module": "@jupyter-widgets/controls",
      "model_module_version": "1.5.0",
      "model_name": "DescriptionStyleModel",
      "state": {
       "description_width": ""
      }
     },
     "1dde5afe8e004fcdb78a7673bf0092c3": {
      "model_module": "@jupyter-widgets/base",
      "model_module_version": "1.2.0",
      "model_name": "LayoutModel",
      "state": {}
     },
     "1e4ff028d6404cee8ca41e05feebe2ad": {
      "model_module": "@jupyter-widgets/controls",
      "model_module_version": "1.5.0",
      "model_name": "HBoxModel",
      "state": {
       "children": [
        "IPY_MODEL_32c13ff60c6b46a7a3df27dfd544805f",
        "IPY_MODEL_4d502a293f9741cb92104d747b5ad229"
       ],
       "layout": "IPY_MODEL_198e5aa6e70e49b0beaecbe418b55646"
      }
     },
     "1e6d71c9b1794639ba40a69563bed5f8": {
      "model_module": "@jupyter-widgets/controls",
      "model_module_version": "1.5.0",
      "model_name": "HTMLModel",
      "state": {
       "layout": "IPY_MODEL_78ee68157bf94c22b496c9127af037d7",
       "style": "IPY_MODEL_881fe98b0e2f450f9a5c230d46f6412e",
       "value": " 701/? [4:36:44&lt;00:00, 23.69s/it, loss=tensor(8.0470, device=&#x27;cuda:0&#x27;)]"
      }
     },
     "1e92939944044a3584077a57b7cec6f2": {
      "model_module": "@jupyter-widgets/base",
      "model_module_version": "1.2.0",
      "model_name": "LayoutModel",
      "state": {}
     },
     "1f03ce3037214f2ead0da3b81a326c1a": {
      "model_module": "@jupyter-widgets/base",
      "model_module_version": "1.2.0",
      "model_name": "LayoutModel",
      "state": {}
     },
     "1f3c47d5d41d45ae9ca2f9003b0ab6db": {
      "model_module": "@jupyter-widgets/controls",
      "model_module_version": "1.5.0",
      "model_name": "ProgressStyleModel",
      "state": {
       "description_width": "initial"
      }
     },
     "1f501596d65a47df8051adf478bda4d7": {
      "model_module": "@jupyter-widgets/controls",
      "model_module_version": "1.5.0",
      "model_name": "HTMLModel",
      "state": {
       "layout": "IPY_MODEL_db938f8a839f4543aabad3915966e63e",
       "style": "IPY_MODEL_8b4158ca9478445fa3e3b0b7d4f1df31",
       "value": " 701/? [07:00&lt;00:00,  1.64it/s, loss=tensor(5.6276, device=&#x27;cuda:0&#x27;)]"
      }
     },
     "1f831aed498b499680678ea1706f607e": {
      "model_module": "@jupyter-widgets/base",
      "model_module_version": "1.2.0",
      "model_name": "LayoutModel",
      "state": {}
     },
     "20669c243d1a423c820ed01c2457c421": {
      "model_module": "@jupyter-widgets/controls",
      "model_module_version": "1.5.0",
      "model_name": "ProgressStyleModel",
      "state": {
       "description_width": "initial"
      }
     },
     "2099ebd6d5104ea8a53f0b13796e6f71": {
      "model_module": "@jupyter-widgets/controls",
      "model_module_version": "1.5.0",
      "model_name": "DescriptionStyleModel",
      "state": {
       "description_width": ""
      }
     },
     "20c11df5b87a47f5ba519d945794a5a4": {
      "model_module": "@jupyter-widgets/base",
      "model_module_version": "1.2.0",
      "model_name": "LayoutModel",
      "state": {}
     },
     "21c7fa30b7954ac390640b08c4ea9087": {
      "model_module": "@jupyter-widgets/controls",
      "model_module_version": "1.5.0",
      "model_name": "DescriptionStyleModel",
      "state": {
       "description_width": ""
      }
     },
     "22a523b0d2aa4b6282d736987a51748a": {
      "model_module": "@jupyter-widgets/controls",
      "model_module_version": "1.5.0",
      "model_name": "ProgressStyleModel",
      "state": {
       "description_width": "initial"
      }
     },
     "233fc44edff548448bb37547da61e840": {
      "model_module": "@jupyter-widgets/base",
      "model_module_version": "1.2.0",
      "model_name": "LayoutModel",
      "state": {}
     },
     "2340f8c4c1f749138ff86a9308079865": {
      "model_module": "@jupyter-widgets/controls",
      "model_module_version": "1.5.0",
      "model_name": "ProgressStyleModel",
      "state": {
       "description_width": "initial"
      }
     },
     "2370afdacae748798fc568f69dbbdcf7": {
      "model_module": "@jupyter-widgets/controls",
      "model_module_version": "1.5.0",
      "model_name": "HTMLModel",
      "state": {
       "layout": "IPY_MODEL_cca57bbd5eb042d09c623a26b4ada83e",
       "style": "IPY_MODEL_bfc7ad6755484ece9ed0b8f33c2883d3",
       "value": " 701/? [06:55&lt;00:00,  1.72it/s, loss=tensor(6.1814, device=&#x27;cuda:0&#x27;)]"
      }
     },
     "23948bd27c50483bb2433b5d6e36f86f": {
      "model_module": "@jupyter-widgets/controls",
      "model_module_version": "1.5.0",
      "model_name": "HBoxModel",
      "state": {
       "children": [
        "IPY_MODEL_52912e89386c49f0b25dcca20850f83c",
        "IPY_MODEL_a4629df6bb4f499fa03a4879aa5ed4d5"
       ],
       "layout": "IPY_MODEL_3651823617cf48819ffcdacbc84c5618"
      }
     },
     "239a5992fae6486ba2e9d169cad76992": {
      "model_module": "@jupyter-widgets/controls",
      "model_module_version": "1.5.0",
      "model_name": "ProgressStyleModel",
      "state": {
       "description_width": "initial"
      }
     },
     "23a2146838864dc1b6808036043ed878": {
      "model_module": "@jupyter-widgets/controls",
      "model_module_version": "1.5.0",
      "model_name": "DescriptionStyleModel",
      "state": {
       "description_width": ""
      }
     },
     "23db8e6079404aa89cea6831a6893cb9": {
      "model_module": "@jupyter-widgets/controls",
      "model_module_version": "1.5.0",
      "model_name": "FloatProgressModel",
      "state": {
       "bar_style": "danger",
       "description": "Epoch 2: ",
       "layout": "IPY_MODEL_b3c7645be85e4ba9a99b3d185814c32c",
       "max": 1,
       "style": "IPY_MODEL_33300b5bc2f542c5a7e78ba7c0628b44",
       "value": 1
      }
     },
     "242828eab8cc4d58967ea021aba829ee": {
      "model_module": "@jupyter-widgets/controls",
      "model_module_version": "1.5.0",
      "model_name": "HTMLModel",
      "state": {
       "layout": "IPY_MODEL_d52cba79cb234ba38e0ead927e13d6a3",
       "style": "IPY_MODEL_7129174a175e4f0b8e48fa60157e2849",
       "value": " 701/? [2:50:41&lt;00:00, 14.61s/it, loss=tensor(7.0964, device=&#x27;cuda:0&#x27;)]"
      }
     },
     "2470775847304f1ead6c280ddaf29ae6": {
      "model_module": "@jupyter-widgets/base",
      "model_module_version": "1.2.0",
      "model_name": "LayoutModel",
      "state": {}
     },
     "2613996f55614efbbeb29312c3913a68": {
      "model_module": "@jupyter-widgets/base",
      "model_module_version": "1.2.0",
      "model_name": "LayoutModel",
      "state": {}
     },
     "262abf5d1e42416280bd815513306130": {
      "model_module": "@jupyter-widgets/controls",
      "model_module_version": "1.5.0",
      "model_name": "HBoxModel",
      "state": {
       "children": [
        "IPY_MODEL_5c8f029d8f41484c9f91c36dc1c981e0",
        "IPY_MODEL_29518ece29374247b2cfdd2b803b2043"
       ],
       "layout": "IPY_MODEL_00cc855df66a4d65bd2a2db8d44d9c0a"
      }
     },
     "2698cddc86d9401aa81816d91f47e8d7": {
      "model_module": "@jupyter-widgets/controls",
      "model_module_version": "1.5.0",
      "model_name": "DescriptionStyleModel",
      "state": {
       "description_width": ""
      }
     },
     "26ff976950114ff5936b6b1b91fd7b49": {
      "model_module": "@jupyter-widgets/controls",
      "model_module_version": "1.5.0",
      "model_name": "HBoxModel",
      "state": {
       "children": [
        "IPY_MODEL_878b2dc465eb45aab776357e33a6d073",
        "IPY_MODEL_5478549728a0403caa6e8597c707cde8"
       ],
       "layout": "IPY_MODEL_6e57a6b307404bbb84688550d22abad2"
      }
     },
     "290fd63ad1e645b8a98356b06489591d": {
      "model_module": "@jupyter-widgets/controls",
      "model_module_version": "1.5.0",
      "model_name": "HTMLModel",
      "state": {
       "layout": "IPY_MODEL_ee87a1c421ab4e9fa2a7e8b0a93449f4",
       "style": "IPY_MODEL_c1d0d6592e034ed9a72d6fda51c2a5ac",
       "value": " 701/? [1:45:25&lt;00:00,  9.02s/it, loss=tensor(7.0498, device=&#x27;cuda:0&#x27;)]"
      }
     },
     "29518ece29374247b2cfdd2b803b2043": {
      "model_module": "@jupyter-widgets/controls",
      "model_module_version": "1.5.0",
      "model_name": "HTMLModel",
      "state": {
       "layout": "IPY_MODEL_8ce69d3341a8457c9ef2f4a134fb9671",
       "style": "IPY_MODEL_777e4a9d710e4e5da9eb86db69ce8849",
       "value": " 701/? [4:23:10&lt;00:00, 22.53s/it, loss=tensor(7.7010, device=&#x27;cuda:0&#x27;)]"
      }
     },
     "2a1bbc9d79094254bbd34c2f73e8df06": {
      "model_module": "@jupyter-widgets/controls",
      "model_module_version": "1.5.0",
      "model_name": "ProgressStyleModel",
      "state": {
       "description_width": "initial"
      }
     },
     "2a25860151f3476d9ed76a638a25eb99": {
      "model_module": "@jupyter-widgets/controls",
      "model_module_version": "1.5.0",
      "model_name": "ProgressStyleModel",
      "state": {
       "description_width": "initial"
      }
     },
     "2a519cabfeb742b082e01be29b8cce26": {
      "model_module": "@jupyter-widgets/base",
      "model_module_version": "1.2.0",
      "model_name": "LayoutModel",
      "state": {}
     },
     "2b2cb51b794642a184875157de5bb47f": {
      "model_module": "@jupyter-widgets/base",
      "model_module_version": "1.2.0",
      "model_name": "LayoutModel",
      "state": {}
     },
     "2c0dab3f493f42a89d2780ad75c48bea": {
      "model_module": "@jupyter-widgets/controls",
      "model_module_version": "1.5.0",
      "model_name": "DescriptionStyleModel",
      "state": {
       "description_width": ""
      }
     },
     "2d8aac15ba444b55a98c48dce87a6d39": {
      "model_module": "@jupyter-widgets/base",
      "model_module_version": "1.2.0",
      "model_name": "LayoutModel",
      "state": {}
     },
     "2e315a7fa1f849cca8fb1cc75488d4bc": {
      "model_module": "@jupyter-widgets/controls",
      "model_module_version": "1.5.0",
      "model_name": "DescriptionStyleModel",
      "state": {
       "description_width": ""
      }
     },
     "2f36aedb346c4ab68738c13771961d8d": {
      "model_module": "@jupyter-widgets/base",
      "model_module_version": "1.2.0",
      "model_name": "LayoutModel",
      "state": {}
     },
     "2f55d169267c4dddb5504a739a06be50": {
      "model_module": "@jupyter-widgets/controls",
      "model_module_version": "1.5.0",
      "model_name": "DescriptionStyleModel",
      "state": {
       "description_width": ""
      }
     },
     "2f66960adcce458593f613058982626c": {
      "model_module": "@jupyter-widgets/controls",
      "model_module_version": "1.5.0",
      "model_name": "FloatProgressModel",
      "state": {
       "bar_style": "danger",
       "description": "Epoch 0: ",
       "layout": "IPY_MODEL_cec676ecccf94f76a660fa1627f721bd",
       "max": 1,
       "style": "IPY_MODEL_f92adaa76fb74c5ebd849ed9d182c52b"
      }
     },
     "2f6e407b5c844635b1801ba3398d8ce5": {
      "model_module": "@jupyter-widgets/controls",
      "model_module_version": "1.5.0",
      "model_name": "HBoxModel",
      "state": {
       "children": [
        "IPY_MODEL_f7934a455e604a85b36d58ed26d96e13",
        "IPY_MODEL_0e4e399f5e4a494d9a8e050d479f4999"
       ],
       "layout": "IPY_MODEL_a85618d223a74af99de7b7382cb172e8"
      }
     },
     "301b3b320631423da942182f9dd53d86": {
      "model_module": "@jupyter-widgets/base",
      "model_module_version": "1.2.0",
      "model_name": "LayoutModel",
      "state": {}
     },
     "309487b05f0244cbae8fb4f8985e56aa": {
      "model_module": "@jupyter-widgets/controls",
      "model_module_version": "1.5.0",
      "model_name": "DescriptionStyleModel",
      "state": {
       "description_width": ""
      }
     },
     "312ef6cfd495472d9e7aa714ac5144b1": {
      "model_module": "@jupyter-widgets/base",
      "model_module_version": "1.2.0",
      "model_name": "LayoutModel",
      "state": {}
     },
     "32116c092a154acebc010fdc5e756bad": {
      "model_module": "@jupyter-widgets/controls",
      "model_module_version": "1.5.0",
      "model_name": "FloatProgressModel",
      "state": {
       "bar_style": "danger",
       "description": "Epoch 3: ",
       "layout": "IPY_MODEL_70b1025187194a48b8a809364d3f04a8",
       "max": 1,
       "style": "IPY_MODEL_6fb772c3791745b08409fb6f52aa45fb",
       "value": 1
      }
     },
     "32b740be06cd49928a512b5086d1069b": {
      "model_module": "@jupyter-widgets/controls",
      "model_module_version": "1.5.0",
      "model_name": "ProgressStyleModel",
      "state": {
       "description_width": "initial"
      }
     },
     "32c13ff60c6b46a7a3df27dfd544805f": {
      "model_module": "@jupyter-widgets/controls",
      "model_module_version": "1.5.0",
      "model_name": "FloatProgressModel",
      "state": {
       "bar_style": "danger",
       "description": "Epoch 0: ",
       "layout": "IPY_MODEL_1a4fdd2041144af3be67063ad7082f06",
       "max": 1,
       "style": "IPY_MODEL_22a523b0d2aa4b6282d736987a51748a"
      }
     },
     "33300b5bc2f542c5a7e78ba7c0628b44": {
      "model_module": "@jupyter-widgets/controls",
      "model_module_version": "1.5.0",
      "model_name": "ProgressStyleModel",
      "state": {
       "description_width": "initial"
      }
     },
     "336be7c26e444b9197c6efe065b1c716": {
      "model_module": "@jupyter-widgets/controls",
      "model_module_version": "1.5.0",
      "model_name": "HTMLModel",
      "state": {
       "layout": "IPY_MODEL_8a82d27e541842eca480b01b7eaef945",
       "style": "IPY_MODEL_1dc60f85058e4f6f9489a278cddb3551",
       "value": " 0/58113 [00:00&lt;?, ?it/s]"
      }
     },
     "33b50e73a06244a496e42a30dc5dd8bd": {
      "model_module": "@jupyter-widgets/controls",
      "model_module_version": "1.5.0",
      "model_name": "DescriptionStyleModel",
      "state": {
       "description_width": ""
      }
     },
     "345bd1e32ec849b78c8489f1832e0338": {
      "model_module": "@jupyter-widgets/controls",
      "model_module_version": "1.5.0",
      "model_name": "ProgressStyleModel",
      "state": {
       "description_width": "initial"
      }
     },
     "35956fcf62d240b4933a15a54d5422b0": {
      "model_module": "@jupyter-widgets/controls",
      "model_module_version": "1.5.0",
      "model_name": "HTMLModel",
      "state": {
       "layout": "IPY_MODEL_de948b1828a744b99e995aee843f924d",
       "style": "IPY_MODEL_f11499602bcc4495a9dd5a984caeb27b",
       "value": " 701/? [1:30:47&lt;00:00,  7.77s/it, loss=tensor(6.9635, device=&#x27;cuda:0&#x27;)]"
      }
     },
     "35957afc7d8d44a09fcfe465df75b7e2": {
      "model_module": "@jupyter-widgets/controls",
      "model_module_version": "1.5.0",
      "model_name": "HBoxModel",
      "state": {
       "children": [
        "IPY_MODEL_a79c71e0ed1b4013b8a7d0d67834c264",
        "IPY_MODEL_5d89b6dbfc3541e9849f206968858482"
       ],
       "layout": "IPY_MODEL_a68869e44dd04911a58c86386b3c77be"
      }
     },
     "364e608d0fa046e6981295f04bba9337": {
      "model_module": "@jupyter-widgets/base",
      "model_module_version": "1.2.0",
      "model_name": "LayoutModel",
      "state": {}
     },
     "3651823617cf48819ffcdacbc84c5618": {
      "model_module": "@jupyter-widgets/base",
      "model_module_version": "1.2.0",
      "model_name": "LayoutModel",
      "state": {}
     },
     "3667e3b53a174698ab33c24071a86833": {
      "model_module": "@jupyter-widgets/controls",
      "model_module_version": "1.5.0",
      "model_name": "ProgressStyleModel",
      "state": {
       "description_width": "initial"
      }
     },
     "36f7b8c5d2d64fc08514e42f57b4df56": {
      "model_module": "@jupyter-widgets/base",
      "model_module_version": "1.2.0",
      "model_name": "LayoutModel",
      "state": {}
     },
     "373c8acfb7c54330967f0ec2d1ea427c": {
      "model_module": "@jupyter-widgets/controls",
      "model_module_version": "1.5.0",
      "model_name": "DescriptionStyleModel",
      "state": {
       "description_width": ""
      }
     },
     "37e9d4c01802436b84d1e85014cca260": {
      "model_module": "@jupyter-widgets/controls",
      "model_module_version": "1.5.0",
      "model_name": "DescriptionStyleModel",
      "state": {
       "description_width": ""
      }
     },
     "37ede5d7c1524ac58ead437fcccfc36e": {
      "model_module": "@jupyter-widgets/controls",
      "model_module_version": "1.5.0",
      "model_name": "HBoxModel",
      "state": {
       "children": [
        "IPY_MODEL_75c4b1fc9c1340139a11bccc788f492a",
        "IPY_MODEL_94a5363bf6684b7a8c6fa2d630f45f44"
       ],
       "layout": "IPY_MODEL_e8b4f6e9b99d45258b9bd02c0329b529"
      }
     },
     "3883fe06a2f442e2ae42e3b323b87dda": {
      "model_module": "@jupyter-widgets/controls",
      "model_module_version": "1.5.0",
      "model_name": "FloatProgressModel",
      "state": {
       "bar_style": "danger",
       "description": "Epoch 18: ",
       "layout": "IPY_MODEL_d19e125a510948ab94febec5918ecac9",
       "max": 1,
       "style": "IPY_MODEL_3de812378c2340b3a45b490e416d596c",
       "value": 1
      }
     },
     "38b983b36b6e48eea40110d4b14b4bf9": {
      "model_module": "@jupyter-widgets/controls",
      "model_module_version": "1.5.0",
      "model_name": "FloatProgressModel",
      "state": {
       "bar_style": "danger",
       "description": "Epoch 0: ",
       "layout": "IPY_MODEL_1dde5afe8e004fcdb78a7673bf0092c3",
       "max": 1,
       "style": "IPY_MODEL_89a222261e30409390cffaeb932eca08",
       "value": 1
      }
     },
     "38bd7e0393c74e56afd6140ab4284ed1": {
      "model_module": "@jupyter-widgets/controls",
      "model_module_version": "1.5.0",
      "model_name": "HBoxModel",
      "state": {
       "children": [
        "IPY_MODEL_3883fe06a2f442e2ae42e3b323b87dda",
        "IPY_MODEL_d3f782959d7f443fa18b48f89b4fd8ac"
       ],
       "layout": "IPY_MODEL_d5c8ee5cb7794ae49fda26efeb5c5868"
      }
     },
     "390124a050f44450ac1f6e2d4fae341a": {
      "model_module": "@jupyter-widgets/controls",
      "model_module_version": "1.5.0",
      "model_name": "FloatProgressModel",
      "state": {
       "bar_style": "danger",
       "description": "Epoch 19: ",
       "layout": "IPY_MODEL_ed05852224bc47639c99009664122273",
       "max": 1,
       "style": "IPY_MODEL_82a04f6ab1524ff188a54484462c38ad",
       "value": 1
      }
     },
     "39b3ba12182a40c49daa15346962fb18": {
      "model_module": "@jupyter-widgets/controls",
      "model_module_version": "1.5.0",
      "model_name": "HTMLModel",
      "state": {
       "layout": "IPY_MODEL_cf9d061f220d48a6990fd48c2ccc65cc",
       "style": "IPY_MODEL_7b2ea10f64a5428896b08ea44f361a80",
       "value": " 701/? [06:48&lt;00:00,  1.64it/s, loss=tensor(6.1623, device=&#x27;cuda:0&#x27;)]"
      }
     },
     "3a556b48e6a7454e830075c678a1e543": {
      "model_module": "@jupyter-widgets/controls",
      "model_module_version": "1.5.0",
      "model_name": "DescriptionStyleModel",
      "state": {
       "description_width": ""
      }
     },
     "3af9da7bdcb049e7b8cb89131c6acd45": {
      "model_module": "@jupyter-widgets/controls",
      "model_module_version": "1.5.0",
      "model_name": "FloatProgressModel",
      "state": {
       "bar_style": "danger",
       "description": "Epoch 15: ",
       "layout": "IPY_MODEL_3c03f2db44034703982139a799bc2bf9",
       "max": 1,
       "style": "IPY_MODEL_9e7ac9516b8942a8ab1c3550c8bb915c",
       "value": 1
      }
     },
     "3bbf7a3cd73242bbb04ddd957a577fd4": {
      "model_module": "@jupyter-widgets/controls",
      "model_module_version": "1.5.0",
      "model_name": "HTMLModel",
      "state": {
       "layout": "IPY_MODEL_83c776a2ccc44922831c322d3e8dccdb",
       "style": "IPY_MODEL_06da9f4cf67342c19d8ec89ce23f6857",
       "value": " 701/? [07:13&lt;00:00,  1.64it/s, loss=tensor(5.5308, device=&#x27;cuda:0&#x27;)]"
      }
     },
     "3c03f2db44034703982139a799bc2bf9": {
      "model_module": "@jupyter-widgets/base",
      "model_module_version": "1.2.0",
      "model_name": "LayoutModel",
      "state": {}
     },
     "3c7f30e32d5d4dbeb1b0bcec89fd1ede": {
      "model_module": "@jupyter-widgets/base",
      "model_module_version": "1.2.0",
      "model_name": "LayoutModel",
      "state": {}
     },
     "3cb207717de04c7f9c33b04502d2098b": {
      "model_module": "@jupyter-widgets/base",
      "model_module_version": "1.2.0",
      "model_name": "LayoutModel",
      "state": {}
     },
     "3cbda55c3557413a88f7802dfcc639bb": {
      "model_module": "@jupyter-widgets/controls",
      "model_module_version": "1.5.0",
      "model_name": "HTMLModel",
      "state": {
       "layout": "IPY_MODEL_f44c9003b6404d4ead7d2bef701e1b55",
       "style": "IPY_MODEL_e44c5e2ba9e64d25865dff509a8145e1",
       "value": " 0/? [19:08&lt;?, ?it/s]"
      }
     },
     "3cc7470491814e099544d37ec8eed31f": {
      "model_module": "@jupyter-widgets/base",
      "model_module_version": "1.2.0",
      "model_name": "LayoutModel",
      "state": {}
     },
     "3d4032c60fd14d7e93c375dcb7cff60d": {
      "model_module": "@jupyter-widgets/base",
      "model_module_version": "1.2.0",
      "model_name": "LayoutModel",
      "state": {}
     },
     "3d7df4c0a04f41baa46f2c638864657b": {
      "model_module": "@jupyter-widgets/controls",
      "model_module_version": "1.5.0",
      "model_name": "HTMLModel",
      "state": {
       "layout": "IPY_MODEL_a1e05b055748400dbbe7d5ef3fdd4685",
       "style": "IPY_MODEL_0edca00e946247dd961fce61da319dea",
       "value": " 701/? [07:11&lt;00:00,  1.65it/s, loss=tensor(5.4545, device=&#x27;cuda:0&#x27;)]"
      }
     },
     "3dc456f1f23c40d480a0dbfbe705e92a": {
      "model_module": "@jupyter-widgets/base",
      "model_module_version": "1.2.0",
      "model_name": "LayoutModel",
      "state": {}
     },
     "3de812378c2340b3a45b490e416d596c": {
      "model_module": "@jupyter-widgets/controls",
      "model_module_version": "1.5.0",
      "model_name": "ProgressStyleModel",
      "state": {
       "description_width": "initial"
      }
     },
     "3e044c831c6743029c34ca4ff15d8f6e": {
      "model_module": "@jupyter-widgets/base",
      "model_module_version": "1.2.0",
      "model_name": "LayoutModel",
      "state": {}
     },
     "3e7caaff988740d7b4c11c6c5d612a41": {
      "model_module": "@jupyter-widgets/controls",
      "model_module_version": "1.5.0",
      "model_name": "HTMLModel",
      "state": {
       "layout": "IPY_MODEL_70934ac430864d77b7ac57b952cd8f04",
       "style": "IPY_MODEL_8377ce5ffa064ed097387cdee0cde157",
       "value": " 701/? [3:33:32&lt;00:00, 18.28s/it, loss=tensor(7.0293, device=&#x27;cuda:0&#x27;)]"
      }
     },
     "3f7c3687e0ab43d8b73b12e743f9ffd0": {
      "model_module": "@jupyter-widgets/controls",
      "model_module_version": "1.5.0",
      "model_name": "HBoxModel",
      "state": {
       "children": [
        "IPY_MODEL_10b868c5e8e542aa80e8f6872551759d",
        "IPY_MODEL_3e7caaff988740d7b4c11c6c5d612a41"
       ],
       "layout": "IPY_MODEL_d13febd81f1e4b49bb8d173926713282"
      }
     },
     "3f8eefbdfbdd4bbd9d8b475eaebf0b98": {
      "model_module": "@jupyter-widgets/base",
      "model_module_version": "1.2.0",
      "model_name": "LayoutModel",
      "state": {}
     },
     "3fe32ad2f6ec47eb817f280f0d470d8e": {
      "model_module": "@jupyter-widgets/base",
      "model_module_version": "1.2.0",
      "model_name": "LayoutModel",
      "state": {}
     },
     "403c53575106485eb5cb5e0a5b907c1d": {
      "model_module": "@jupyter-widgets/controls",
      "model_module_version": "1.5.0",
      "model_name": "HTMLModel",
      "state": {
       "layout": "IPY_MODEL_ad0547d61213422696a99bad1481b545",
       "style": "IPY_MODEL_37e9d4c01802436b84d1e85014cca260",
       "value": " 701/? [2:57:29&lt;00:00, 15.19s/it, loss=tensor(7.1770, device=&#x27;cuda:0&#x27;)]"
      }
     },
     "40dfc08266114ab3b3fa665b19300424": {
      "model_module": "@jupyter-widgets/controls",
      "model_module_version": "1.5.0",
      "model_name": "HBoxModel",
      "state": {
       "children": [
        "IPY_MODEL_14f003d364b14f98be82846c519b6179",
        "IPY_MODEL_6c8d588d1ca249e8b69840ba8c591870"
       ],
       "layout": "IPY_MODEL_94b86f16945441158a792b335b3bcdfd"
      }
     },
     "416433b89fc8438eb9258d5ee2be46a7": {
      "model_module": "@jupyter-widgets/base",
      "model_module_version": "1.2.0",
      "model_name": "LayoutModel",
      "state": {}
     },
     "4300da52fb9a4830a2693602a35becf5": {
      "model_module": "@jupyter-widgets/controls",
      "model_module_version": "1.5.0",
      "model_name": "DescriptionStyleModel",
      "state": {
       "description_width": ""
      }
     },
     "4349beb048ce49f89fbcd36c162673ee": {
      "model_module": "@jupyter-widgets/controls",
      "model_module_version": "1.5.0",
      "model_name": "HBoxModel",
      "state": {
       "children": [
        "IPY_MODEL_9adcffdbb8ad4c3d9b050bd030271ca7",
        "IPY_MODEL_290fd63ad1e645b8a98356b06489591d"
       ],
       "layout": "IPY_MODEL_da5b1825a41240b499dceabb25258681"
      }
     },
     "435393c6c26041958bd809188971e0c8": {
      "model_module": "@jupyter-widgets/base",
      "model_module_version": "1.2.0",
      "model_name": "LayoutModel",
      "state": {}
     },
     "43d3fd5606cc4cd189c2469009b08cff": {
      "model_module": "@jupyter-widgets/base",
      "model_module_version": "1.2.0",
      "model_name": "LayoutModel",
      "state": {}
     },
     "448f0446c49347ccb4f365f144018b40": {
      "model_module": "@jupyter-widgets/controls",
      "model_module_version": "1.5.0",
      "model_name": "ProgressStyleModel",
      "state": {
       "description_width": "initial"
      }
     },
     "450fd37920074ae6932ef5a9b40d09a4": {
      "model_module": "@jupyter-widgets/controls",
      "model_module_version": "1.5.0",
      "model_name": "HTMLModel",
      "state": {
       "layout": "IPY_MODEL_50906f8f8bdb47b9a9605cf642faf888",
       "style": "IPY_MODEL_23a2146838864dc1b6808036043ed878",
       "value": " 701/? [1:16:12&lt;00:00,  6.52s/it, loss=tensor(7.1194, device=&#x27;cuda:0&#x27;)]"
      }
     },
     "458eb23b51164c88a140796a56e125ff": {
      "model_module": "@jupyter-widgets/controls",
      "model_module_version": "1.5.0",
      "model_name": "HTMLModel",
      "state": {
       "layout": "IPY_MODEL_77c83ce08b394633945fc931d0fd002e",
       "style": "IPY_MODEL_2099ebd6d5104ea8a53f0b13796e6f71",
       "value": " 701/? [1:08:41&lt;00:00,  5.88s/it, loss=tensor(6.8111, device=&#x27;cuda:0&#x27;)]"
      }
     },
     "463e4dec1e47495bb25e5b617de521b2": {
      "model_module": "@jupyter-widgets/controls",
      "model_module_version": "1.5.0",
      "model_name": "FloatProgressModel",
      "state": {
       "bar_style": "danger",
       "description": "Epoch 15: ",
       "layout": "IPY_MODEL_ddbde77b34e54a23b4fceb21b9d4a1e1",
       "max": 1,
       "style": "IPY_MODEL_2a25860151f3476d9ed76a638a25eb99",
       "value": 1
      }
     },
     "4754751305ab4e3d91d01f1871ea216b": {
      "model_module": "@jupyter-widgets/base",
      "model_module_version": "1.2.0",
      "model_name": "LayoutModel",
      "state": {}
     },
     "486b830686a54e5a91024063db2e82ef": {
      "model_module": "@jupyter-widgets/base",
      "model_module_version": "1.2.0",
      "model_name": "LayoutModel",
      "state": {}
     },
     "4a1ac81b049a43de88eb0569af8b2194": {
      "model_module": "@jupyter-widgets/controls",
      "model_module_version": "1.5.0",
      "model_name": "FloatProgressModel",
      "state": {
       "bar_style": "danger",
       "description": "Epoch 17: ",
       "layout": "IPY_MODEL_2470775847304f1ead6c280ddaf29ae6",
       "max": 1,
       "style": "IPY_MODEL_d1a4d061ce644493ac5b4823577758a1",
       "value": 1
      }
     },
     "4ad343bd6cae49b59150077735d47b8e": {
      "model_module": "@jupyter-widgets/base",
      "model_module_version": "1.2.0",
      "model_name": "LayoutModel",
      "state": {}
     },
     "4b405932b84a43768572fa95c6673db0": {
      "model_module": "@jupyter-widgets/controls",
      "model_module_version": "1.5.0",
      "model_name": "DescriptionStyleModel",
      "state": {
       "description_width": ""
      }
     },
     "4bc13d45462641d0ba8f587ac44638e4": {
      "model_module": "@jupyter-widgets/base",
      "model_module_version": "1.2.0",
      "model_name": "LayoutModel",
      "state": {}
     },
     "4bf722037e4b452dabfc0db581ecc380": {
      "model_module": "@jupyter-widgets/controls",
      "model_module_version": "1.5.0",
      "model_name": "HTMLModel",
      "state": {
       "layout": "IPY_MODEL_f60cd4cbed3e427d83f1f8f646e56360",
       "style": "IPY_MODEL_d4d8038b8380490cb42a37ba51fbb8de",
       "value": " 701/? [06:58&lt;00:00,  1.70it/s, loss=tensor(5.3739, device=&#x27;cuda:0&#x27;)]"
      }
     },
     "4c85890950ee44249b9fbb5feb8a4a95": {
      "model_module": "@jupyter-widgets/controls",
      "model_module_version": "1.5.0",
      "model_name": "HBoxModel",
      "state": {
       "children": [
        "IPY_MODEL_9f5008f2974d4bb89e4f7c33483480d9",
        "IPY_MODEL_3cbda55c3557413a88f7802dfcc639bb"
       ],
       "layout": "IPY_MODEL_416433b89fc8438eb9258d5ee2be46a7"
      }
     },
     "4ced9f77462543ed8fe38d0c57aaea73": {
      "model_module": "@jupyter-widgets/base",
      "model_module_version": "1.2.0",
      "model_name": "LayoutModel",
      "state": {}
     },
     "4d14987a12bc49629f194a8269bb6c49": {
      "model_module": "@jupyter-widgets/controls",
      "model_module_version": "1.5.0",
      "model_name": "HBoxModel",
      "state": {
       "children": [
        "IPY_MODEL_3af9da7bdcb049e7b8cb89131c6acd45",
        "IPY_MODEL_3bbf7a3cd73242bbb04ddd957a577fd4"
       ],
       "layout": "IPY_MODEL_17d23e8bffaf468da4d290cc8d0f8083"
      }
     },
     "4d502a293f9741cb92104d747b5ad229": {
      "model_module": "@jupyter-widgets/controls",
      "model_module_version": "1.5.0",
      "model_name": "HTMLModel",
      "state": {
       "layout": "IPY_MODEL_3dc456f1f23c40d480a0dbfbe705e92a",
       "style": "IPY_MODEL_9c024235a33d42c18dd6eadc6261e6f8",
       "value": " 0/? [18:01&lt;?, ?it/s]"
      }
     },
     "4db95d76697e4549a3d765ac23f81960": {
      "model_module": "@jupyter-widgets/controls",
      "model_module_version": "1.5.0",
      "model_name": "HBoxModel",
      "state": {
       "children": [
        "IPY_MODEL_bbaaf5274333458199a7506d0d5d1edb",
        "IPY_MODEL_a5eec5d948d84abeb2ef547ec84a7e55"
       ],
       "layout": "IPY_MODEL_d205c24812524e92b1519079c5e1077c"
      }
     },
     "4e6c7676c62b4dce93b3d66ce95fb9fb": {
      "model_module": "@jupyter-widgets/base",
      "model_module_version": "1.2.0",
      "model_name": "LayoutModel",
      "state": {}
     },
     "4e969e0749d744d3b4092410a3dbd3cf": {
      "model_module": "@jupyter-widgets/controls",
      "model_module_version": "1.5.0",
      "model_name": "FloatProgressModel",
      "state": {
       "bar_style": "danger",
       "description": "Epoch 19: ",
       "layout": "IPY_MODEL_19319599ec1946019133ee3881adaf60",
       "max": 1,
       "style": "IPY_MODEL_239a5992fae6486ba2e9d169cad76992",
       "value": 1
      }
     },
     "4f828a11d71a4d9da275d0577cd0c018": {
      "model_module": "@jupyter-widgets/controls",
      "model_module_version": "1.5.0",
      "model_name": "ProgressStyleModel",
      "state": {
       "description_width": "initial"
      }
     },
     "4f94dcb89cca44868844a50818147c02": {
      "model_module": "@jupyter-widgets/base",
      "model_module_version": "1.2.0",
      "model_name": "LayoutModel",
      "state": {}
     },
     "50906f8f8bdb47b9a9605cf642faf888": {
      "model_module": "@jupyter-widgets/base",
      "model_module_version": "1.2.0",
      "model_name": "LayoutModel",
      "state": {}
     },
     "509d963ad8d849d6820e1417ca17c44c": {
      "model_module": "@jupyter-widgets/controls",
      "model_module_version": "1.5.0",
      "model_name": "ProgressStyleModel",
      "state": {
       "description_width": "initial"
      }
     },
     "50a3d64979c34465a8e008c96e9802a7": {
      "model_module": "@jupyter-widgets/controls",
      "model_module_version": "1.5.0",
      "model_name": "HTMLModel",
      "state": {
       "layout": "IPY_MODEL_a756dbbd79a64a0db84adbceec53527b",
       "style": "IPY_MODEL_de7d74f834fe4f8d9d856f96abd0cd33",
       "value": " 701/? [07:12&lt;00:00,  1.64it/s, loss=tensor(5.3103, device=&#x27;cuda:0&#x27;)]"
      }
     },
     "50db7c9ef7304d449cb7481c11071bac": {
      "model_module": "@jupyter-widgets/base",
      "model_module_version": "1.2.0",
      "model_name": "LayoutModel",
      "state": {}
     },
     "50fd2762df8e4a26abcc383aa2b8e2e7": {
      "model_module": "@jupyter-widgets/controls",
      "model_module_version": "1.5.0",
      "model_name": "HTMLModel",
      "state": {
       "layout": "IPY_MODEL_50db7c9ef7304d449cb7481c11071bac",
       "style": "IPY_MODEL_0461b9ec50ee4371b21d9d59d67378ca",
       "value": " 701/? [07:14&lt;00:00,  1.63it/s, loss=tensor(5.5085, device=&#x27;cuda:0&#x27;)]"
      }
     },
     "510190f1a448430fb9956fdb07e1790f": {
      "model_module": "@jupyter-widgets/controls",
      "model_module_version": "1.5.0",
      "model_name": "FloatProgressModel",
      "state": {
       "bar_style": "danger",
       "description": "Epoch 1: ",
       "layout": "IPY_MODEL_2d8aac15ba444b55a98c48dce87a6d39",
       "max": 1,
       "style": "IPY_MODEL_d184aa6204074f7e9dc212b3e26c8443",
       "value": 1
      }
     },
     "511f682df3db465e9d8594f99205b961": {
      "model_module": "@jupyter-widgets/base",
      "model_module_version": "1.2.0",
      "model_name": "LayoutModel",
      "state": {}
     },
     "5224281ef0814cc3967e341448be1901": {
      "model_module": "@jupyter-widgets/base",
      "model_module_version": "1.2.0",
      "model_name": "LayoutModel",
      "state": {}
     },
     "525ed55ee5ce4dfb83770ce09c119a7f": {
      "model_module": "@jupyter-widgets/base",
      "model_module_version": "1.2.0",
      "model_name": "LayoutModel",
      "state": {}
     },
     "5260d865600f48e9bef86f591ca5bb0b": {
      "model_module": "@jupyter-widgets/controls",
      "model_module_version": "1.5.0",
      "model_name": "DescriptionStyleModel",
      "state": {
       "description_width": ""
      }
     },
     "52912e89386c49f0b25dcca20850f83c": {
      "model_module": "@jupyter-widgets/controls",
      "model_module_version": "1.5.0",
      "model_name": "FloatProgressModel",
      "state": {
       "bar_style": "danger",
       "description": "Epoch 13: ",
       "layout": "IPY_MODEL_ea98c6792604418f9e8faa43c5fad4a5",
       "max": 1,
       "style": "IPY_MODEL_345bd1e32ec849b78c8489f1832e0338",
       "value": 1
      }
     },
     "52cc2a82d0b94fe198d9c26705b135ac": {
      "model_module": "@jupyter-widgets/controls",
      "model_module_version": "1.5.0",
      "model_name": "DescriptionStyleModel",
      "state": {
       "description_width": ""
      }
     },
     "5301fe6fc0554a788a8ba54256ea69f1": {
      "model_module": "@jupyter-widgets/controls",
      "model_module_version": "1.5.0",
      "model_name": "FloatProgressModel",
      "state": {
       "bar_style": "danger",
       "description": "Epoch 0: ",
       "layout": "IPY_MODEL_61b0d3c067ce41e08b72e01e8f0b2fce",
       "max": 1,
       "style": "IPY_MODEL_7c83a65496ba41d19eeb323312a40ee0",
       "value": 1
      }
     },
     "53b19c1f47eb4ca2b51a853f8e6e732d": {
      "model_module": "@jupyter-widgets/controls",
      "model_module_version": "1.5.0",
      "model_name": "DescriptionStyleModel",
      "state": {
       "description_width": ""
      }
     },
     "53eabd7b6b5f4488852e88a53f45cf14": {
      "model_module": "@jupyter-widgets/controls",
      "model_module_version": "1.5.0",
      "model_name": "FloatProgressModel",
      "state": {
       "bar_style": "danger",
       "description": "Epoch 7: ",
       "layout": "IPY_MODEL_9a75a871214043759ea511a611970272",
       "max": 1,
       "style": "IPY_MODEL_178086fe7f94445dbdf5fec2c9020f51",
       "value": 1
      }
     },
     "53f7da7b2378424d9ee87098999f8d4c": {
      "model_module": "@jupyter-widgets/base",
      "model_module_version": "1.2.0",
      "model_name": "LayoutModel",
      "state": {}
     },
     "5478549728a0403caa6e8597c707cde8": {
      "model_module": "@jupyter-widgets/controls",
      "model_module_version": "1.5.0",
      "model_name": "HTMLModel",
      "state": {
       "layout": "IPY_MODEL_de14c7dce6eb47948c53c230843c6e56",
       "style": "IPY_MODEL_f89602f2d9244ad0bc0cc8716ca5d24c",
       "value": " 701/? [3:48:31&lt;00:00, 19.56s/it, loss=tensor(7.3307, device=&#x27;cuda:0&#x27;)]"
      }
     },
     "54c14ef99d0949ad956e15a4e1139dcd": {
      "model_module": "@jupyter-widgets/controls",
      "model_module_version": "1.5.0",
      "model_name": "ProgressStyleModel",
      "state": {
       "description_width": "initial"
      }
     },
     "56503794de9442ed98255468bbd8aa33": {
      "model_module": "@jupyter-widgets/controls",
      "model_module_version": "1.5.0",
      "model_name": "HTMLModel",
      "state": {
       "layout": "IPY_MODEL_74a97ca22ea64a08a38fc8df18d46cd3",
       "style": "IPY_MODEL_5759941f3e7a4a04bc0f955f48725665",
       "value": " 701/? [07:11&lt;00:00,  1.53it/s, loss=tensor(5.6678, device=&#x27;cuda:0&#x27;)]"
      }
     },
     "5759941f3e7a4a04bc0f955f48725665": {
      "model_module": "@jupyter-widgets/controls",
      "model_module_version": "1.5.0",
      "model_name": "DescriptionStyleModel",
      "state": {
       "description_width": ""
      }
     },
     "575c08016ae240f29a8f636505143a4e": {
      "model_module": "@jupyter-widgets/base",
      "model_module_version": "1.2.0",
      "model_name": "LayoutModel",
      "state": {}
     },
     "57ef8b48329c4135b73d9bf0269b4144": {
      "model_module": "@jupyter-widgets/base",
      "model_module_version": "1.2.0",
      "model_name": "LayoutModel",
      "state": {}
     },
     "5833fd4c00bf47419ba458476a252b6f": {
      "model_module": "@jupyter-widgets/base",
      "model_module_version": "1.2.0",
      "model_name": "LayoutModel",
      "state": {}
     },
     "5894b25eb5184b85981148b59e2d230e": {
      "model_module": "@jupyter-widgets/base",
      "model_module_version": "1.2.0",
      "model_name": "LayoutModel",
      "state": {}
     },
     "5898fd7086c7476889dfaa4bf11a499d": {
      "model_module": "@jupyter-widgets/controls",
      "model_module_version": "1.5.0",
      "model_name": "ProgressStyleModel",
      "state": {
       "description_width": "initial"
      }
     },
     "58ee7516edd14c17820c0cc995596ae0": {
      "model_module": "@jupyter-widgets/controls",
      "model_module_version": "1.5.0",
      "model_name": "ProgressStyleModel",
      "state": {
       "description_width": "initial"
      }
     },
     "5940d047c2244d5abcb3a2c1e3cd72f3": {
      "model_module": "@jupyter-widgets/base",
      "model_module_version": "1.2.0",
      "model_name": "LayoutModel",
      "state": {}
     },
     "5a4426d302ee4bc3a15e29be983f8192": {
      "model_module": "@jupyter-widgets/controls",
      "model_module_version": "1.5.0",
      "model_name": "HBoxModel",
      "state": {
       "children": [
        "IPY_MODEL_5d99323b5c284e4faab1275fbf964d60",
        "IPY_MODEL_1f501596d65a47df8051adf478bda4d7"
       ],
       "layout": "IPY_MODEL_618c26cd6ca142eaa897f12dabe40733"
      }
     },
     "5ab205809c83435cbd1d07902a49ee52": {
      "model_module": "@jupyter-widgets/base",
      "model_module_version": "1.2.0",
      "model_name": "LayoutModel",
      "state": {}
     },
     "5b2242fbb6fe433fa9ccbc70dee7b7ff": {
      "model_module": "@jupyter-widgets/controls",
      "model_module_version": "1.5.0",
      "model_name": "FloatProgressModel",
      "state": {
       "bar_style": "danger",
       "description": "Epoch 9: ",
       "layout": "IPY_MODEL_63207dfd7fab41a2884341e884b4738e",
       "max": 1,
       "style": "IPY_MODEL_92b7c55f81434f73873322a37b000f9d",
       "value": 1
      }
     },
     "5b7df0f5893a4770a4b868849dd24730": {
      "model_module": "@jupyter-widgets/base",
      "model_module_version": "1.2.0",
      "model_name": "LayoutModel",
      "state": {}
     },
     "5bb79358d930437bab950c94ddd4ecdd": {
      "model_module": "@jupyter-widgets/base",
      "model_module_version": "1.2.0",
      "model_name": "LayoutModel",
      "state": {}
     },
     "5bc747f7c2ce45ce9e08638fe0be07e7": {
      "model_module": "@jupyter-widgets/controls",
      "model_module_version": "1.5.0",
      "model_name": "HTMLModel",
      "state": {
       "layout": "IPY_MODEL_c5708cf2929f44b4abc053a7831e1bdc",
       "style": "IPY_MODEL_7533a6bb38b344a08b283836fb809b72",
       "value": " 701/? [07:42&lt;00:00,  1.54it/s, loss=tensor(5.5851, device=&#x27;cuda:0&#x27;)]"
      }
     },
     "5c8f029d8f41484c9f91c36dc1c981e0": {
      "model_module": "@jupyter-widgets/controls",
      "model_module_version": "1.5.0",
      "model_name": "FloatProgressModel",
      "state": {
       "bar_style": "danger",
       "description": "Epoch 2: ",
       "layout": "IPY_MODEL_c2899042c1ac4a58883ee70b54bdb25f",
       "max": 1,
       "style": "IPY_MODEL_0eaa4dae1e8d457fb126b32e874772b0",
       "value": 1
      }
     },
     "5d3845097ac4484b9f7d49cbec261779": {
      "model_module": "@jupyter-widgets/controls",
      "model_module_version": "1.5.0",
      "model_name": "DescriptionStyleModel",
      "state": {
       "description_width": ""
      }
     },
     "5d89b6dbfc3541e9849f206968858482": {
      "model_module": "@jupyter-widgets/controls",
      "model_module_version": "1.5.0",
      "model_name": "HTMLModel",
      "state": {
       "layout": "IPY_MODEL_cec5ac4b12274fb4ace02e9cb1760881",
       "style": "IPY_MODEL_c93922c3de8b40dfbad7db3c17397b9e",
       "value": " 701/? [4:16:32&lt;00:00, 21.96s/it, loss=tensor(7.7160, device=&#x27;cuda:0&#x27;)]"
      }
     },
     "5d99323b5c284e4faab1275fbf964d60": {
      "model_module": "@jupyter-widgets/controls",
      "model_module_version": "1.5.0",
      "model_name": "FloatProgressModel",
      "state": {
       "bar_style": "danger",
       "description": "Epoch 9: ",
       "layout": "IPY_MODEL_6c5625292c6446ca90602352091703f1",
       "max": 1,
       "style": "IPY_MODEL_54c14ef99d0949ad956e15a4e1139dcd",
       "value": 1
      }
     },
     "5de5c9a3c7dd4e09bd751f2fb2d6f5e8": {
      "model_module": "@jupyter-widgets/controls",
      "model_module_version": "1.5.0",
      "model_name": "HTMLModel",
      "state": {
       "layout": "IPY_MODEL_1e92939944044a3584077a57b7cec6f2",
       "style": "IPY_MODEL_5ef98bf39af34ad69a13ee277abfc43b",
       "value": " 701/? [09:58&lt;00:00,  1.89it/s, loss=tensor(6.6814, device=&#x27;cuda:0&#x27;)]"
      }
     },
     "5eaef2752f6f4c4d8775385da09bdb15": {
      "model_module": "@jupyter-widgets/base",
      "model_module_version": "1.2.0",
      "model_name": "LayoutModel",
      "state": {}
     },
     "5ef98bf39af34ad69a13ee277abfc43b": {
      "model_module": "@jupyter-widgets/controls",
      "model_module_version": "1.5.0",
      "model_name": "DescriptionStyleModel",
      "state": {
       "description_width": ""
      }
     },
     "5fa1b3579088426a8a7bfcb27a035c6a": {
      "model_module": "@jupyter-widgets/base",
      "model_module_version": "1.2.0",
      "model_name": "LayoutModel",
      "state": {}
     },
     "608a89a8da444ef6b2a67cd7339c7dfe": {
      "model_module": "@jupyter-widgets/base",
      "model_module_version": "1.2.0",
      "model_name": "LayoutModel",
      "state": {}
     },
     "6129322db4b64592a735e214092bf2d6": {
      "model_module": "@jupyter-widgets/controls",
      "model_module_version": "1.5.0",
      "model_name": "HBoxModel",
      "state": {
       "children": [
        "IPY_MODEL_bc9165979f1b4dd998ac268d2f790395",
        "IPY_MODEL_c637fce363c243b1bb28b0e5c16af996"
       ],
       "layout": "IPY_MODEL_925c2ee2b77c479692c756c9823900fb"
      }
     },
     "618c26cd6ca142eaa897f12dabe40733": {
      "model_module": "@jupyter-widgets/base",
      "model_module_version": "1.2.0",
      "model_name": "LayoutModel",
      "state": {}
     },
     "619037aa2cd74cfaa20822171948d42f": {
      "model_module": "@jupyter-widgets/controls",
      "model_module_version": "1.5.0",
      "model_name": "HTMLModel",
      "state": {
       "layout": "IPY_MODEL_1d2a964f8fe344309357f09e30ba701e",
       "style": "IPY_MODEL_039abda1e9174f6082b2f0206301748d",
       "value": " 11/? [00:12&lt;00:00,  1.31it/s, loss=tensor(8.1642, device=&#x27;cuda:0&#x27;)]"
      }
     },
     "61a0e264c4a5424db385829e31fb7aa1": {
      "model_module": "@jupyter-widgets/controls",
      "model_module_version": "1.5.0",
      "model_name": "ProgressStyleModel",
      "state": {
       "description_width": "initial"
      }
     },
     "61b0d3c067ce41e08b72e01e8f0b2fce": {
      "model_module": "@jupyter-widgets/base",
      "model_module_version": "1.2.0",
      "model_name": "LayoutModel",
      "state": {}
     },
     "6256f908a76648229e9172f1da19569e": {
      "model_module": "@jupyter-widgets/controls",
      "model_module_version": "1.5.0",
      "model_name": "ProgressStyleModel",
      "state": {
       "description_width": "initial"
      }
     },
     "629e9b28dd414ecfaff93785036c62c6": {
      "model_module": "@jupyter-widgets/controls",
      "model_module_version": "1.5.0",
      "model_name": "FloatProgressModel",
      "state": {
       "bar_style": "danger",
       "description": "Epoch 1: ",
       "layout": "IPY_MODEL_f3ff0ba9cc3c41b3bb505cab1229087e",
       "max": 1,
       "style": "IPY_MODEL_f7b56a74bcb64fd3a2a24df8fb189bf7",
       "value": 1
      }
     },
     "629f57d1ef7941a9afe1f555ebba790e": {
      "model_module": "@jupyter-widgets/base",
      "model_module_version": "1.2.0",
      "model_name": "LayoutModel",
      "state": {}
     },
     "63207dfd7fab41a2884341e884b4738e": {
      "model_module": "@jupyter-widgets/base",
      "model_module_version": "1.2.0",
      "model_name": "LayoutModel",
      "state": {}
     },
     "637facc9670d42aca12bbd17557b24e4": {
      "model_module": "@jupyter-widgets/controls",
      "model_module_version": "1.5.0",
      "model_name": "HBoxModel",
      "state": {
       "children": [
        "IPY_MODEL_6dffa68c87dc4eb4bf444c9d1f0fb8f1",
        "IPY_MODEL_39b3ba12182a40c49daa15346962fb18"
       ],
       "layout": "IPY_MODEL_0a8455a220c44280a87d94877e6628ab"
      }
     },
     "639cb4a2be91407fafa8c4973d0e4b78": {
      "model_module": "@jupyter-widgets/controls",
      "model_module_version": "1.5.0",
      "model_name": "ProgressStyleModel",
      "state": {
       "description_width": "initial"
      }
     },
     "6595fe9522ed44c39dcf4e8992876563": {
      "model_module": "@jupyter-widgets/controls",
      "model_module_version": "1.5.0",
      "model_name": "FloatProgressModel",
      "state": {
       "bar_style": "danger",
       "description": "Epoch 5: ",
       "layout": "IPY_MODEL_7b7f72fc9b8349bd8fdd005bc9f105d9",
       "max": 1,
       "style": "IPY_MODEL_aa39f09c650140ccbbbc3e6d6a6e83d7",
       "value": 1
      }
     },
     "66e1188b50784bc9b44ee0a56c9fbcb4": {
      "model_module": "@jupyter-widgets/controls",
      "model_module_version": "1.5.0",
      "model_name": "HTMLModel",
      "state": {
       "layout": "IPY_MODEL_1468e73c430a49c0bea982b7e5c73b8c",
       "style": "IPY_MODEL_d1e82a73d91d44ad9b24faba1e4ddb69",
       "value": " 701/? [06:57&lt;00:00,  1.69it/s, loss=tensor(5.8394, device=&#x27;cuda:0&#x27;)]"
      }
     },
     "6741b360d82c48e1b604708fd2bd8853": {
      "model_module": "@jupyter-widgets/controls",
      "model_module_version": "1.5.0",
      "model_name": "HTMLModel",
      "state": {
       "layout": "IPY_MODEL_e635d856985d411891f957dce0ad188e",
       "style": "IPY_MODEL_dfdefd4a08be467fa99e03825b4f4e3d",
       "value": " 11/? [00:11&lt;00:00,  1.36it/s, loss=tensor(135.8093, device=&#x27;cuda:0&#x27;)]"
      }
     },
     "68509f41d7c1440d9a5f5d2199d45cba": {
      "model_module": "@jupyter-widgets/base",
      "model_module_version": "1.2.0",
      "model_name": "LayoutModel",
      "state": {}
     },
     "6850ef6aca8f42228136774ad007b614": {
      "model_module": "@jupyter-widgets/controls",
      "model_module_version": "1.5.0",
      "model_name": "FloatProgressModel",
      "state": {
       "bar_style": "danger",
       "description": "Epoch 3: ",
       "layout": "IPY_MODEL_d90d6eade9054605bc6ee7882a013c73",
       "max": 1,
       "style": "IPY_MODEL_860b5f4b20b14a1d91b14734e303a147",
       "value": 1
      }
     },
     "695cdd153e454e569a0684ff73c653e6": {
      "model_module": "@jupyter-widgets/controls",
      "model_module_version": "1.5.0",
      "model_name": "HBoxModel",
      "state": {
       "children": [
        "IPY_MODEL_5301fe6fc0554a788a8ba54256ea69f1",
        "IPY_MODEL_df29a46883694853a14a2684a4aee26b"
       ],
       "layout": "IPY_MODEL_91e99634f3dd451cb22a2c88c82284f1"
      }
     },
     "69e78484624148c084fd865eac8257a9": {
      "model_module": "@jupyter-widgets/controls",
      "model_module_version": "1.5.0",
      "model_name": "ProgressStyleModel",
      "state": {
       "description_width": "initial"
      }
     },
     "6a79f13b5afd43e7b9fea817ab6259f3": {
      "model_module": "@jupyter-widgets/controls",
      "model_module_version": "1.5.0",
      "model_name": "HBoxModel",
      "state": {
       "children": [
        "IPY_MODEL_e835b326fbd64ba487aa44de2fbcdd59",
        "IPY_MODEL_1b29c92432154fa98f339dcd11ea427d"
       ],
       "layout": "IPY_MODEL_aaa73b2fdffd4d43934673717b3b5041"
      }
     },
     "6a86f0d0059a4e15900d9724fd9f7f70": {
      "model_module": "@jupyter-widgets/controls",
      "model_module_version": "1.5.0",
      "model_name": "FloatProgressModel",
      "state": {
       "bar_style": "danger",
       "description": "Epoch 7: ",
       "layout": "IPY_MODEL_129f72fb521d4016b0d7f2890eff2d24",
       "max": 1,
       "style": "IPY_MODEL_707c80aef49b4e8d9ee48a8a57b55b69",
       "value": 1
      }
     },
     "6ac2d638f60a49159530d51d504c2eb9": {
      "model_module": "@jupyter-widgets/controls",
      "model_module_version": "1.5.0",
      "model_name": "HBoxModel",
      "state": {
       "children": [
        "IPY_MODEL_6a86f0d0059a4e15900d9724fd9f7f70",
        "IPY_MODEL_66e1188b50784bc9b44ee0a56c9fbcb4"
       ],
       "layout": "IPY_MODEL_486b830686a54e5a91024063db2e82ef"
      }
     },
     "6b5b3109ea0f45028f1527676a4649dc": {
      "model_module": "@jupyter-widgets/controls",
      "model_module_version": "1.5.0",
      "model_name": "HBoxModel",
      "state": {
       "children": [
        "IPY_MODEL_5b2242fbb6fe433fa9ccbc70dee7b7ff",
        "IPY_MODEL_d6e3facadb93486094582e9936204f47"
       ],
       "layout": "IPY_MODEL_c3e2c99d315e4970bde5608f9c26cf82"
      }
     },
     "6b8f023364704137bacafacb23ad3137": {
      "model_module": "@jupyter-widgets/base",
      "model_module_version": "1.2.0",
      "model_name": "LayoutModel",
      "state": {}
     },
     "6c357188edc644a3977e2ecf23fc2f4d": {
      "model_module": "@jupyter-widgets/controls",
      "model_module_version": "1.5.0",
      "model_name": "ProgressStyleModel",
      "state": {
       "description_width": "initial"
      }
     },
     "6c5625292c6446ca90602352091703f1": {
      "model_module": "@jupyter-widgets/base",
      "model_module_version": "1.2.0",
      "model_name": "LayoutModel",
      "state": {}
     },
     "6c8d588d1ca249e8b69840ba8c591870": {
      "model_module": "@jupyter-widgets/controls",
      "model_module_version": "1.5.0",
      "model_name": "HTMLModel",
      "state": {
       "layout": "IPY_MODEL_a62c9288b5cd4d53916ec7bc66016021",
       "style": "IPY_MODEL_7193ecde42ae4d9eaf731b16cceb9f2e",
       "value": " 701/? [06:51&lt;00:00,  1.72it/s, loss=tensor(5.8624, device=&#x27;cuda:0&#x27;)]"
      }
     },
     "6dffa68c87dc4eb4bf444c9d1f0fb8f1": {
      "model_module": "@jupyter-widgets/controls",
      "model_module_version": "1.5.0",
      "model_name": "FloatProgressModel",
      "state": {
       "bar_style": "danger",
       "description": "Epoch 2: ",
       "layout": "IPY_MODEL_b9f318fc3255409b845cbb0746bbc005",
       "max": 1,
       "style": "IPY_MODEL_2a1bbc9d79094254bbd34c2f73e8df06",
       "value": 1
      }
     },
     "6e105dd7cf714ba8a91ae97360b8c904": {
      "model_module": "@jupyter-widgets/controls",
      "model_module_version": "1.5.0",
      "model_name": "HTMLModel",
      "state": {
       "layout": "IPY_MODEL_6fe7e02d2eb648568df4d30dc01cc52a",
       "style": "IPY_MODEL_86e847d1c6be497db381a4d43ca6d114",
       "value": " 701/? [07:42&lt;00:00,  1.53it/s, loss=tensor(5.4337, device=&#x27;cuda:0&#x27;)]"
      }
     },
     "6e32a0de33cc46b0967888bb67e11f56": {
      "model_module": "@jupyter-widgets/controls",
      "model_module_version": "1.5.0",
      "model_name": "DescriptionStyleModel",
      "state": {
       "description_width": ""
      }
     },
     "6e57a6b307404bbb84688550d22abad2": {
      "model_module": "@jupyter-widgets/base",
      "model_module_version": "1.2.0",
      "model_name": "LayoutModel",
      "state": {}
     },
     "6f68f3bbce7a46c3b605b4d9c81f57d4": {
      "model_module": "@jupyter-widgets/base",
      "model_module_version": "1.2.0",
      "model_name": "LayoutModel",
      "state": {}
     },
     "6fb772c3791745b08409fb6f52aa45fb": {
      "model_module": "@jupyter-widgets/controls",
      "model_module_version": "1.5.0",
      "model_name": "ProgressStyleModel",
      "state": {
       "description_width": "initial"
      }
     },
     "6fe7e02d2eb648568df4d30dc01cc52a": {
      "model_module": "@jupyter-widgets/base",
      "model_module_version": "1.2.0",
      "model_name": "LayoutModel",
      "state": {}
     },
     "707c80aef49b4e8d9ee48a8a57b55b69": {
      "model_module": "@jupyter-widgets/controls",
      "model_module_version": "1.5.0",
      "model_name": "ProgressStyleModel",
      "state": {
       "description_width": "initial"
      }
     },
     "70934ac430864d77b7ac57b952cd8f04": {
      "model_module": "@jupyter-widgets/base",
      "model_module_version": "1.2.0",
      "model_name": "LayoutModel",
      "state": {}
     },
     "70b1025187194a48b8a809364d3f04a8": {
      "model_module": "@jupyter-widgets/base",
      "model_module_version": "1.2.0",
      "model_name": "LayoutModel",
      "state": {}
     },
     "7129174a175e4f0b8e48fa60157e2849": {
      "model_module": "@jupyter-widgets/controls",
      "model_module_version": "1.5.0",
      "model_name": "DescriptionStyleModel",
      "state": {
       "description_width": ""
      }
     },
     "71933fbfd6ff42528651df037d94f082": {
      "model_module": "@jupyter-widgets/controls",
      "model_module_version": "1.5.0",
      "model_name": "ProgressStyleModel",
      "state": {
       "description_width": "initial"
      }
     },
     "7193ecde42ae4d9eaf731b16cceb9f2e": {
      "model_module": "@jupyter-widgets/controls",
      "model_module_version": "1.5.0",
      "model_name": "DescriptionStyleModel",
      "state": {
       "description_width": ""
      }
     },
     "7292fd76289c41c483b57d8ec4f2097c": {
      "model_module": "@jupyter-widgets/base",
      "model_module_version": "1.2.0",
      "model_name": "LayoutModel",
      "state": {}
     },
     "74a97ca22ea64a08a38fc8df18d46cd3": {
      "model_module": "@jupyter-widgets/base",
      "model_module_version": "1.2.0",
      "model_name": "LayoutModel",
      "state": {}
     },
     "7533a6bb38b344a08b283836fb809b72": {
      "model_module": "@jupyter-widgets/controls",
      "model_module_version": "1.5.0",
      "model_name": "DescriptionStyleModel",
      "state": {
       "description_width": ""
      }
     },
     "75c4b1fc9c1340139a11bccc788f492a": {
      "model_module": "@jupyter-widgets/controls",
      "model_module_version": "1.5.0",
      "model_name": "FloatProgressModel",
      "state": {
       "bar_style": "danger",
       "description": "Epoch 0: ",
       "layout": "IPY_MODEL_511f682df3db465e9d8594f99205b961",
       "max": 1,
       "style": "IPY_MODEL_df5c3c30a7e8496589eafc1d52670040"
      }
     },
     "75d33fa5e5f3440f96349db753b005ec": {
      "model_module": "@jupyter-widgets/base",
      "model_module_version": "1.2.0",
      "model_name": "LayoutModel",
      "state": {}
     },
     "763d32bb84d14e7487446176f01124d9": {
      "model_module": "@jupyter-widgets/base",
      "model_module_version": "1.2.0",
      "model_name": "LayoutModel",
      "state": {}
     },
     "77065b94aaca4ad3b631552382231ca9": {
      "model_module": "@jupyter-widgets/base",
      "model_module_version": "1.2.0",
      "model_name": "LayoutModel",
      "state": {}
     },
     "7707c2ec226440518803c359b8facd38": {
      "model_module": "@jupyter-widgets/base",
      "model_module_version": "1.2.0",
      "model_name": "LayoutModel",
      "state": {}
     },
     "777e4a9d710e4e5da9eb86db69ce8849": {
      "model_module": "@jupyter-widgets/controls",
      "model_module_version": "1.5.0",
      "model_name": "DescriptionStyleModel",
      "state": {
       "description_width": ""
      }
     },
     "77c83ce08b394633945fc931d0fd002e": {
      "model_module": "@jupyter-widgets/base",
      "model_module_version": "1.2.0",
      "model_name": "LayoutModel",
      "state": {}
     },
     "78ee68157bf94c22b496c9127af037d7": {
      "model_module": "@jupyter-widgets/base",
      "model_module_version": "1.2.0",
      "model_name": "LayoutModel",
      "state": {}
     },
     "78ee7d28bb9c4b688f287ff32b8089b0": {
      "model_module": "@jupyter-widgets/controls",
      "model_module_version": "1.5.0",
      "model_name": "HBoxModel",
      "state": {
       "children": [
        "IPY_MODEL_ce69d91a53834c94ae759f58a65db5eb",
        "IPY_MODEL_d0557d97b94f4ff6be3d0ada2765a9a1"
       ],
       "layout": "IPY_MODEL_1f03ce3037214f2ead0da3b81a326c1a"
      }
     },
     "798acaeeb62d456c99168d5bc0676a86": {
      "model_module": "@jupyter-widgets/controls",
      "model_module_version": "1.5.0",
      "model_name": "FloatProgressModel",
      "state": {
       "bar_style": "danger",
       "description": "Epoch 4: ",
       "layout": "IPY_MODEL_2a519cabfeb742b082e01be29b8cce26",
       "max": 1,
       "style": "IPY_MODEL_69e78484624148c084fd865eac8257a9",
       "value": 1
      }
     },
     "79bbcf5eae394876bbb49f769876af12": {
      "model_module": "@jupyter-widgets/controls",
      "model_module_version": "1.5.0",
      "model_name": "HTMLModel",
      "state": {
       "layout": "IPY_MODEL_fde9c28e364b493086e44150bdf51cf5",
       "style": "IPY_MODEL_33b50e73a06244a496e42a30dc5dd8bd",
       "value": " 701/? [2:43:12&lt;00:00, 13.97s/it, loss=tensor(6.9774, device=&#x27;cuda:0&#x27;)]"
      }
     },
     "7a9e9b835ceb403a89c2a4f1d1cf41be": {
      "model_module": "@jupyter-widgets/controls",
      "model_module_version": "1.5.0",
      "model_name": "HTMLModel",
      "state": {
       "layout": "IPY_MODEL_d351d222d573429685c7d52e4572f07d",
       "style": "IPY_MODEL_f502a6aa1fd54db581ddda70dcf52f2d",
       "value": " 701/? [4:29:50&lt;00:00, 23.10s/it, loss=tensor(7.6729, device=&#x27;cuda:0&#x27;)]"
      }
     },
     "7b2ea10f64a5428896b08ea44f361a80": {
      "model_module": "@jupyter-widgets/controls",
      "model_module_version": "1.5.0",
      "model_name": "DescriptionStyleModel",
      "state": {
       "description_width": ""
      }
     },
     "7b60625b0b5041e5a131f6efdea3f70f": {
      "model_module": "@jupyter-widgets/controls",
      "model_module_version": "1.5.0",
      "model_name": "DescriptionStyleModel",
      "state": {
       "description_width": ""
      }
     },
     "7b7f72fc9b8349bd8fdd005bc9f105d9": {
      "model_module": "@jupyter-widgets/base",
      "model_module_version": "1.2.0",
      "model_name": "LayoutModel",
      "state": {}
     },
     "7c2549b81fb047bb8afb54425e12c6c2": {
      "model_module": "@jupyter-widgets/controls",
      "model_module_version": "1.5.0",
      "model_name": "ProgressStyleModel",
      "state": {
       "description_width": "initial"
      }
     },
     "7c83a65496ba41d19eeb323312a40ee0": {
      "model_module": "@jupyter-widgets/controls",
      "model_module_version": "1.5.0",
      "model_name": "ProgressStyleModel",
      "state": {
       "description_width": "initial"
      }
     },
     "7d31acc110134398bd40c723e619ddf5": {
      "model_module": "@jupyter-widgets/controls",
      "model_module_version": "1.5.0",
      "model_name": "HTMLModel",
      "state": {
       "layout": "IPY_MODEL_832198f52fec46fca92c0466f8b9105c",
       "style": "IPY_MODEL_4b405932b84a43768572fa95c6673db0",
       "value": " 701/? [1:23:30&lt;00:00,  7.15s/it, loss=tensor(6.9428, device=&#x27;cuda:0&#x27;)]"
      }
     },
     "7df3ca33ea18466cb7fd9c2462ae14a9": {
      "model_module": "@jupyter-widgets/controls",
      "model_module_version": "1.5.0",
      "model_name": "DescriptionStyleModel",
      "state": {
       "description_width": ""
      }
     },
     "7f137a6478eb4a509f5c17cc4b10468e": {
      "model_module": "@jupyter-widgets/controls",
      "model_module_version": "1.5.0",
      "model_name": "HBoxModel",
      "state": {
       "children": [
        "IPY_MODEL_23db8e6079404aa89cea6831a6893cb9",
        "IPY_MODEL_56503794de9442ed98255468bbd8aa33"
       ],
       "layout": "IPY_MODEL_eab439612a9144c1b3d7bb68c4605a52"
      }
     },
     "7f5ad105bfea459a9bcb5bdcd8e6e6fd": {
      "model_module": "@jupyter-widgets/base",
      "model_module_version": "1.2.0",
      "model_name": "LayoutModel",
      "state": {}
     },
     "7f7c8fd1a1a34cf2a1b901c8d30e0731": {
      "model_module": "@jupyter-widgets/controls",
      "model_module_version": "1.5.0",
      "model_name": "ProgressStyleModel",
      "state": {
       "description_width": "initial"
      }
     },
     "7f849bf9bb1e4d7b8fe677033296148e": {
      "model_module": "@jupyter-widgets/base",
      "model_module_version": "1.2.0",
      "model_name": "LayoutModel",
      "state": {}
     },
     "7fdc502638be44eeaa112fc57d97094a": {
      "model_module": "@jupyter-widgets/controls",
      "model_module_version": "1.5.0",
      "model_name": "ProgressStyleModel",
      "state": {
       "description_width": "initial"
      }
     },
     "801ee6a8265e407a9968caaeb667cf28": {
      "model_module": "@jupyter-widgets/controls",
      "model_module_version": "1.5.0",
      "model_name": "FloatProgressModel",
      "state": {
       "bar_style": "danger",
       "description": "Epoch 2: ",
       "layout": "IPY_MODEL_163669f1884b4f5bb8e5ccac7f38e5b8",
       "max": 1,
       "style": "IPY_MODEL_7fdc502638be44eeaa112fc57d97094a",
       "value": 1
      }
     },
     "80a0e16e94634dbb84f1819443a916da": {
      "model_module": "@jupyter-widgets/controls",
      "model_module_version": "1.5.0",
      "model_name": "HTMLModel",
      "state": {
       "layout": "IPY_MODEL_81f7d4a3a6104ab9b720d68f4031b91e",
       "style": "IPY_MODEL_8a6f3856c5b44ee1aa6afba4aa980460",
       "value": " 701/? [06:56&lt;00:00,  1.72it/s, loss=tensor(6.0102, device=&#x27;cuda:0&#x27;)]"
      }
     },
     "80e9b09a306f4bb7907deeb26e99b7bd": {
      "model_module": "@jupyter-widgets/base",
      "model_module_version": "1.2.0",
      "model_name": "LayoutModel",
      "state": {}
     },
     "8191b2fdb01a4a72b3b1efe21b35179b": {
      "model_module": "@jupyter-widgets/controls",
      "model_module_version": "1.5.0",
      "model_name": "HBoxModel",
      "state": {
       "children": [
        "IPY_MODEL_cbc63ce71dec43f48754d333db298b2a",
        "IPY_MODEL_7d31acc110134398bd40c723e619ddf5"
       ],
       "layout": "IPY_MODEL_bb580adf364b44ab9741bc245f89d8b9"
      }
     },
     "81f7d4a3a6104ab9b720d68f4031b91e": {
      "model_module": "@jupyter-widgets/base",
      "model_module_version": "1.2.0",
      "model_name": "LayoutModel",
      "state": {}
     },
     "8250b62caae1411e879158428596f6d5": {
      "model_module": "@jupyter-widgets/base",
      "model_module_version": "1.2.0",
      "model_name": "LayoutModel",
      "state": {}
     },
     "82a04f6ab1524ff188a54484462c38ad": {
      "model_module": "@jupyter-widgets/controls",
      "model_module_version": "1.5.0",
      "model_name": "ProgressStyleModel",
      "state": {
       "description_width": "initial"
      }
     },
     "832198f52fec46fca92c0466f8b9105c": {
      "model_module": "@jupyter-widgets/base",
      "model_module_version": "1.2.0",
      "model_name": "LayoutModel",
      "state": {}
     },
     "8377ce5ffa064ed097387cdee0cde157": {
      "model_module": "@jupyter-widgets/controls",
      "model_module_version": "1.5.0",
      "model_name": "DescriptionStyleModel",
      "state": {
       "description_width": ""
      }
     },
     "83a0dac0d00e4992b8e4c3b709289218": {
      "model_module": "@jupyter-widgets/controls",
      "model_module_version": "1.5.0",
      "model_name": "HTMLModel",
      "state": {
       "layout": "IPY_MODEL_a55847b7e97b4061b3b39b03adb636d5",
       "style": "IPY_MODEL_52cc2a82d0b94fe198d9c26705b135ac",
       "value": " 701/? [2:07:13&lt;00:00, 10.89s/it, loss=tensor(6.9056, device=&#x27;cuda:0&#x27;)]"
      }
     },
     "83c776a2ccc44922831c322d3e8dccdb": {
      "model_module": "@jupyter-widgets/base",
      "model_module_version": "1.2.0",
      "model_name": "LayoutModel",
      "state": {}
     },
     "850312c4ef334939b063864724767fb6": {
      "model_module": "@jupyter-widgets/base",
      "model_module_version": "1.2.0",
      "model_name": "LayoutModel",
      "state": {}
     },
     "8576334298d34ff3bedea48b8f9d53db": {
      "model_module": "@jupyter-widgets/controls",
      "model_module_version": "1.5.0",
      "model_name": "FloatProgressModel",
      "state": {
       "bar_style": "danger",
       "description": "Epoch 0: ",
       "layout": "IPY_MODEL_b3acbd48d30d40469b0736a487eb9fc7",
       "max": 1,
       "style": "IPY_MODEL_e481ec03b2f54c36b7c52df725d6d391",
       "value": 1
      }
     },
     "860b5f4b20b14a1d91b14734e303a147": {
      "model_module": "@jupyter-widgets/controls",
      "model_module_version": "1.5.0",
      "model_name": "ProgressStyleModel",
      "state": {
       "description_width": "initial"
      }
     },
     "86e847d1c6be497db381a4d43ca6d114": {
      "model_module": "@jupyter-widgets/controls",
      "model_module_version": "1.5.0",
      "model_name": "DescriptionStyleModel",
      "state": {
       "description_width": ""
      }
     },
     "86e87d6cc67c49d2a091d0f44c148794": {
      "model_module": "@jupyter-widgets/controls",
      "model_module_version": "1.5.0",
      "model_name": "FloatProgressModel",
      "state": {
       "bar_style": "danger",
       "description": "Epoch 3: ",
       "layout": "IPY_MODEL_9741c01b57e049e58a013f4b541c882f",
       "max": 1,
       "style": "IPY_MODEL_d4c47841e3764d0790d584aefef6ce96",
       "value": 1
      }
     },
     "86ebf71ea7354626bb8b6c35743a128d": {
      "model_module": "@jupyter-widgets/controls",
      "model_module_version": "1.5.0",
      "model_name": "ProgressStyleModel",
      "state": {
       "description_width": "initial"
      }
     },
     "8751148b694e4484b5f8b6e2dade62b0": {
      "model_module": "@jupyter-widgets/controls",
      "model_module_version": "1.5.0",
      "model_name": "ProgressStyleModel",
      "state": {
       "description_width": "initial"
      }
     },
     "878b2dc465eb45aab776357e33a6d073": {
      "model_module": "@jupyter-widgets/controls",
      "model_module_version": "1.5.0",
      "model_name": "FloatProgressModel",
      "state": {
       "bar_style": "danger",
       "description": "Epoch 7: ",
       "layout": "IPY_MODEL_5833fd4c00bf47419ba458476a252b6f",
       "max": 1,
       "style": "IPY_MODEL_882b79a4f20146a093299aa60702d684",
       "value": 1
      }
     },
     "880bc84055624ac48bdac795f1f5972b": {
      "model_module": "@jupyter-widgets/controls",
      "model_module_version": "1.5.0",
      "model_name": "HTMLModel",
      "state": {
       "layout": "IPY_MODEL_df13ae70d74245ecac908bbf2538ebb5",
       "style": "IPY_MODEL_7b60625b0b5041e5a131f6efdea3f70f",
       "value": " 701/? [2:14:43&lt;00:00, 11.53s/it, loss=tensor(6.9866, device=&#x27;cuda:0&#x27;)]"
      }
     },
     "881fe98b0e2f450f9a5c230d46f6412e": {
      "model_module": "@jupyter-widgets/controls",
      "model_module_version": "1.5.0",
      "model_name": "DescriptionStyleModel",
      "state": {
       "description_width": ""
      }
     },
     "882b79a4f20146a093299aa60702d684": {
      "model_module": "@jupyter-widgets/controls",
      "model_module_version": "1.5.0",
      "model_name": "ProgressStyleModel",
      "state": {
       "description_width": "initial"
      }
     },
     "8892400aa0a04cbd9af0a0b89c0902b8": {
      "model_module": "@jupyter-widgets/controls",
      "model_module_version": "1.5.0",
      "model_name": "HTMLModel",
      "state": {
       "layout": "IPY_MODEL_ab6d36c967e842a7b175ac6d83db8843",
       "style": "IPY_MODEL_97425fb3131242e998b824552981f08d",
       "value": " 701/? [3:40:47&lt;00:00, 18.90s/it, loss=tensor(7.1801, device=&#x27;cuda:0&#x27;)]"
      }
     },
     "88b5ce7cdc7f40ccb57ea8071de212fb": {
      "model_module": "@jupyter-widgets/base",
      "model_module_version": "1.2.0",
      "model_name": "LayoutModel",
      "state": {}
     },
     "88cb7bc7ea9f43cba0080316df454f77": {
      "model_module": "@jupyter-widgets/base",
      "model_module_version": "1.2.0",
      "model_name": "LayoutModel",
      "state": {}
     },
     "892094f97c014f7f8bf2c83d59c699a7": {
      "model_module": "@jupyter-widgets/controls",
      "model_module_version": "1.5.0",
      "model_name": "HBoxModel",
      "state": {
       "children": [
        "IPY_MODEL_a63568210aec489bada63b835ca99208",
        "IPY_MODEL_83a0dac0d00e4992b8e4c3b709289218"
       ],
       "layout": "IPY_MODEL_9f3d659d7ba6433abec36051cc08735a"
      }
     },
     "89268b1f8d784dc69c29302721b72f86": {
      "model_module": "@jupyter-widgets/controls",
      "model_module_version": "1.5.0",
      "model_name": "HBoxModel",
      "state": {
       "children": [
        "IPY_MODEL_4a1ac81b049a43de88eb0569af8b2194",
        "IPY_MODEL_ecafe04e98de4ee383a93341b0dfee79"
       ],
       "layout": "IPY_MODEL_57ef8b48329c4135b73d9bf0269b4144"
      }
     },
     "893253183219437caec7e475a0737c64": {
      "model_module": "@jupyter-widgets/base",
      "model_module_version": "1.2.0",
      "model_name": "LayoutModel",
      "state": {}
     },
     "89657daf4576467987298a4abf6deba8": {
      "model_module": "@jupyter-widgets/controls",
      "model_module_version": "1.5.0",
      "model_name": "HBoxModel",
      "state": {
       "children": [
        "IPY_MODEL_10585971e8fa4d5d8bde24135e555f2b",
        "IPY_MODEL_e0952ec685554ce28a7a456f634e04c2"
       ],
       "layout": "IPY_MODEL_5224281ef0814cc3967e341448be1901"
      }
     },
     "89a222261e30409390cffaeb932eca08": {
      "model_module": "@jupyter-widgets/controls",
      "model_module_version": "1.5.0",
      "model_name": "ProgressStyleModel",
      "state": {
       "description_width": "initial"
      }
     },
     "8a1f125e7eee401b950c61b53a7db9af": {
      "model_module": "@jupyter-widgets/base",
      "model_module_version": "1.2.0",
      "model_name": "LayoutModel",
      "state": {}
     },
     "8a56e1ab3cca49adb23b3acba130ee80": {
      "model_module": "@jupyter-widgets/controls",
      "model_module_version": "1.5.0",
      "model_name": "FloatProgressModel",
      "state": {
       "bar_style": "danger",
       "description": "Epoch 5: ",
       "layout": "IPY_MODEL_2f36aedb346c4ab68738c13771961d8d",
       "max": 1,
       "style": "IPY_MODEL_f7087ce57b4944b3b6bb240c7bce5b77",
       "value": 1
      }
     },
     "8a6f3856c5b44ee1aa6afba4aa980460": {
      "model_module": "@jupyter-widgets/controls",
      "model_module_version": "1.5.0",
      "model_name": "DescriptionStyleModel",
      "state": {
       "description_width": ""
      }
     },
     "8a82d27e541842eca480b01b7eaef945": {
      "model_module": "@jupyter-widgets/base",
      "model_module_version": "1.2.0",
      "model_name": "LayoutModel",
      "state": {}
     },
     "8aa85c6f0c864975adde129aff5865c6": {
      "model_module": "@jupyter-widgets/base",
      "model_module_version": "1.2.0",
      "model_name": "LayoutModel",
      "state": {}
     },
     "8b23bd0ff400404fb4de877efce071fa": {
      "model_module": "@jupyter-widgets/base",
      "model_module_version": "1.2.0",
      "model_name": "LayoutModel",
      "state": {}
     },
     "8b4158ca9478445fa3e3b0b7d4f1df31": {
      "model_module": "@jupyter-widgets/controls",
      "model_module_version": "1.5.0",
      "model_name": "DescriptionStyleModel",
      "state": {
       "description_width": ""
      }
     },
     "8b70a72a4fb14937b9158f689fae87d7": {
      "model_module": "@jupyter-widgets/base",
      "model_module_version": "1.2.0",
      "model_name": "LayoutModel",
      "state": {}
     },
     "8cdfe05ae4bd4f959fa8d49ce4810403": {
      "model_module": "@jupyter-widgets/controls",
      "model_module_version": "1.5.0",
      "model_name": "HBoxModel",
      "state": {
       "children": [
        "IPY_MODEL_90145a70ec1a484283c3ff225075e1ad",
        "IPY_MODEL_2370afdacae748798fc568f69dbbdcf7"
       ],
       "layout": "IPY_MODEL_629f57d1ef7941a9afe1f555ebba790e"
      }
     },
     "8ce69d3341a8457c9ef2f4a134fb9671": {
      "model_module": "@jupyter-widgets/base",
      "model_module_version": "1.2.0",
      "model_name": "LayoutModel",
      "state": {}
     },
     "8e2b11398f684c2fa673eff01f2bcfa8": {
      "model_module": "@jupyter-widgets/controls",
      "model_module_version": "1.5.0",
      "model_name": "HTMLModel",
      "state": {
       "layout": "IPY_MODEL_525ed55ee5ce4dfb83770ce09c119a7f",
       "style": "IPY_MODEL_be11e53d4caf4e5a8a9853f59fd0c763",
       "value": " 701/? [06:58&lt;00:00,  1.70it/s, loss=tensor(5.8169, device=&#x27;cuda:0&#x27;)]"
      }
     },
     "8e6ad4a93ebd495ab1208397e24e075b": {
      "model_module": "@jupyter-widgets/controls",
      "model_module_version": "1.5.0",
      "model_name": "FloatProgressModel",
      "state": {
       "bar_style": "danger",
       "description": "Epoch 12: ",
       "layout": "IPY_MODEL_4ced9f77462543ed8fe38d0c57aaea73",
       "max": 1,
       "style": "IPY_MODEL_94b0ce6b3b4940e5b4201fbe8d1772e0",
       "value": 1
      }
     },
     "8feec86708fa456387b06a941183e202": {
      "model_module": "@jupyter-widgets/controls",
      "model_module_version": "1.5.0",
      "model_name": "HBoxModel",
      "state": {
       "children": [
        "IPY_MODEL_53eabd7b6b5f4488852e88a53f45cf14",
        "IPY_MODEL_077d6181a46146afa54602406b84c79b"
       ],
       "layout": "IPY_MODEL_a2e6666927034fa2b5747a8469766b4d"
      }
     },
     "90145a70ec1a484283c3ff225075e1ad": {
      "model_module": "@jupyter-widgets/controls",
      "model_module_version": "1.5.0",
      "model_name": "FloatProgressModel",
      "state": {
       "bar_style": "danger",
       "description": "Epoch 4: ",
       "layout": "IPY_MODEL_0bcb4b1a02b04a89bce890e880d2ecf4",
       "max": 1,
       "style": "IPY_MODEL_1f3c47d5d41d45ae9ca2f9003b0ab6db",
       "value": 1
      }
     },
     "90175e7aaa0147099e3b843c656d9925": {
      "model_module": "@jupyter-widgets/controls",
      "model_module_version": "1.5.0",
      "model_name": "HBoxModel",
      "state": {
       "children": [
        "IPY_MODEL_b08c06767f1e4c928f251fb67e06f1d0",
        "IPY_MODEL_8892400aa0a04cbd9af0a0b89c0902b8"
       ],
       "layout": "IPY_MODEL_1d6711d346b149b48fa3fd10b25e2489"
      }
     },
     "917caf4e636646c7b48293eaa0b9cd41": {
      "model_module": "@jupyter-widgets/controls",
      "model_module_version": "1.5.0",
      "model_name": "HBoxModel",
      "state": {
       "children": [
        "IPY_MODEL_6850ef6aca8f42228136774ad007b614",
        "IPY_MODEL_6e105dd7cf714ba8a91ae97360b8c904"
       ],
       "layout": "IPY_MODEL_14df0379772745b0801557a4023c7754"
      }
     },
     "91e99634f3dd451cb22a2c88c82284f1": {
      "model_module": "@jupyter-widgets/base",
      "model_module_version": "1.2.0",
      "model_name": "LayoutModel",
      "state": {}
     },
     "920ce420ccbd46e79da52be1badec2a2": {
      "model_module": "@jupyter-widgets/base",
      "model_module_version": "1.2.0",
      "model_name": "LayoutModel",
      "state": {}
     },
     "925c2ee2b77c479692c756c9823900fb": {
      "model_module": "@jupyter-widgets/base",
      "model_module_version": "1.2.0",
      "model_name": "LayoutModel",
      "state": {}
     },
     "92b7c55f81434f73873322a37b000f9d": {
      "model_module": "@jupyter-widgets/controls",
      "model_module_version": "1.5.0",
      "model_name": "ProgressStyleModel",
      "state": {
       "description_width": "initial"
      }
     },
     "9316e1fd583f4b518c63abf113340185": {
      "model_module": "@jupyter-widgets/controls",
      "model_module_version": "1.5.0",
      "model_name": "HBoxModel",
      "state": {
       "children": [
        "IPY_MODEL_463e4dec1e47495bb25e5b617de521b2",
        "IPY_MODEL_35956fcf62d240b4933a15a54d5422b0"
       ],
       "layout": "IPY_MODEL_893253183219437caec7e475a0737c64"
      }
     },
     "9445a99dce414db8b1da53a5ed246f3e": {
      "model_module": "@jupyter-widgets/base",
      "model_module_version": "1.2.0",
      "model_name": "LayoutModel",
      "state": {}
     },
     "94a5363bf6684b7a8c6fa2d630f45f44": {
      "model_module": "@jupyter-widgets/controls",
      "model_module_version": "1.5.0",
      "model_name": "HTMLModel",
      "state": {
       "layout": "IPY_MODEL_575c08016ae240f29a8f636505143a4e",
       "style": "IPY_MODEL_5d3845097ac4484b9f7d49cbec261779",
       "value": " 0/? [17:36&lt;?, ?it/s]"
      }
     },
     "94b0ce6b3b4940e5b4201fbe8d1772e0": {
      "model_module": "@jupyter-widgets/controls",
      "model_module_version": "1.5.0",
      "model_name": "ProgressStyleModel",
      "state": {
       "description_width": "initial"
      }
     },
     "94b86f16945441158a792b335b3bcdfd": {
      "model_module": "@jupyter-widgets/base",
      "model_module_version": "1.2.0",
      "model_name": "LayoutModel",
      "state": {}
     },
     "951632d73017488dab08aef791dbc45c": {
      "model_module": "@jupyter-widgets/controls",
      "model_module_version": "1.5.0",
      "model_name": "FloatProgressModel",
      "state": {
       "bar_style": "danger",
       "description": "Epoch 5: ",
       "layout": "IPY_MODEL_3c7f30e32d5d4dbeb1b0bcec89fd1ede",
       "max": 1,
       "style": "IPY_MODEL_1317f70f70a446b3bc51f7adc5712808",
       "value": 1
      }
     },
     "9723fa543f874800af2b9038902b4dff": {
      "model_module": "@jupyter-widgets/base",
      "model_module_version": "1.2.0",
      "model_name": "LayoutModel",
      "state": {}
     },
     "9741c01b57e049e58a013f4b541c882f": {
      "model_module": "@jupyter-widgets/base",
      "model_module_version": "1.2.0",
      "model_name": "LayoutModel",
      "state": {}
     },
     "97425fb3131242e998b824552981f08d": {
      "model_module": "@jupyter-widgets/controls",
      "model_module_version": "1.5.0",
      "model_name": "DescriptionStyleModel",
      "state": {
       "description_width": ""
      }
     },
     "999808c2b0aa45fa8adba735eb83e8d1": {
      "model_module": "@jupyter-widgets/controls",
      "model_module_version": "1.5.0",
      "model_name": "DescriptionStyleModel",
      "state": {
       "description_width": ""
      }
     },
     "99e63a97bad2497ea0b8ee348cde8fc0": {
      "model_module": "@jupyter-widgets/controls",
      "model_module_version": "1.5.0",
      "model_name": "HBoxModel",
      "state": {
       "children": [
        "IPY_MODEL_ad5aa130035648b188f0e3dbe2f5dc1f",
        "IPY_MODEL_336be7c26e444b9197c6efe065b1c716"
       ],
       "layout": "IPY_MODEL_ded93f6da40e415b9968a4cb062133cf"
      }
     },
     "9a3b93a362be44c38ccb997dd06f167c": {
      "model_module": "@jupyter-widgets/controls",
      "model_module_version": "1.5.0",
      "model_name": "HBoxModel",
      "state": {
       "children": [
        "IPY_MODEL_a067ab7848d34210adb21eef50965376",
        "IPY_MODEL_8e2b11398f684c2fa673eff01f2bcfa8"
       ],
       "layout": "IPY_MODEL_88b5ce7cdc7f40ccb57ea8071de212fb"
      }
     },
     "9a75a871214043759ea511a611970272": {
      "model_module": "@jupyter-widgets/base",
      "model_module_version": "1.2.0",
      "model_name": "LayoutModel",
      "state": {}
     },
     "9adcffdbb8ad4c3d9b050bd030271ca7": {
      "model_module": "@jupyter-widgets/controls",
      "model_module_version": "1.5.0",
      "model_name": "FloatProgressModel",
      "state": {
       "bar_style": "danger",
       "description": "Epoch 13: ",
       "layout": "IPY_MODEL_763d32bb84d14e7487446176f01124d9",
       "max": 1,
       "style": "IPY_MODEL_e14dbf6a9254419b98f592dc323bf373",
       "value": 1
      }
     },
     "9aef0916033b4df5b9643af53b1eefbb": {
      "model_module": "@jupyter-widgets/controls",
      "model_module_version": "1.5.0",
      "model_name": "ProgressStyleModel",
      "state": {
       "description_width": "initial"
      }
     },
     "9bacfc1b398a48c3a439521dff7f17db": {
      "model_module": "@jupyter-widgets/controls",
      "model_module_version": "1.5.0",
      "model_name": "FloatProgressModel",
      "state": {
       "bar_style": "danger",
       "description": "Epoch 0: ",
       "layout": "IPY_MODEL_fceba7c82e6c40c0a5c649f575715f07",
       "max": 1,
       "style": "IPY_MODEL_aa5a49553cd14968bca34b9b5098c3e3",
       "value": 1
      }
     },
     "9bd6e64b57874a8baa46b91d6d801a7d": {
      "model_module": "@jupyter-widgets/controls",
      "model_module_version": "1.5.0",
      "model_name": "HBoxModel",
      "state": {
       "children": [
        "IPY_MODEL_afe9f888f85d4c7099e75fae955346e7",
        "IPY_MODEL_4bf722037e4b452dabfc0db581ecc380"
       ],
       "layout": "IPY_MODEL_bfadc90c9e8642a19bb7ad85e09540d8"
      }
     },
     "9c024235a33d42c18dd6eadc6261e6f8": {
      "model_module": "@jupyter-widgets/controls",
      "model_module_version": "1.5.0",
      "model_name": "DescriptionStyleModel",
      "state": {
       "description_width": ""
      }
     },
     "9c45a48e562743faa20d4984ff1e97f6": {
      "model_module": "@jupyter-widgets/base",
      "model_module_version": "1.2.0",
      "model_name": "LayoutModel",
      "state": {}
     },
     "9d1aaeffdb9a452f81196e57f987cb9c": {
      "model_module": "@jupyter-widgets/controls",
      "model_module_version": "1.5.0",
      "model_name": "ProgressStyleModel",
      "state": {
       "description_width": "initial"
      }
     },
     "9de8484cb24f4ed899116af082f9de13": {
      "model_module": "@jupyter-widgets/controls",
      "model_module_version": "1.5.0",
      "model_name": "DescriptionStyleModel",
      "state": {
       "description_width": ""
      }
     },
     "9e7ac9516b8942a8ab1c3550c8bb915c": {
      "model_module": "@jupyter-widgets/controls",
      "model_module_version": "1.5.0",
      "model_name": "ProgressStyleModel",
      "state": {
       "description_width": "initial"
      }
     },
     "9ea9490f8e3849cf8775d750497b6f10": {
      "model_module": "@jupyter-widgets/base",
      "model_module_version": "1.2.0",
      "model_name": "LayoutModel",
      "state": {}
     },
     "9f3d659d7ba6433abec36051cc08735a": {
      "model_module": "@jupyter-widgets/base",
      "model_module_version": "1.2.0",
      "model_name": "LayoutModel",
      "state": {}
     },
     "9f5008f2974d4bb89e4f7c33483480d9": {
      "model_module": "@jupyter-widgets/controls",
      "model_module_version": "1.5.0",
      "model_name": "FloatProgressModel",
      "state": {
       "bar_style": "danger",
       "description": "Epoch 0: ",
       "layout": "IPY_MODEL_301b3b320631423da942182f9dd53d86",
       "max": 1,
       "style": "IPY_MODEL_448f0446c49347ccb4f365f144018b40"
      }
     },
     "a067ab7848d34210adb21eef50965376": {
      "model_module": "@jupyter-widgets/controls",
      "model_module_version": "1.5.0",
      "model_name": "FloatProgressModel",
      "state": {
       "bar_style": "danger",
       "description": "Epoch 6: ",
       "layout": "IPY_MODEL_ad4f84a5bea549098ae288dd8cba834c",
       "max": 1,
       "style": "IPY_MODEL_32b740be06cd49928a512b5086d1069b",
       "value": 1
      }
     },
     "a176e22de7764ebd9c69876036d76ff7": {
      "model_module": "@jupyter-widgets/base",
      "model_module_version": "1.2.0",
      "model_name": "LayoutModel",
      "state": {}
     },
     "a1caf5d444724570b51d36ed1a7525c3": {
      "model_module": "@jupyter-widgets/controls",
      "model_module_version": "1.5.0",
      "model_name": "ProgressStyleModel",
      "state": {
       "description_width": "initial"
      }
     },
     "a1e05b055748400dbbe7d5ef3fdd4685": {
      "model_module": "@jupyter-widgets/base",
      "model_module_version": "1.2.0",
      "model_name": "LayoutModel",
      "state": {}
     },
     "a1fe0e93b6074755b1042ee0ca66839e": {
      "model_module": "@jupyter-widgets/base",
      "model_module_version": "1.2.0",
      "model_name": "LayoutModel",
      "state": {}
     },
     "a24c7d999cc54f5d873ba8936542cbd7": {
      "model_module": "@jupyter-widgets/controls",
      "model_module_version": "1.5.0",
      "model_name": "HBoxModel",
      "state": {
       "children": [
        "IPY_MODEL_b23b56add7174888a47cde48dc3f83f0",
        "IPY_MODEL_450fd37920074ae6932ef5a9b40d09a4"
       ],
       "layout": "IPY_MODEL_c702269e1b6b4223b5891e51e2354a56"
      }
     },
     "a2e6666927034fa2b5747a8469766b4d": {
      "model_module": "@jupyter-widgets/base",
      "model_module_version": "1.2.0",
      "model_name": "LayoutModel",
      "state": {}
     },
     "a350f62bfa00415d8d0bfca5512a6b8a": {
      "model_module": "@jupyter-widgets/controls",
      "model_module_version": "1.5.0",
      "model_name": "HTMLModel",
      "state": {
       "layout": "IPY_MODEL_b66292f5bf53424b8bf4569d04f60173",
       "style": "IPY_MODEL_17abc12d66cc420a89184c0734acb671",
       "value": " 701/? [2:00:06&lt;00:00, 10.28s/it, loss=tensor(6.9183, device=&#x27;cuda:0&#x27;)]"
      }
     },
     "a369717cdf034554a69d4fe3cf62f558": {
      "model_module": "@jupyter-widgets/controls",
      "model_module_version": "1.5.0",
      "model_name": "HBoxModel",
      "state": {
       "children": [
        "IPY_MODEL_d208e9757d39497ebd0ce57769d41294",
        "IPY_MODEL_a8ce2f2ec6c54230936221d35a10661b"
       ],
       "layout": "IPY_MODEL_5bb79358d930437bab950c94ddd4ecdd"
      }
     },
     "a4629df6bb4f499fa03a4879aa5ed4d5": {
      "model_module": "@jupyter-widgets/controls",
      "model_module_version": "1.5.0",
      "model_name": "HTMLModel",
      "state": {
       "layout": "IPY_MODEL_d7d7cd3556de4222b498bc9a518c8a0b",
       "style": "IPY_MODEL_e49fd151a9514585ab9588498286607a",
       "value": " 701/? [07:12&lt;00:00,  1.57it/s, loss=tensor(5.5063, device=&#x27;cuda:0&#x27;)]"
      }
     },
     "a4db8b14df494cdc8c3cdf90c59142a9": {
      "model_module": "@jupyter-widgets/controls",
      "model_module_version": "1.5.0",
      "model_name": "HBoxModel",
      "state": {
       "children": [
        "IPY_MODEL_c01b30f894bf428d8fc70d7e278e2403",
        "IPY_MODEL_ec91694ef4bd4a5fa3b6d1462a1f8f9b"
       ],
       "layout": "IPY_MODEL_4ad343bd6cae49b59150077735d47b8e"
      }
     },
     "a4f6601a2b7644dfb701a75cbee0dbc2": {
      "model_module": "@jupyter-widgets/controls",
      "model_module_version": "1.5.0",
      "model_name": "HBoxModel",
      "state": {
       "children": [
        "IPY_MODEL_d43cfc4f6bfb4c13a4f790eff285109f",
        "IPY_MODEL_619037aa2cd74cfaa20822171948d42f"
       ],
       "layout": "IPY_MODEL_3cb207717de04c7f9c33b04502d2098b"
      }
     },
     "a55847b7e97b4061b3b39b03adb636d5": {
      "model_module": "@jupyter-widgets/base",
      "model_module_version": "1.2.0",
      "model_name": "LayoutModel",
      "state": {}
     },
     "a574c4bf1ffe428e9a604658b402e19c": {
      "model_module": "@jupyter-widgets/controls",
      "model_module_version": "1.5.0",
      "model_name": "HTMLModel",
      "state": {
       "layout": "IPY_MODEL_0d7f104142e04e2684783f53d4314af3",
       "style": "IPY_MODEL_3a556b48e6a7454e830075c678a1e543",
       "value": " 0/? [18:39&lt;?, ?it/s]"
      }
     },
     "a5eec5d948d84abeb2ef547ec84a7e55": {
      "model_module": "@jupyter-widgets/controls",
      "model_module_version": "1.5.0",
      "model_name": "HTMLModel",
      "state": {
       "layout": "IPY_MODEL_1f831aed498b499680678ea1706f607e",
       "style": "IPY_MODEL_9de8484cb24f4ed899116af082f9de13",
       "value": " 58113/58113 [2:38:37&lt;00:00,  6.11it/s]"
      }
     },
     "a5f76433581c43abb871eb55f2215a6d": {
      "model_module": "@jupyter-widgets/controls",
      "model_module_version": "1.5.0",
      "model_name": "HBoxModel",
      "state": {
       "children": [
        "IPY_MODEL_0587e9c508644c5ea5ad7400271ffe72",
        "IPY_MODEL_02f154564e2c4f6ea5826032270513f9"
       ],
       "layout": "IPY_MODEL_d6fba01c2e534ec2a62bbc9fc3f23b17"
      }
     },
     "a613ac2a08304242bf157b6e4faa26ba": {
      "model_module": "@jupyter-widgets/controls",
      "model_module_version": "1.5.0",
      "model_name": "FloatProgressModel",
      "state": {
       "bar_style": "danger",
       "description": "Epoch 10: ",
       "layout": "IPY_MODEL_abaaff058449489983a0cbfdb24b2e78",
       "max": 1,
       "style": "IPY_MODEL_ed3e7e141eec4990b42456d5c277aaf2",
       "value": 1
      }
     },
     "a62c9288b5cd4d53916ec7bc66016021": {
      "model_module": "@jupyter-widgets/base",
      "model_module_version": "1.2.0",
      "model_name": "LayoutModel",
      "state": {}
     },
     "a63568210aec489bada63b835ca99208": {
      "model_module": "@jupyter-widgets/controls",
      "model_module_version": "1.5.0",
      "model_name": "FloatProgressModel",
      "state": {
       "bar_style": "danger",
       "description": "Epoch 10: ",
       "layout": "IPY_MODEL_88cb7bc7ea9f43cba0080316df454f77",
       "max": 1,
       "style": "IPY_MODEL_c4f09a3aeb28448893fa56c6442d3b1f",
       "value": 1
      }
     },
     "a68869e44dd04911a58c86386b3c77be": {
      "model_module": "@jupyter-widgets/base",
      "model_module_version": "1.2.0",
      "model_name": "LayoutModel",
      "state": {}
     },
     "a7418838c8084001bfd0d77392053c25": {
      "model_module": "@jupyter-widgets/controls",
      "model_module_version": "1.5.0",
      "model_name": "FloatProgressModel",
      "state": {
       "bar_style": "danger",
       "description": "Epoch 8: ",
       "layout": "IPY_MODEL_4e6c7676c62b4dce93b3d66ce95fb9fb",
       "max": 1,
       "style": "IPY_MODEL_b318af62412c4f55b435ae218a7cbfdd",
       "value": 1
      }
     },
     "a756dbbd79a64a0db84adbceec53527b": {
      "model_module": "@jupyter-widgets/base",
      "model_module_version": "1.2.0",
      "model_name": "LayoutModel",
      "state": {}
     },
     "a758557ae2ce4f138799c3e2a7f9c9dd": {
      "model_module": "@jupyter-widgets/controls",
      "model_module_version": "1.5.0",
      "model_name": "FloatProgressModel",
      "state": {
       "bar_style": "danger",
       "description": "Epoch 11: ",
       "layout": "IPY_MODEL_f5eb0e540295440fa7706d1c58cc96bd",
       "max": 1,
       "style": "IPY_MODEL_f67719d3bd0f44a2b76e17d34c8d969d",
       "value": 1
      }
     },
     "a79c71e0ed1b4013b8a7d0d67834c264": {
      "model_module": "@jupyter-widgets/controls",
      "model_module_version": "1.5.0",
      "model_name": "FloatProgressModel",
      "state": {
       "bar_style": "danger",
       "description": "Epoch 3: ",
       "layout": "IPY_MODEL_bc57914d20f64779a7b8edc36ff34122",
       "max": 1,
       "style": "IPY_MODEL_20669c243d1a423c820ed01c2457c421",
       "value": 1
      }
     },
     "a85618d223a74af99de7b7382cb172e8": {
      "model_module": "@jupyter-widgets/base",
      "model_module_version": "1.2.0",
      "model_name": "LayoutModel",
      "state": {}
     },
     "a8ce2f2ec6c54230936221d35a10661b": {
      "model_module": "@jupyter-widgets/controls",
      "model_module_version": "1.5.0",
      "model_name": "HTMLModel",
      "state": {
       "layout": "IPY_MODEL_e4b8f41ca8494614b67106f93e3a205f",
       "style": "IPY_MODEL_b52bb7a9cfb34b79896ff23d5a866336",
       "value": " 11/? [00:11&lt;00:00,  1.37it/s, loss=tensor(87.5657, device=&#x27;cuda:0&#x27;)]"
      }
     },
     "a98467d06fb5453aaa00974ea9822bae": {
      "model_module": "@jupyter-widgets/controls",
      "model_module_version": "1.5.0",
      "model_name": "HBoxModel",
      "state": {
       "children": [
        "IPY_MODEL_8a56e1ab3cca49adb23b3acba130ee80",
        "IPY_MODEL_80a0e16e94634dbb84f1819443a916da"
       ],
       "layout": "IPY_MODEL_f8d36eab4f3641c489a47b05471d1a34"
      }
     },
     "a9b475c6134349ccaa62750a2b5a5f84": {
      "model_module": "@jupyter-widgets/controls",
      "model_module_version": "1.5.0",
      "model_name": "HTMLModel",
      "state": {
       "layout": "IPY_MODEL_ca402175e2874751b470f09caf3da53f",
       "style": "IPY_MODEL_f9ce2847899d42448afec5b46d30b6b8",
       "value": " 701/? [06:58&lt;00:00,  1.70it/s, loss=tensor(5.5448, device=&#x27;cuda:0&#x27;)]"
      }
     },
     "a9ec19e3266641c2b7bdd3d84013ec10": {
      "model_module": "@jupyter-widgets/base",
      "model_module_version": "1.2.0",
      "model_name": "LayoutModel",
      "state": {}
     },
     "aa39f09c650140ccbbbc3e6d6a6e83d7": {
      "model_module": "@jupyter-widgets/controls",
      "model_module_version": "1.5.0",
      "model_name": "ProgressStyleModel",
      "state": {
       "description_width": "initial"
      }
     },
     "aa5a49553cd14968bca34b9b5098c3e3": {
      "model_module": "@jupyter-widgets/controls",
      "model_module_version": "1.5.0",
      "model_name": "ProgressStyleModel",
      "state": {
       "description_width": "initial"
      }
     },
     "aa62a23fbf6b4cfab16c687509d5643f": {
      "model_module": "@jupyter-widgets/controls",
      "model_module_version": "1.5.0",
      "model_name": "HBoxModel",
      "state": {
       "children": [
        "IPY_MODEL_798acaeeb62d456c99168d5bc0676a86",
        "IPY_MODEL_fc388f989a614f72b5375e3eea068139"
       ],
       "layout": "IPY_MODEL_920ce420ccbd46e79da52be1badec2a2"
      }
     },
     "aa9d6f8ba60046b59f408906ebd70313": {
      "model_module": "@jupyter-widgets/controls",
      "model_module_version": "1.5.0",
      "model_name": "DescriptionStyleModel",
      "state": {
       "description_width": ""
      }
     },
     "aaa73b2fdffd4d43934673717b3b5041": {
      "model_module": "@jupyter-widgets/base",
      "model_module_version": "1.2.0",
      "model_name": "LayoutModel",
      "state": {}
     },
     "aae95c93643b439eac700b745fd7fc4d": {
      "model_module": "@jupyter-widgets/controls",
      "model_module_version": "1.5.0",
      "model_name": "HBoxModel",
      "state": {
       "children": [
        "IPY_MODEL_e16bf20628de4f4a832f36007bf0f092",
        "IPY_MODEL_50fd2762df8e4a26abcc383aa2b8e2e7"
       ],
       "layout": "IPY_MODEL_c9608e7a11754f908fb609fd14cc31df"
      }
     },
     "ab6d36c967e842a7b175ac6d83db8843": {
      "model_module": "@jupyter-widgets/base",
      "model_module_version": "1.2.0",
      "model_name": "LayoutModel",
      "state": {}
     },
     "abaaff058449489983a0cbfdb24b2e78": {
      "model_module": "@jupyter-widgets/base",
      "model_module_version": "1.2.0",
      "model_name": "LayoutModel",
      "state": {}
     },
     "ac6c0585abd34d19a6626b28b3b716e4": {
      "model_module": "@jupyter-widgets/base",
      "model_module_version": "1.2.0",
      "model_name": "LayoutModel",
      "state": {}
     },
     "ac90566364974135bb730497f4d9ae39": {
      "model_module": "@jupyter-widgets/controls",
      "model_module_version": "1.5.0",
      "model_name": "DescriptionStyleModel",
      "state": {
       "description_width": ""
      }
     },
     "ace8e4185ae0476c917b0175e7652618": {
      "model_module": "@jupyter-widgets/base",
      "model_module_version": "1.2.0",
      "model_name": "LayoutModel",
      "state": {}
     },
     "ad0547d61213422696a99bad1481b545": {
      "model_module": "@jupyter-widgets/base",
      "model_module_version": "1.2.0",
      "model_name": "LayoutModel",
      "state": {}
     },
     "ad4f84a5bea549098ae288dd8cba834c": {
      "model_module": "@jupyter-widgets/base",
      "model_module_version": "1.2.0",
      "model_name": "LayoutModel",
      "state": {}
     },
     "ad5aa130035648b188f0e3dbe2f5dc1f": {
      "model_module": "@jupyter-widgets/controls",
      "model_module_version": "1.5.0",
      "model_name": "FloatProgressModel",
      "state": {
       "bar_style": "danger",
       "description": "  0%",
       "layout": "IPY_MODEL_ccffee4aea284392bd2905e6c2b59deb",
       "max": 58113,
       "style": "IPY_MODEL_aee531749ccf4e7f9dd15ea7529d8642"
      }
     },
     "aeb6a336d57842908b40d438aa1cdfe9": {
      "model_module": "@jupyter-widgets/controls",
      "model_module_version": "1.5.0",
      "model_name": "HTMLModel",
      "state": {
       "layout": "IPY_MODEL_8250b62caae1411e879158428596f6d5",
       "style": "IPY_MODEL_c0d6ed3dbeb04174b548d16db5c5dfc6",
       "value": " 701/? [06:56&lt;00:00,  1.70it/s, loss=tensor(6.1275, device=&#x27;cuda:0&#x27;)]"
      }
     },
     "aecf895c40324c789c456c6332fa2125": {
      "model_module": "@jupyter-widgets/controls",
      "model_module_version": "1.5.0",
      "model_name": "HBoxModel",
      "state": {
       "children": [
        "IPY_MODEL_951632d73017488dab08aef791dbc45c",
        "IPY_MODEL_a9b475c6134349ccaa62750a2b5a5f84"
       ],
       "layout": "IPY_MODEL_bcb12701c4644d54aad8584682757c99"
      }
     },
     "aee531749ccf4e7f9dd15ea7529d8642": {
      "model_module": "@jupyter-widgets/controls",
      "model_module_version": "1.5.0",
      "model_name": "ProgressStyleModel",
      "state": {
       "description_width": "initial"
      }
     },
     "af089d91233f4f95a961640e5615e6b0": {
      "model_module": "@jupyter-widgets/base",
      "model_module_version": "1.2.0",
      "model_name": "LayoutModel",
      "state": {}
     },
     "afd43c72a7ae4ca2be05cec3eedeaf72": {
      "model_module": "@jupyter-widgets/base",
      "model_module_version": "1.2.0",
      "model_name": "LayoutModel",
      "state": {}
     },
     "afe9f888f85d4c7099e75fae955346e7": {
      "model_module": "@jupyter-widgets/controls",
      "model_module_version": "1.5.0",
      "model_name": "FloatProgressModel",
      "state": {
       "bar_style": "danger",
       "description": "Epoch 8: ",
       "layout": "IPY_MODEL_f3e4e275be544bce8911b9e6567e9e66",
       "max": 1,
       "style": "IPY_MODEL_2340f8c4c1f749138ff86a9308079865",
       "value": 1
      }
     },
     "b0512371b7cb4bfeaab42236058494b9": {
      "model_module": "@jupyter-widgets/base",
      "model_module_version": "1.2.0",
      "model_name": "LayoutModel",
      "state": {}
     },
     "b08c06767f1e4c928f251fb67e06f1d0": {
      "model_module": "@jupyter-widgets/controls",
      "model_module_version": "1.5.0",
      "model_name": "FloatProgressModel",
      "state": {
       "bar_style": "danger",
       "description": "Epoch 8: ",
       "layout": "IPY_MODEL_ea2a0fdacf7a4aae843cdf0ffe9eda81",
       "max": 1,
       "style": "IPY_MODEL_3667e3b53a174698ab33c24071a86833",
       "value": 1
      }
     },
     "b20ee325e56949f9b6dce473da4fd0a9": {
      "model_module": "@jupyter-widgets/controls",
      "model_module_version": "1.5.0",
      "model_name": "ProgressStyleModel",
      "state": {
       "description_width": "initial"
      }
     },
     "b23b56add7174888a47cde48dc3f83f0": {
      "model_module": "@jupyter-widgets/controls",
      "model_module_version": "1.5.0",
      "model_name": "FloatProgressModel",
      "state": {
       "bar_style": "danger",
       "description": "Epoch 17: ",
       "layout": "IPY_MODEL_e65faf58cf9a48d0ba4c2cfeab0ec93f",
       "max": 1,
       "style": "IPY_MODEL_6c357188edc644a3977e2ecf23fc2f4d",
       "value": 1
      }
     },
     "b2abc71faf3f4a8693fef4244bf6b913": {
      "model_module": "@jupyter-widgets/base",
      "model_module_version": "1.2.0",
      "model_name": "LayoutModel",
      "state": {}
     },
     "b318af62412c4f55b435ae218a7cbfdd": {
      "model_module": "@jupyter-widgets/controls",
      "model_module_version": "1.5.0",
      "model_name": "ProgressStyleModel",
      "state": {
       "description_width": "initial"
      }
     },
     "b3acbd48d30d40469b0736a487eb9fc7": {
      "model_module": "@jupyter-widgets/base",
      "model_module_version": "1.2.0",
      "model_name": "LayoutModel",
      "state": {}
     },
     "b3c7645be85e4ba9a99b3d185814c32c": {
      "model_module": "@jupyter-widgets/base",
      "model_module_version": "1.2.0",
      "model_name": "LayoutModel",
      "state": {}
     },
     "b4d59fdadb394fe9927a4e3664d720cb": {
      "model_module": "@jupyter-widgets/controls",
      "model_module_version": "1.5.0",
      "model_name": "ProgressStyleModel",
      "state": {
       "description_width": "initial"
      }
     },
     "b52bb7a9cfb34b79896ff23d5a866336": {
      "model_module": "@jupyter-widgets/controls",
      "model_module_version": "1.5.0",
      "model_name": "DescriptionStyleModel",
      "state": {
       "description_width": ""
      }
     },
     "b66292f5bf53424b8bf4569d04f60173": {
      "model_module": "@jupyter-widgets/base",
      "model_module_version": "1.2.0",
      "model_name": "LayoutModel",
      "state": {}
     },
     "b6f190b2d81e49f7bbea28804eee427b": {
      "model_module": "@jupyter-widgets/controls",
      "model_module_version": "1.5.0",
      "model_name": "HBoxModel",
      "state": {
       "children": [
        "IPY_MODEL_9bacfc1b398a48c3a439521dff7f17db",
        "IPY_MODEL_1e6d71c9b1794639ba40a69563bed5f8"
       ],
       "layout": "IPY_MODEL_a176e22de7764ebd9c69876036d76ff7"
      }
     },
     "b745329516824692926dc17a301f9399": {
      "model_module": "@jupyter-widgets/controls",
      "model_module_version": "1.5.0",
      "model_name": "FloatProgressModel",
      "state": {
       "bar_style": "danger",
       "description": "Epoch 0: ",
       "layout": "IPY_MODEL_ace8e4185ae0476c917b0175e7652618",
       "max": 1,
       "style": "IPY_MODEL_86ebf71ea7354626bb8b6c35743a128d",
       "value": 1
      }
     },
     "b7d9d2ce9e3a481abd4641f6de1f22d7": {
      "model_module": "@jupyter-widgets/controls",
      "model_module_version": "1.5.0",
      "model_name": "DescriptionStyleModel",
      "state": {
       "description_width": ""
      }
     },
     "b7df115c307c4a76be8a5acd541cc775": {
      "model_module": "@jupyter-widgets/controls",
      "model_module_version": "1.5.0",
      "model_name": "FloatProgressModel",
      "state": {
       "bar_style": "danger",
       "description": "Epoch 6: ",
       "layout": "IPY_MODEL_1b59589d24a54656ae5ae1417e1e350a",
       "max": 1,
       "style": "IPY_MODEL_4f828a11d71a4d9da275d0577cd0c018",
       "value": 1
      }
     },
     "b88a606a07c344d2ba6e485f9bff4e81": {
      "model_module": "@jupyter-widgets/controls",
      "model_module_version": "1.5.0",
      "model_name": "HBoxModel",
      "state": {
       "children": [
        "IPY_MODEL_f64e2f9b9531420bb8151faf52a10f82",
        "IPY_MODEL_3d7df4c0a04f41baa46f2c638864657b"
       ],
       "layout": "IPY_MODEL_7292fd76289c41c483b57d8ec4f2097c"
      }
     },
     "b928655dadef4422afab282f8c2c44a7": {
      "model_module": "@jupyter-widgets/base",
      "model_module_version": "1.2.0",
      "model_name": "LayoutModel",
      "state": {}
     },
     "b9f318fc3255409b845cbb0746bbc005": {
      "model_module": "@jupyter-widgets/base",
      "model_module_version": "1.2.0",
      "model_name": "LayoutModel",
      "state": {}
     },
     "babb7acf39884a3d90e6dff733671519": {
      "model_module": "@jupyter-widgets/base",
      "model_module_version": "1.2.0",
      "model_name": "LayoutModel",
      "state": {}
     },
     "bb580adf364b44ab9741bc245f89d8b9": {
      "model_module": "@jupyter-widgets/base",
      "model_module_version": "1.2.0",
      "model_name": "LayoutModel",
      "state": {}
     },
     "bbaaf5274333458199a7506d0d5d1edb": {
      "model_module": "@jupyter-widgets/controls",
      "model_module_version": "1.5.0",
      "model_name": "FloatProgressModel",
      "state": {
       "bar_style": "success",
       "description": "100%",
       "layout": "IPY_MODEL_80e9b09a306f4bb7907deeb26e99b7bd",
       "max": 58113,
       "style": "IPY_MODEL_b4d59fdadb394fe9927a4e3664d720cb",
       "value": 58113
      }
     },
     "bc104d2eb294462ca56111f633357006": {
      "model_module": "@jupyter-widgets/base",
      "model_module_version": "1.2.0",
      "model_name": "LayoutModel",
      "state": {}
     },
     "bc430d29024d47ee983728069812b5ef": {
      "model_module": "@jupyter-widgets/controls",
      "model_module_version": "1.5.0",
      "model_name": "HTMLModel",
      "state": {
       "layout": "IPY_MODEL_3f8eefbdfbdd4bbd9d8b475eaebf0b98",
       "style": "IPY_MODEL_7df3ca33ea18466cb7fd9c2462ae14a9",
       "value": " 701/? [07:12&lt;00:00,  1.65it/s, loss=tensor(5.6596, device=&#x27;cuda:0&#x27;)]"
      }
     },
     "bc57914d20f64779a7b8edc36ff34122": {
      "model_module": "@jupyter-widgets/base",
      "model_module_version": "1.2.0",
      "model_name": "LayoutModel",
      "state": {}
     },
     "bc9165979f1b4dd998ac268d2f790395": {
      "model_module": "@jupyter-widgets/controls",
      "model_module_version": "1.5.0",
      "model_name": "FloatProgressModel",
      "state": {
       "bar_style": "danger",
       "description": "Epoch 0: ",
       "layout": "IPY_MODEL_233fc44edff548448bb37547da61e840",
       "max": 1,
       "style": "IPY_MODEL_9d1aaeffdb9a452f81196e57f987cb9c",
       "value": 1
      }
     },
     "bcb12701c4644d54aad8584682757c99": {
      "model_module": "@jupyter-widgets/base",
      "model_module_version": "1.2.0",
      "model_name": "LayoutModel",
      "state": {}
     },
     "bd35d9835e6846ebab0085a10cf4de3b": {
      "model_module": "@jupyter-widgets/controls",
      "model_module_version": "1.5.0",
      "model_name": "HBoxModel",
      "state": {
       "children": [
        "IPY_MODEL_510190f1a448430fb9956fdb07e1790f",
        "IPY_MODEL_7a9e9b835ceb403a89c2a4f1d1cf41be"
       ],
       "layout": "IPY_MODEL_8b70a72a4fb14937b9158f689fae87d7"
      }
     },
     "be11e53d4caf4e5a8a9853f59fd0c763": {
      "model_module": "@jupyter-widgets/controls",
      "model_module_version": "1.5.0",
      "model_name": "DescriptionStyleModel",
      "state": {
       "description_width": ""
      }
     },
     "be4a78c9892041f2b3e3baa7fb2ce3fa": {
      "model_module": "@jupyter-widgets/controls",
      "model_module_version": "1.5.0",
      "model_name": "HTMLModel",
      "state": {
       "layout": "IPY_MODEL_fac9f3c6b04a400999d5febe6b835aaa",
       "style": "IPY_MODEL_5260d865600f48e9bef86f591ca5bb0b",
       "value": " 701/? [07:01&lt;00:00,  1.69it/s, loss=tensor(5.4474, device=&#x27;cuda:0&#x27;)]"
      }
     },
     "bf9309d13e2943d1a234ed6a6ba83d3f": {
      "model_module": "@jupyter-widgets/controls",
      "model_module_version": "1.5.0",
      "model_name": "ProgressStyleModel",
      "state": {
       "description_width": "initial"
      }
     },
     "bfadc90c9e8642a19bb7ad85e09540d8": {
      "model_module": "@jupyter-widgets/base",
      "model_module_version": "1.2.0",
      "model_name": "LayoutModel",
      "state": {}
     },
     "bfc7ad6755484ece9ed0b8f33c2883d3": {
      "model_module": "@jupyter-widgets/controls",
      "model_module_version": "1.5.0",
      "model_name": "DescriptionStyleModel",
      "state": {
       "description_width": ""
      }
     },
     "c01b30f894bf428d8fc70d7e278e2403": {
      "model_module": "@jupyter-widgets/controls",
      "model_module_version": "1.5.0",
      "model_name": "FloatProgressModel",
      "state": {
       "bar_style": "danger",
       "description": "Epoch 6: ",
       "layout": "IPY_MODEL_edaad4bcc2904998a1475ff3c1118fc1",
       "max": 1,
       "style": "IPY_MODEL_509d963ad8d849d6820e1417ca17c44c",
       "value": 1
      }
     },
     "c0d6ed3dbeb04174b548d16db5c5dfc6": {
      "model_module": "@jupyter-widgets/controls",
      "model_module_version": "1.5.0",
      "model_name": "DescriptionStyleModel",
      "state": {
       "description_width": ""
      }
     },
     "c1d0d6592e034ed9a72d6fda51c2a5ac": {
      "model_module": "@jupyter-widgets/controls",
      "model_module_version": "1.5.0",
      "model_name": "DescriptionStyleModel",
      "state": {
       "description_width": ""
      }
     },
     "c2899042c1ac4a58883ee70b54bdb25f": {
      "model_module": "@jupyter-widgets/base",
      "model_module_version": "1.2.0",
      "model_name": "LayoutModel",
      "state": {}
     },
     "c3826a8be876467db7319bb6951fedf2": {
      "model_module": "@jupyter-widgets/controls",
      "model_module_version": "1.5.0",
      "model_name": "DescriptionStyleModel",
      "state": {
       "description_width": ""
      }
     },
     "c3e2c99d315e4970bde5608f9c26cf82": {
      "model_module": "@jupyter-widgets/base",
      "model_module_version": "1.2.0",
      "model_name": "LayoutModel",
      "state": {}
     },
     "c47ef3c6588a45a6ad7dcea337ac9d58": {
      "model_module": "@jupyter-widgets/base",
      "model_module_version": "1.2.0",
      "model_name": "LayoutModel",
      "state": {}
     },
     "c49742852a3741c0ae8342d182099e3c": {
      "model_module": "@jupyter-widgets/base",
      "model_module_version": "1.2.0",
      "model_name": "LayoutModel",
      "state": {}
     },
     "c4f09a3aeb28448893fa56c6442d3b1f": {
      "model_module": "@jupyter-widgets/controls",
      "model_module_version": "1.5.0",
      "model_name": "ProgressStyleModel",
      "state": {
       "description_width": "initial"
      }
     },
     "c5708cf2929f44b4abc053a7831e1bdc": {
      "model_module": "@jupyter-widgets/base",
      "model_module_version": "1.2.0",
      "model_name": "LayoutModel",
      "state": {}
     },
     "c592eaa30dbc4e2fbce6661437c3a21d": {
      "model_module": "@jupyter-widgets/base",
      "model_module_version": "1.2.0",
      "model_name": "LayoutModel",
      "state": {}
     },
     "c5ef63df41be493ba7b5d03d73255059": {
      "model_module": "@jupyter-widgets/base",
      "model_module_version": "1.2.0",
      "model_name": "LayoutModel",
      "state": {}
     },
     "c620cf5ea832411d86599fad86cbefce": {
      "model_module": "@jupyter-widgets/controls",
      "model_module_version": "1.5.0",
      "model_name": "HBoxModel",
      "state": {
       "children": [
        "IPY_MODEL_e91e1e965150453bb9a13ed10a6cf77c",
        "IPY_MODEL_50a3d64979c34465a8e008c96e9802a7"
       ],
       "layout": "IPY_MODEL_7f5ad105bfea459a9bcb5bdcd8e6e6fd"
      }
     },
     "c637fce363c243b1bb28b0e5c16af996": {
      "model_module": "@jupyter-widgets/controls",
      "model_module_version": "1.5.0",
      "model_name": "HTMLModel",
      "state": {
       "layout": "IPY_MODEL_15eed9deb98a4e4b9198975f63d61311",
       "style": "IPY_MODEL_2e315a7fa1f849cca8fb1cc75488d4bc",
       "value": " 701/? [06:36&lt;00:00,  1.73it/s, loss=tensor(5.6094, device=&#x27;cuda:0&#x27;)]"
      }
     },
     "c63af52cac844f08b37a0e579e6a156f": {
      "model_module": "@jupyter-widgets/controls",
      "model_module_version": "1.5.0",
      "model_name": "DescriptionStyleModel",
      "state": {
       "description_width": ""
      }
     },
     "c702269e1b6b4223b5891e51e2354a56": {
      "model_module": "@jupyter-widgets/base",
      "model_module_version": "1.2.0",
      "model_name": "LayoutModel",
      "state": {}
     },
     "c9045b8174b047958c4a722e348f6123": {
      "model_module": "@jupyter-widgets/controls",
      "model_module_version": "1.5.0",
      "model_name": "HTMLModel",
      "state": {
       "layout": "IPY_MODEL_3d4032c60fd14d7e93c375dcb7cff60d",
       "style": "IPY_MODEL_4300da52fb9a4830a2693602a35becf5",
       "value": " 701/? [06:57&lt;00:00,  1.70it/s, loss=tensor(5.6981, device=&#x27;cuda:0&#x27;)]"
      }
     },
     "c93922c3de8b40dfbad7db3c17397b9e": {
      "model_module": "@jupyter-widgets/controls",
      "model_module_version": "1.5.0",
      "model_name": "DescriptionStyleModel",
      "state": {
       "description_width": ""
      }
     },
     "c9608e7a11754f908fb609fd14cc31df": {
      "model_module": "@jupyter-widgets/base",
      "model_module_version": "1.2.0",
      "model_name": "LayoutModel",
      "state": {}
     },
     "c9ade6cbd12243da8b25fa8bac1d229f": {
      "model_module": "@jupyter-widgets/controls",
      "model_module_version": "1.5.0",
      "model_name": "FloatProgressModel",
      "state": {
       "bar_style": "danger",
       "description": "Epoch 4: ",
       "layout": "IPY_MODEL_36f7b8c5d2d64fc08514e42f57b4df56",
       "max": 1,
       "style": "IPY_MODEL_d9c13496e99a477185a5b2a1f5e76291",
       "value": 1
      }
     },
     "ca06b3634a60405f955c937cd16cf600": {
      "model_module": "@jupyter-widgets/controls",
      "model_module_version": "1.5.0",
      "model_name": "HBoxModel",
      "state": {
       "children": [
        "IPY_MODEL_86e87d6cc67c49d2a091d0f44c148794",
        "IPY_MODEL_403c53575106485eb5cb5e0a5b907c1d"
       ],
       "layout": "IPY_MODEL_ac6c0585abd34d19a6626b28b3b716e4"
      }
     },
     "ca402175e2874751b470f09caf3da53f": {
      "model_module": "@jupyter-widgets/base",
      "model_module_version": "1.2.0",
      "model_name": "LayoutModel",
      "state": {}
     },
     "cbc63ce71dec43f48754d333db298b2a": {
      "model_module": "@jupyter-widgets/controls",
      "model_module_version": "1.5.0",
      "model_name": "FloatProgressModel",
      "state": {
       "bar_style": "danger",
       "description": "Epoch 16: ",
       "layout": "IPY_MODEL_4754751305ab4e3d91d01f1871ea216b",
       "max": 1,
       "style": "IPY_MODEL_10d2722637dc49acbc291dbf198f01be",
       "value": 1
      }
     },
     "cca57bbd5eb042d09c623a26b4ada83e": {
      "model_module": "@jupyter-widgets/base",
      "model_module_version": "1.2.0",
      "model_name": "LayoutModel",
      "state": {}
     },
     "ccffee4aea284392bd2905e6c2b59deb": {
      "model_module": "@jupyter-widgets/base",
      "model_module_version": "1.2.0",
      "model_name": "LayoutModel",
      "state": {}
     },
     "ce69d91a53834c94ae759f58a65db5eb": {
      "model_module": "@jupyter-widgets/controls",
      "model_module_version": "1.5.0",
      "model_name": "FloatProgressModel",
      "state": {
       "bar_style": "danger",
       "description": "Epoch 8: ",
       "layout": "IPY_MODEL_53f7da7b2378424d9ee87098999f8d4c",
       "max": 1,
       "style": "IPY_MODEL_71933fbfd6ff42528651df037d94f082",
       "value": 1
      }
     },
     "cec5ac4b12274fb4ace02e9cb1760881": {
      "model_module": "@jupyter-widgets/base",
      "model_module_version": "1.2.0",
      "model_name": "LayoutModel",
      "state": {}
     },
     "cec676ecccf94f76a660fa1627f721bd": {
      "model_module": "@jupyter-widgets/base",
      "model_module_version": "1.2.0",
      "model_name": "LayoutModel",
      "state": {}
     },
     "cf251a3de9b54b6abac23f643411cb8b": {
      "model_module": "@jupyter-widgets/controls",
      "model_module_version": "1.5.0",
      "model_name": "HBoxModel",
      "state": {
       "children": [
        "IPY_MODEL_6595fe9522ed44c39dcf4e8992876563",
        "IPY_MODEL_79bbcf5eae394876bbb49f769876af12"
       ],
       "layout": "IPY_MODEL_8aa85c6f0c864975adde129aff5865c6"
      }
     },
     "cf9d061f220d48a6990fd48c2ccc65cc": {
      "model_module": "@jupyter-widgets/base",
      "model_module_version": "1.2.0",
      "model_name": "LayoutModel",
      "state": {}
     },
     "cfc17af81723438f9c5593a56f3c29d9": {
      "model_module": "@jupyter-widgets/base",
      "model_module_version": "1.2.0",
      "model_name": "LayoutModel",
      "state": {}
     },
     "d006c4b024634fb8a72199e8bdbd2780": {
      "model_module": "@jupyter-widgets/controls",
      "model_module_version": "1.5.0",
      "model_name": "HBoxModel",
      "state": {
       "children": [
        "IPY_MODEL_a613ac2a08304242bf157b6e4faa26ba",
        "IPY_MODEL_bc430d29024d47ee983728069812b5ef"
       ],
       "layout": "IPY_MODEL_435393c6c26041958bd809188971e0c8"
      }
     },
     "d0557d97b94f4ff6be3d0ada2765a9a1": {
      "model_module": "@jupyter-widgets/controls",
      "model_module_version": "1.5.0",
      "model_name": "HTMLModel",
      "state": {
       "layout": "IPY_MODEL_11f562f684f24ef19af3d370e637de7f",
       "style": "IPY_MODEL_ac90566364974135bb730497f4d9ae39",
       "value": " 701/? [2:21:56&lt;00:00, 12.15s/it, loss=tensor(7.2715, device=&#x27;cuda:0&#x27;)]"
      }
     },
     "d0a0fe31fd514ab8bd06a705905aedf8": {
      "model_module": "@jupyter-widgets/base",
      "model_module_version": "1.2.0",
      "model_name": "LayoutModel",
      "state": {}
     },
     "d13febd81f1e4b49bb8d173926713282": {
      "model_module": "@jupyter-widgets/base",
      "model_module_version": "1.2.0",
      "model_name": "LayoutModel",
      "state": {}
     },
     "d184aa6204074f7e9dc212b3e26c8443": {
      "model_module": "@jupyter-widgets/controls",
      "model_module_version": "1.5.0",
      "model_name": "ProgressStyleModel",
      "state": {
       "description_width": "initial"
      }
     },
     "d19e125a510948ab94febec5918ecac9": {
      "model_module": "@jupyter-widgets/base",
      "model_module_version": "1.2.0",
      "model_name": "LayoutModel",
      "state": {}
     },
     "d19e49fa6174457c85cb42e3433000fc": {
      "model_module": "@jupyter-widgets/controls",
      "model_module_version": "1.5.0",
      "model_name": "ProgressStyleModel",
      "state": {
       "description_width": "initial"
      }
     },
     "d1a4d061ce644493ac5b4823577758a1": {
      "model_module": "@jupyter-widgets/controls",
      "model_module_version": "1.5.0",
      "model_name": "ProgressStyleModel",
      "state": {
       "description_width": "initial"
      }
     },
     "d1e82a73d91d44ad9b24faba1e4ddb69": {
      "model_module": "@jupyter-widgets/controls",
      "model_module_version": "1.5.0",
      "model_name": "DescriptionStyleModel",
      "state": {
       "description_width": ""
      }
     },
     "d205c24812524e92b1519079c5e1077c": {
      "model_module": "@jupyter-widgets/base",
      "model_module_version": "1.2.0",
      "model_name": "LayoutModel",
      "state": {}
     },
     "d208e9757d39497ebd0ce57769d41294": {
      "model_module": "@jupyter-widgets/controls",
      "model_module_version": "1.5.0",
      "model_name": "FloatProgressModel",
      "state": {
       "bar_style": "danger",
       "description": "Epoch 0: ",
       "layout": "IPY_MODEL_a1fe0e93b6074755b1042ee0ca66839e",
       "max": 1,
       "style": "IPY_MODEL_d7335b6e4d644c42adc8e6a0c9953fb6",
       "value": 1
      }
     },
     "d351d222d573429685c7d52e4572f07d": {
      "model_module": "@jupyter-widgets/base",
      "model_module_version": "1.2.0",
      "model_name": "LayoutModel",
      "state": {}
     },
     "d3f782959d7f443fa18b48f89b4fd8ac": {
      "model_module": "@jupyter-widgets/controls",
      "model_module_version": "1.5.0",
      "model_name": "HTMLModel",
      "state": {
       "layout": "IPY_MODEL_8a1f125e7eee401b950c61b53a7db9af",
       "style": "IPY_MODEL_e32a2394b67c4b17a66b575777d5a8e8",
       "value": " 701/? [07:42&lt;00:00,  1.53it/s, loss=tensor(5.6433, device=&#x27;cuda:0&#x27;)]"
      }
     },
     "d43cfc4f6bfb4c13a4f790eff285109f": {
      "model_module": "@jupyter-widgets/controls",
      "model_module_version": "1.5.0",
      "model_name": "FloatProgressModel",
      "state": {
       "bar_style": "danger",
       "description": "Epoch 0: ",
       "layout": "IPY_MODEL_179a2b0415bf4fababb30caf333afbef",
       "max": 1,
       "style": "IPY_MODEL_7f7c8fd1a1a34cf2a1b901c8d30e0731",
       "value": 1
      }
     },
     "d465bac5970c46f1849cc538fe2e6250": {
      "model_module": "@jupyter-widgets/controls",
      "model_module_version": "1.5.0",
      "model_name": "HTMLModel",
      "state": {
       "layout": "IPY_MODEL_e76496bbe0cd45e18d13981f9b112f32",
       "style": "IPY_MODEL_1943f653c44c450ab8a61d3a68a32c47",
       "value": " 701/? [06:20&lt;00:00,  1.69it/s, loss=tensor(95.8849, device=&#x27;cuda:0&#x27;)]"
      }
     },
     "d4c47841e3764d0790d584aefef6ce96": {
      "model_module": "@jupyter-widgets/controls",
      "model_module_version": "1.5.0",
      "model_name": "ProgressStyleModel",
      "state": {
       "description_width": "initial"
      }
     },
     "d4d8038b8380490cb42a37ba51fbb8de": {
      "model_module": "@jupyter-widgets/controls",
      "model_module_version": "1.5.0",
      "model_name": "DescriptionStyleModel",
      "state": {
       "description_width": ""
      }
     },
     "d52cba79cb234ba38e0ead927e13d6a3": {
      "model_module": "@jupyter-widgets/base",
      "model_module_version": "1.2.0",
      "model_name": "LayoutModel",
      "state": {}
     },
     "d548d2929c734f9b838a84e58e6a2cc8": {
      "model_module": "@jupyter-widgets/controls",
      "model_module_version": "1.5.0",
      "model_name": "ProgressStyleModel",
      "state": {
       "description_width": "initial"
      }
     },
     "d55b078066b947239dc4674953ad4153": {
      "model_module": "@jupyter-widgets/base",
      "model_module_version": "1.2.0",
      "model_name": "LayoutModel",
      "state": {}
     },
     "d5c8ee5cb7794ae49fda26efeb5c5868": {
      "model_module": "@jupyter-widgets/base",
      "model_module_version": "1.2.0",
      "model_name": "LayoutModel",
      "state": {}
     },
     "d5e2468a734641839e70b7f27f7b30a2": {
      "model_module": "@jupyter-widgets/controls",
      "model_module_version": "1.5.0",
      "model_name": "HBoxModel",
      "state": {
       "children": [
        "IPY_MODEL_801ee6a8265e407a9968caaeb667cf28",
        "IPY_MODEL_ff14c73a40e84bdba8f47445ae8af008"
       ],
       "layout": "IPY_MODEL_77065b94aaca4ad3b631552382231ca9"
      }
     },
     "d6e3facadb93486094582e9936204f47": {
      "model_module": "@jupyter-widgets/controls",
      "model_module_version": "1.5.0",
      "model_name": "HTMLModel",
      "state": {
       "layout": "IPY_MODEL_3cc7470491814e099544d37ec8eed31f",
       "style": "IPY_MODEL_16b8a414cad641adae605c7df0af45f7",
       "value": " 701/? [06:58&lt;00:00,  1.68it/s, loss=tensor(5.8715, device=&#x27;cuda:0&#x27;)]"
      }
     },
     "d6fba01c2e534ec2a62bbc9fc3f23b17": {
      "model_module": "@jupyter-widgets/base",
      "model_module_version": "1.2.0",
      "model_name": "LayoutModel",
      "state": {}
     },
     "d7335b6e4d644c42adc8e6a0c9953fb6": {
      "model_module": "@jupyter-widgets/controls",
      "model_module_version": "1.5.0",
      "model_name": "ProgressStyleModel",
      "state": {
       "description_width": "initial"
      }
     },
     "d7d7cd3556de4222b498bc9a518c8a0b": {
      "model_module": "@jupyter-widgets/base",
      "model_module_version": "1.2.0",
      "model_name": "LayoutModel",
      "state": {}
     },
     "d8cc2de394cc4496a9f5d39c6cb92f26": {
      "model_module": "@jupyter-widgets/controls",
      "model_module_version": "1.5.0",
      "model_name": "HBoxModel",
      "state": {
       "children": [
        "IPY_MODEL_2f66960adcce458593f613058982626c",
        "IPY_MODEL_a574c4bf1ffe428e9a604658b402e19c"
       ],
       "layout": "IPY_MODEL_7f849bf9bb1e4d7b8fe677033296148e"
      }
     },
     "d8d9f351b98a4b45b4a08159bade0f0d": {
      "model_module": "@jupyter-widgets/controls",
      "model_module_version": "1.5.0",
      "model_name": "HBoxModel",
      "state": {
       "children": [
        "IPY_MODEL_efae8745e3b3431db468bf218573b10b",
        "IPY_MODEL_6741b360d82c48e1b604708fd2bd8853"
       ],
       "layout": "IPY_MODEL_5894b25eb5184b85981148b59e2d230e"
      }
     },
     "d90d6eade9054605bc6ee7882a013c73": {
      "model_module": "@jupyter-widgets/base",
      "model_module_version": "1.2.0",
      "model_name": "LayoutModel",
      "state": {}
     },
     "d9c13496e99a477185a5b2a1f5e76291": {
      "model_module": "@jupyter-widgets/controls",
      "model_module_version": "1.5.0",
      "model_name": "ProgressStyleModel",
      "state": {
       "description_width": "initial"
      }
     },
     "da5b1825a41240b499dceabb25258681": {
      "model_module": "@jupyter-widgets/base",
      "model_module_version": "1.2.0",
      "model_name": "LayoutModel",
      "state": {}
     },
     "db938f8a839f4543aabad3915966e63e": {
      "model_module": "@jupyter-widgets/base",
      "model_module_version": "1.2.0",
      "model_name": "LayoutModel",
      "state": {}
     },
     "dbe73de8616f470ead639d71116102b6": {
      "model_module": "@jupyter-widgets/base",
      "model_module_version": "1.2.0",
      "model_name": "LayoutModel",
      "state": {}
     },
     "dd0893fad3994293a7bdd887331d24bf": {
      "model_module": "@jupyter-widgets/base",
      "model_module_version": "1.2.0",
      "model_name": "LayoutModel",
      "state": {}
     },
     "dd48333980f44353a5fff7a644fd8143": {
      "model_module": "@jupyter-widgets/controls",
      "model_module_version": "1.5.0",
      "model_name": "DescriptionStyleModel",
      "state": {
       "description_width": ""
      }
     },
     "ddbde77b34e54a23b4fceb21b9d4a1e1": {
      "model_module": "@jupyter-widgets/base",
      "model_module_version": "1.2.0",
      "model_name": "LayoutModel",
      "state": {}
     },
     "de14c7dce6eb47948c53c230843c6e56": {
      "model_module": "@jupyter-widgets/base",
      "model_module_version": "1.2.0",
      "model_name": "LayoutModel",
      "state": {}
     },
     "de7d74f834fe4f8d9d856f96abd0cd33": {
      "model_module": "@jupyter-widgets/controls",
      "model_module_version": "1.5.0",
      "model_name": "DescriptionStyleModel",
      "state": {
       "description_width": ""
      }
     },
     "de948b1828a744b99e995aee843f924d": {
      "model_module": "@jupyter-widgets/base",
      "model_module_version": "1.2.0",
      "model_name": "LayoutModel",
      "state": {}
     },
     "ded93f6da40e415b9968a4cb062133cf": {
      "model_module": "@jupyter-widgets/base",
      "model_module_version": "1.2.0",
      "model_name": "LayoutModel",
      "state": {}
     },
     "df13ae70d74245ecac908bbf2538ebb5": {
      "model_module": "@jupyter-widgets/base",
      "model_module_version": "1.2.0",
      "model_name": "LayoutModel",
      "state": {}
     },
     "df29a46883694853a14a2684a4aee26b": {
      "model_module": "@jupyter-widgets/controls",
      "model_module_version": "1.5.0",
      "model_name": "HTMLModel",
      "state": {
       "layout": "IPY_MODEL_2b2cb51b794642a184875157de5bb47f",
       "style": "IPY_MODEL_ed5f16b4790640009119489a7eb3f430",
       "value": " 701/? [3:17:11&lt;00:00, 16.88s/it, loss=tensor(7.0558, device=&#x27;cuda:0&#x27;)]"
      }
     },
     "df5c3c30a7e8496589eafc1d52670040": {
      "model_module": "@jupyter-widgets/controls",
      "model_module_version": "1.5.0",
      "model_name": "ProgressStyleModel",
      "state": {
       "description_width": "initial"
      }
     },
     "dfdefd4a08be467fa99e03825b4f4e3d": {
      "model_module": "@jupyter-widgets/controls",
      "model_module_version": "1.5.0",
      "model_name": "DescriptionStyleModel",
      "state": {
       "description_width": ""
      }
     },
     "dff771bd42474ddda5b3a79cc47f33f0": {
      "model_module": "@jupyter-widgets/controls",
      "model_module_version": "1.5.0",
      "model_name": "HBoxModel",
      "state": {
       "children": [
        "IPY_MODEL_390124a050f44450ac1f6e2d4fae341a",
        "IPY_MODEL_5bc747f7c2ce45ce9e08638fe0be07e7"
       ],
       "layout": "IPY_MODEL_ffa8c4a710de47cea1b2413d88c5c881"
      }
     },
     "e07a7bcbf9874613a6292c35b4dec037": {
      "model_module": "@jupyter-widgets/controls",
      "model_module_version": "1.5.0",
      "model_name": "HBoxModel",
      "state": {
       "children": [
        "IPY_MODEL_a7418838c8084001bfd0d77392053c25",
        "IPY_MODEL_c9045b8174b047958c4a722e348f6123"
       ],
       "layout": "IPY_MODEL_9ea9490f8e3849cf8775d750497b6f10"
      }
     },
     "e0952ec685554ce28a7a456f634e04c2": {
      "model_module": "@jupyter-widgets/controls",
      "model_module_version": "1.5.0",
      "model_name": "HTMLModel",
      "state": {
       "layout": "IPY_MODEL_43d3fd5606cc4cd189c2469009b08cff",
       "style": "IPY_MODEL_2c0dab3f493f42a89d2780ad75c48bea",
       "value": " 701/? [07:12&lt;00:00,  1.64it/s, loss=tensor(5.3759, device=&#x27;cuda:0&#x27;)]"
      }
     },
     "e109d4043d094606a7a90e70f322dee9": {
      "model_module": "@jupyter-widgets/base",
      "model_module_version": "1.2.0",
      "model_name": "LayoutModel",
      "state": {}
     },
     "e1284cbb1b7640fbbdade8d80b5e3b4e": {
      "model_module": "@jupyter-widgets/controls",
      "model_module_version": "1.5.0",
      "model_name": "HBoxModel",
      "state": {
       "children": [
        "IPY_MODEL_38b983b36b6e48eea40110d4b14b4bf9",
        "IPY_MODEL_d465bac5970c46f1849cc538fe2e6250"
       ],
       "layout": "IPY_MODEL_c5ef63df41be493ba7b5d03d73255059"
      }
     },
     "e14dbf6a9254419b98f592dc323bf373": {
      "model_module": "@jupyter-widgets/controls",
      "model_module_version": "1.5.0",
      "model_name": "ProgressStyleModel",
      "state": {
       "description_width": "initial"
      }
     },
     "e16bf20628de4f4a832f36007bf0f092": {
      "model_module": "@jupyter-widgets/controls",
      "model_module_version": "1.5.0",
      "model_name": "FloatProgressModel",
      "state": {
       "bar_style": "danger",
       "description": "Epoch 16: ",
       "layout": "IPY_MODEL_5b7df0f5893a4770a4b868849dd24730",
       "max": 1,
       "style": "IPY_MODEL_d548d2929c734f9b838a84e58e6a2cc8",
       "value": 1
      }
     },
     "e27866227e064635878e7f1f80d2cb6c": {
      "model_module": "@jupyter-widgets/controls",
      "model_module_version": "1.5.0",
      "model_name": "ProgressStyleModel",
      "state": {
       "description_width": "initial"
      }
     },
     "e2a5f88ecb564fdab6a3a99a2e9eda4a": {
      "model_module": "@jupyter-widgets/controls",
      "model_module_version": "1.5.0",
      "model_name": "FloatProgressModel",
      "state": {
       "bar_style": "danger",
       "description": "Epoch 1: ",
       "layout": "IPY_MODEL_b928655dadef4422afab282f8c2c44a7",
       "max": 1,
       "style": "IPY_MODEL_61a0e264c4a5424db385829e31fb7aa1",
       "value": 1
      }
     },
     "e32a2394b67c4b17a66b575777d5a8e8": {
      "model_module": "@jupyter-widgets/controls",
      "model_module_version": "1.5.0",
      "model_name": "DescriptionStyleModel",
      "state": {
       "description_width": ""
      }
     },
     "e3661d04586849caa02f608de67e34ff": {
      "model_module": "@jupyter-widgets/controls",
      "model_module_version": "1.5.0",
      "model_name": "FloatProgressModel",
      "state": {
       "bar_style": "danger",
       "description": "Epoch 18: ",
       "layout": "IPY_MODEL_c47ef3c6588a45a6ad7dcea337ac9d58",
       "max": 1,
       "style": "IPY_MODEL_10479e15ec894662a384b4a283482cfe",
       "value": 1
      }
     },
     "e36dbfa1f07c41a193d6a32fd9d7b82c": {
      "model_module": "@jupyter-widgets/controls",
      "model_module_version": "1.5.0",
      "model_name": "FloatProgressModel",
      "state": {
       "bar_style": "danger",
       "description": "Epoch 0: ",
       "layout": "IPY_MODEL_7707c2ec226440518803c359b8facd38",
       "max": 1,
       "style": "IPY_MODEL_bf9309d13e2943d1a234ed6a6ba83d3f",
       "value": 1
      }
     },
     "e44c5e2ba9e64d25865dff509a8145e1": {
      "model_module": "@jupyter-widgets/controls",
      "model_module_version": "1.5.0",
      "model_name": "DescriptionStyleModel",
      "state": {
       "description_width": ""
      }
     },
     "e481ec03b2f54c36b7c52df725d6d391": {
      "model_module": "@jupyter-widgets/controls",
      "model_module_version": "1.5.0",
      "model_name": "ProgressStyleModel",
      "state": {
       "description_width": "initial"
      }
     },
     "e49fd151a9514585ab9588498286607a": {
      "model_module": "@jupyter-widgets/controls",
      "model_module_version": "1.5.0",
      "model_name": "DescriptionStyleModel",
      "state": {
       "description_width": ""
      }
     },
     "e4b8f41ca8494614b67106f93e3a205f": {
      "model_module": "@jupyter-widgets/base",
      "model_module_version": "1.2.0",
      "model_name": "LayoutModel",
      "state": {}
     },
     "e526695814074898bbdcc0abd3b3b521": {
      "model_module": "@jupyter-widgets/controls",
      "model_module_version": "1.5.0",
      "model_name": "HBoxModel",
      "state": {
       "children": [
        "IPY_MODEL_c9ade6cbd12243da8b25fa8bac1d229f",
        "IPY_MODEL_242828eab8cc4d58967ea021aba829ee"
       ],
       "layout": "IPY_MODEL_5eaef2752f6f4c4d8775385da09bdb15"
      }
     },
     "e635d856985d411891f957dce0ad188e": {
      "model_module": "@jupyter-widgets/base",
      "model_module_version": "1.2.0",
      "model_name": "LayoutModel",
      "state": {}
     },
     "e65faf58cf9a48d0ba4c2cfeab0ec93f": {
      "model_module": "@jupyter-widgets/base",
      "model_module_version": "1.2.0",
      "model_name": "LayoutModel",
      "state": {}
     },
     "e76496bbe0cd45e18d13981f9b112f32": {
      "model_module": "@jupyter-widgets/base",
      "model_module_version": "1.2.0",
      "model_name": "LayoutModel",
      "state": {}
     },
     "e813fd3e291f414badde71118ecbeea7": {
      "model_module": "@jupyter-widgets/controls",
      "model_module_version": "1.5.0",
      "model_name": "DescriptionStyleModel",
      "state": {
       "description_width": ""
      }
     },
     "e835b326fbd64ba487aa44de2fbcdd59": {
      "model_module": "@jupyter-widgets/controls",
      "model_module_version": "1.5.0",
      "model_name": "FloatProgressModel",
      "state": {
       "bar_style": "danger",
       "description": "Epoch 7: ",
       "layout": "IPY_MODEL_afd43c72a7ae4ca2be05cec3eedeaf72",
       "max": 1,
       "style": "IPY_MODEL_0ad8b0829fe744aab6e2ebd659fb0650",
       "value": 1
      }
     },
     "e8b4f6e9b99d45258b9bd02c0329b529": {
      "model_module": "@jupyter-widgets/base",
      "model_module_version": "1.2.0",
      "model_name": "LayoutModel",
      "state": {}
     },
     "e91e1e965150453bb9a13ed10a6cf77c": {
      "model_module": "@jupyter-widgets/controls",
      "model_module_version": "1.5.0",
      "model_name": "FloatProgressModel",
      "state": {
       "bar_style": "danger",
       "description": "Epoch 12: ",
       "layout": "IPY_MODEL_5940d047c2244d5abcb3a2c1e3cd72f3",
       "max": 1,
       "style": "IPY_MODEL_8751148b694e4484b5f8b6e2dade62b0",
       "value": 1
      }
     },
     "e99727ad1e584265b4cf175c170b3607": {
      "model_module": "@jupyter-widgets/base",
      "model_module_version": "1.2.0",
      "model_name": "LayoutModel",
      "state": {}
     },
     "e9fd28464797425ab98bf5beb95c3bcb": {
      "model_module": "@jupyter-widgets/controls",
      "model_module_version": "1.5.0",
      "model_name": "HBoxModel",
      "state": {
       "children": [
        "IPY_MODEL_b745329516824692926dc17a301f9399",
        "IPY_MODEL_f53387a5def0466aa5e8fc61d54cca69"
       ],
       "layout": "IPY_MODEL_c592eaa30dbc4e2fbce6661437c3a21d"
      }
     },
     "ea2a0fdacf7a4aae843cdf0ffe9eda81": {
      "model_module": "@jupyter-widgets/base",
      "model_module_version": "1.2.0",
      "model_name": "LayoutModel",
      "state": {}
     },
     "ea98c6792604418f9e8faa43c5fad4a5": {
      "model_module": "@jupyter-widgets/base",
      "model_module_version": "1.2.0",
      "model_name": "LayoutModel",
      "state": {}
     },
     "eab439612a9144c1b3d7bb68c4605a52": {
      "model_module": "@jupyter-widgets/base",
      "model_module_version": "1.2.0",
      "model_name": "LayoutModel",
      "state": {}
     },
     "eb67b9d59f4f4441a39ce376eef6a816": {
      "model_module": "@jupyter-widgets/base",
      "model_module_version": "1.2.0",
      "model_name": "LayoutModel",
      "state": {}
     },
     "ec6659cbcf474cb69ce98311eb9c592e": {
      "model_module": "@jupyter-widgets/controls",
      "model_module_version": "1.5.0",
      "model_name": "HBoxModel",
      "state": {
       "children": [
        "IPY_MODEL_b7df115c307c4a76be8a5acd541cc775",
        "IPY_MODEL_13e6e1d701f74804bebe2bb48da943fd"
       ],
       "layout": "IPY_MODEL_9723fa543f874800af2b9038902b4dff"
      }
     },
     "ec91694ef4bd4a5fa3b6d1462a1f8f9b": {
      "model_module": "@jupyter-widgets/controls",
      "model_module_version": "1.5.0",
      "model_name": "HTMLModel",
      "state": {
       "layout": "IPY_MODEL_e99727ad1e584265b4cf175c170b3607",
       "style": "IPY_MODEL_15ba5d9f9f5047e7830e78e13b839d8b",
       "value": " 701/? [3:55:41&lt;00:00, 20.17s/it, loss=tensor(7.4980, device=&#x27;cuda:0&#x27;)]"
      }
     },
     "ecafe04e98de4ee383a93341b0dfee79": {
      "model_module": "@jupyter-widgets/controls",
      "model_module_version": "1.5.0",
      "model_name": "HTMLModel",
      "state": {
       "layout": "IPY_MODEL_4f94dcb89cca44868844a50818147c02",
       "style": "IPY_MODEL_18b918fa7c9643c48162db6c7271c90e",
       "value": " 701/? [07:27&lt;00:00,  1.53it/s, loss=tensor(5.2799, device=&#x27;cuda:0&#x27;)]"
      }
     },
     "ed05852224bc47639c99009664122273": {
      "model_module": "@jupyter-widgets/base",
      "model_module_version": "1.2.0",
      "model_name": "LayoutModel",
      "state": {}
     },
     "ed3e7e141eec4990b42456d5c277aaf2": {
      "model_module": "@jupyter-widgets/controls",
      "model_module_version": "1.5.0",
      "model_name": "ProgressStyleModel",
      "state": {
       "description_width": "initial"
      }
     },
     "ed5f16b4790640009119489a7eb3f430": {
      "model_module": "@jupyter-widgets/controls",
      "model_module_version": "1.5.0",
      "model_name": "DescriptionStyleModel",
      "state": {
       "description_width": ""
      }
     },
     "ed91510f176a447f8702d883f580031b": {
      "model_module": "@jupyter-widgets/controls",
      "model_module_version": "1.5.0",
      "model_name": "HBoxModel",
      "state": {
       "children": [
        "IPY_MODEL_e2a5f88ecb564fdab6a3a99a2e9eda4a",
        "IPY_MODEL_fd9bfe4fdf934a60a82965984910bc85"
       ],
       "layout": "IPY_MODEL_75d33fa5e5f3440f96349db753b005ec"
      }
     },
     "edaad4bcc2904998a1475ff3c1118fc1": {
      "model_module": "@jupyter-widgets/base",
      "model_module_version": "1.2.0",
      "model_name": "LayoutModel",
      "state": {}
     },
     "ee87a1c421ab4e9fa2a7e8b0a93449f4": {
      "model_module": "@jupyter-widgets/base",
      "model_module_version": "1.2.0",
      "model_name": "LayoutModel",
      "state": {}
     },
     "efae8745e3b3431db468bf218573b10b": {
      "model_module": "@jupyter-widgets/controls",
      "model_module_version": "1.5.0",
      "model_name": "FloatProgressModel",
      "state": {
       "bar_style": "danger",
       "description": "Epoch 0: ",
       "layout": "IPY_MODEL_5ab205809c83435cbd1d07902a49ee52",
       "max": 1,
       "style": "IPY_MODEL_58ee7516edd14c17820c0cc995596ae0",
       "value": 1
      }
     },
     "f11499602bcc4495a9dd5a984caeb27b": {
      "model_module": "@jupyter-widgets/controls",
      "model_module_version": "1.5.0",
      "model_name": "DescriptionStyleModel",
      "state": {
       "description_width": ""
      }
     },
     "f124883ae48e437c9f32d0b1bafd32cc": {
      "model_module": "@jupyter-widgets/controls",
      "model_module_version": "1.5.0",
      "model_name": "HBoxModel",
      "state": {
       "children": [
        "IPY_MODEL_e36dbfa1f07c41a193d6a32fd9d7b82c",
        "IPY_MODEL_f39755c4a7ed4d0abaed96b40d4691e6"
       ],
       "layout": "IPY_MODEL_2613996f55614efbbeb29312c3913a68"
      }
     },
     "f2c91beb9ca64bf6822ead7454479ecb": {
      "model_module": "@jupyter-widgets/controls",
      "model_module_version": "1.5.0",
      "model_name": "FloatProgressModel",
      "state": {
       "bar_style": "danger",
       "description": "Epoch 9: ",
       "layout": "IPY_MODEL_6b8f023364704137bacafacb23ad3137",
       "max": 1,
       "style": "IPY_MODEL_9aef0916033b4df5b9643af53b1eefbb",
       "value": 1
      }
     },
     "f39755c4a7ed4d0abaed96b40d4691e6": {
      "model_module": "@jupyter-widgets/controls",
      "model_module_version": "1.5.0",
      "model_name": "HTMLModel",
      "state": {
       "layout": "IPY_MODEL_c49742852a3741c0ae8342d182099e3c",
       "style": "IPY_MODEL_07c2cbbbca414969a3127a79bc78f266",
       "value": " 101/? [01:06&lt;00:00,  1.61it/s, loss=tensor(9.4294, device=&#x27;cuda:0&#x27;)]"
      }
     },
     "f3c5ed563d004b688fb9f8cdead7de94": {
      "model_module": "@jupyter-widgets/controls",
      "model_module_version": "1.5.0",
      "model_name": "HTMLModel",
      "state": {
       "layout": "IPY_MODEL_312ef6cfd495472d9e7aa714ac5144b1",
       "style": "IPY_MODEL_c63af52cac844f08b37a0e579e6a156f",
       "value": " 701/? [1:00:40&lt;00:00,  5.19s/it, loss=tensor(6.8715, device=&#x27;cuda:0&#x27;)]"
      }
     },
     "f3e4e275be544bce8911b9e6567e9e66": {
      "model_module": "@jupyter-widgets/base",
      "model_module_version": "1.2.0",
      "model_name": "LayoutModel",
      "state": {}
     },
     "f3ff0ba9cc3c41b3bb505cab1229087e": {
      "model_module": "@jupyter-widgets/base",
      "model_module_version": "1.2.0",
      "model_name": "LayoutModel",
      "state": {}
     },
     "f425a0b7447342428412f403b04f8001": {
      "model_module": "@jupyter-widgets/base",
      "model_module_version": "1.2.0",
      "model_name": "LayoutModel",
      "state": {}
     },
     "f432009e6fd840d091087fb9ddbf0fd2": {
      "model_module": "@jupyter-widgets/controls",
      "model_module_version": "1.5.0",
      "model_name": "HBoxModel",
      "state": {
       "children": [
        "IPY_MODEL_e3661d04586849caa02f608de67e34ff",
        "IPY_MODEL_458eb23b51164c88a140796a56e125ff"
       ],
       "layout": "IPY_MODEL_dd0893fad3994293a7bdd887331d24bf"
      }
     },
     "f44c9003b6404d4ead7d2bef701e1b55": {
      "model_module": "@jupyter-widgets/base",
      "model_module_version": "1.2.0",
      "model_name": "LayoutModel",
      "state": {}
     },
     "f502a6aa1fd54db581ddda70dcf52f2d": {
      "model_module": "@jupyter-widgets/controls",
      "model_module_version": "1.5.0",
      "model_name": "DescriptionStyleModel",
      "state": {
       "description_width": ""
      }
     },
     "f53387a5def0466aa5e8fc61d54cca69": {
      "model_module": "@jupyter-widgets/controls",
      "model_module_version": "1.5.0",
      "model_name": "HTMLModel",
      "state": {
       "layout": "IPY_MODEL_e109d4043d094606a7a90e70f322dee9",
       "style": "IPY_MODEL_aa9d6f8ba60046b59f408906ebd70313",
       "value": " 11/? [00:11&lt;00:00,  1.35it/s, loss=tensor(10.0750, device=&#x27;cuda:0&#x27;)]"
      }
     },
     "f55afbc76bf04f51a13c96f71fc62b4d": {
      "model_module": "@jupyter-widgets/controls",
      "model_module_version": "1.5.0",
      "model_name": "HTMLModel",
      "state": {
       "layout": "IPY_MODEL_364e608d0fa046e6981295f04bba9337",
       "style": "IPY_MODEL_2698cddc86d9401aa81816d91f47e8d7",
       "value": " 701/? [1:52:37&lt;00:00,  9.64s/it, loss=tensor(7.0020, device=&#x27;cuda:0&#x27;)]"
      }
     },
     "f5eb0e540295440fa7706d1c58cc96bd": {
      "model_module": "@jupyter-widgets/base",
      "model_module_version": "1.2.0",
      "model_name": "LayoutModel",
      "state": {}
     },
     "f60cd4cbed3e427d83f1f8f646e56360": {
      "model_module": "@jupyter-widgets/base",
      "model_module_version": "1.2.0",
      "model_name": "LayoutModel",
      "state": {}
     },
     "f64e2f9b9531420bb8151faf52a10f82": {
      "model_module": "@jupyter-widgets/controls",
      "model_module_version": "1.5.0",
      "model_name": "FloatProgressModel",
      "state": {
       "bar_style": "danger",
       "description": "Epoch 11: ",
       "layout": "IPY_MODEL_a9ec19e3266641c2b7bdd3d84013ec10",
       "max": 1,
       "style": "IPY_MODEL_a1caf5d444724570b51d36ed1a7525c3",
       "value": 1
      }
     },
     "f67719d3bd0f44a2b76e17d34c8d969d": {
      "model_module": "@jupyter-widgets/controls",
      "model_module_version": "1.5.0",
      "model_name": "ProgressStyleModel",
      "state": {
       "description_width": "initial"
      }
     },
     "f7087ce57b4944b3b6bb240c7bce5b77": {
      "model_module": "@jupyter-widgets/controls",
      "model_module_version": "1.5.0",
      "model_name": "ProgressStyleModel",
      "state": {
       "description_width": "initial"
      }
     },
     "f781613adec64d7e9358d52244d4609a": {
      "model_module": "@jupyter-widgets/controls",
      "model_module_version": "1.5.0",
      "model_name": "ProgressStyleModel",
      "state": {
       "description_width": "initial"
      }
     },
     "f7934a455e604a85b36d58ed26d96e13": {
      "model_module": "@jupyter-widgets/controls",
      "model_module_version": "1.5.0",
      "model_name": "FloatProgressModel",
      "state": {
       "bar_style": "danger",
       "description": "Epoch 5: ",
       "layout": "IPY_MODEL_fab048d5ac6146ca9f7e75d9ef7368d1",
       "max": 1,
       "style": "IPY_MODEL_5898fd7086c7476889dfaa4bf11a499d",
       "value": 1
      }
     },
     "f7b56a74bcb64fd3a2a24df8fb189bf7": {
      "model_module": "@jupyter-widgets/controls",
      "model_module_version": "1.5.0",
      "model_name": "ProgressStyleModel",
      "state": {
       "description_width": "initial"
      }
     },
     "f89602f2d9244ad0bc0cc8716ca5d24c": {
      "model_module": "@jupyter-widgets/controls",
      "model_module_version": "1.5.0",
      "model_name": "DescriptionStyleModel",
      "state": {
       "description_width": ""
      }
     },
     "f89e6643a66d4f2eb549ecbffc7b0bc1": {
      "model_module": "@jupyter-widgets/controls",
      "model_module_version": "1.5.0",
      "model_name": "HBoxModel",
      "state": {
       "children": [
        "IPY_MODEL_fe47afae833d46d583f5d7b086a2999d",
        "IPY_MODEL_aeb6a336d57842908b40d438aa1cdfe9"
       ],
       "layout": "IPY_MODEL_8b23bd0ff400404fb4de877efce071fa"
      }
     },
     "f8d36eab4f3641c489a47b05471d1a34": {
      "model_module": "@jupyter-widgets/base",
      "model_module_version": "1.2.0",
      "model_name": "LayoutModel",
      "state": {}
     },
     "f92adaa76fb74c5ebd849ed9d182c52b": {
      "model_module": "@jupyter-widgets/controls",
      "model_module_version": "1.5.0",
      "model_name": "ProgressStyleModel",
      "state": {
       "description_width": "initial"
      }
     },
     "f9a780e659334e06a64cd732814eda2e": {
      "model_module": "@jupyter-widgets/controls",
      "model_module_version": "1.5.0",
      "model_name": "HBoxModel",
      "state": {
       "children": [
        "IPY_MODEL_fe1bbba80cc446988809855decbfb2c9",
        "IPY_MODEL_be4a78c9892041f2b3e3baa7fb2ce3fa"
       ],
       "layout": "IPY_MODEL_af089d91233f4f95a961640e5615e6b0"
      }
     },
     "f9ce2847899d42448afec5b46d30b6b8": {
      "model_module": "@jupyter-widgets/controls",
      "model_module_version": "1.5.0",
      "model_name": "DescriptionStyleModel",
      "state": {
       "description_width": ""
      }
     },
     "fab022981375415496b4309ce50cae0a": {
      "model_module": "@jupyter-widgets/controls",
      "model_module_version": "1.5.0",
      "model_name": "HTMLModel",
      "state": {
       "layout": "IPY_MODEL_b2abc71faf3f4a8693fef4244bf6b913",
       "style": "IPY_MODEL_dd48333980f44353a5fff7a644fd8143",
       "value": " 701/? [07:00&lt;00:00,  1.71it/s, loss=tensor(5.9642, device=&#x27;cuda:0&#x27;)]"
      }
     },
     "fab048d5ac6146ca9f7e75d9ef7368d1": {
      "model_module": "@jupyter-widgets/base",
      "model_module_version": "1.2.0",
      "model_name": "LayoutModel",
      "state": {}
     },
     "fac9f3c6b04a400999d5febe6b835aaa": {
      "model_module": "@jupyter-widgets/base",
      "model_module_version": "1.2.0",
      "model_name": "LayoutModel",
      "state": {}
     },
     "fad3e7460c864f0caae2c37a2538aea2": {
      "model_module": "@jupyter-widgets/controls",
      "model_module_version": "1.5.0",
      "model_name": "HBoxModel",
      "state": {
       "children": [
        "IPY_MODEL_a758557ae2ce4f138799c3e2a7f9c9dd",
        "IPY_MODEL_a350f62bfa00415d8d0bfca5512a6b8a"
       ],
       "layout": "IPY_MODEL_0fbae592c53e46aab0b0124dc258e3d0"
      }
     },
     "fc388f989a614f72b5375e3eea068139": {
      "model_module": "@jupyter-widgets/controls",
      "model_module_version": "1.5.0",
      "model_name": "HTMLModel",
      "state": {
       "layout": "IPY_MODEL_850312c4ef334939b063864724767fb6",
       "style": "IPY_MODEL_309487b05f0244cbae8fb4f8985e56aa",
       "value": " 701/? [4:09:35&lt;00:00, 21.36s/it, loss=tensor(7.4962, device=&#x27;cuda:0&#x27;)]"
      }
     },
     "fceba7c82e6c40c0a5c649f575715f07": {
      "model_module": "@jupyter-widgets/base",
      "model_module_version": "1.2.0",
      "model_name": "LayoutModel",
      "state": {}
     },
     "fd9bfe4fdf934a60a82965984910bc85": {
      "model_module": "@jupyter-widgets/controls",
      "model_module_version": "1.5.0",
      "model_name": "HTMLModel",
      "state": {
       "layout": "IPY_MODEL_dbe73de8616f470ead639d71116102b6",
       "style": "IPY_MODEL_21c7fa30b7954ac390640b08c4ea9087",
       "value": " 701/? [3:10:45&lt;00:00, 16.33s/it, loss=tensor(7.1528, device=&#x27;cuda:0&#x27;)]"
      }
     },
     "fde9c28e364b493086e44150bdf51cf5": {
      "model_module": "@jupyter-widgets/base",
      "model_module_version": "1.2.0",
      "model_name": "LayoutModel",
      "state": {}
     },
     "fe1bbba80cc446988809855decbfb2c9": {
      "model_module": "@jupyter-widgets/controls",
      "model_module_version": "1.5.0",
      "model_name": "FloatProgressModel",
      "state": {
       "bar_style": "danger",
       "description": "Epoch 4: ",
       "layout": "IPY_MODEL_1649f185444743899c75d0dbcc4a901b",
       "max": 1,
       "style": "IPY_MODEL_7c2549b81fb047bb8afb54425e12c6c2",
       "value": 1
      }
     },
     "fe47afae833d46d583f5d7b086a2999d": {
      "model_module": "@jupyter-widgets/controls",
      "model_module_version": "1.5.0",
      "model_name": "FloatProgressModel",
      "state": {
       "bar_style": "danger",
       "description": "Epoch 6: ",
       "layout": "IPY_MODEL_5fa1b3579088426a8a7bfcb27a035c6a",
       "max": 1,
       "style": "IPY_MODEL_d19e49fa6174457c85cb42e3433000fc",
       "value": 1
      }
     },
     "fe94c8b0e06e4bae8b9d85c281624643": {
      "model_module": "@jupyter-widgets/controls",
      "model_module_version": "1.5.0",
      "model_name": "HTMLModel",
      "state": {
       "layout": "IPY_MODEL_9445a99dce414db8b1da53a5ed246f3e",
       "style": "IPY_MODEL_6e32a0de33cc46b0967888bb67e11f56",
       "value": " 11/? [00:11&lt;00:00,  1.36it/s, loss=tensor(135.9809, device=&#x27;cuda:0&#x27;)]"
      }
     },
     "ff14c73a40e84bdba8f47445ae8af008": {
      "model_module": "@jupyter-widgets/controls",
      "model_module_version": "1.5.0",
      "model_name": "HTMLModel",
      "state": {
       "layout": "IPY_MODEL_02f4a1e25ab647f095885de0e1886473",
       "style": "IPY_MODEL_999808c2b0aa45fa8adba735eb83e8d1",
       "value": " 701/? [3:04:07&lt;00:00, 15.76s/it, loss=tensor(7.1546, device=&#x27;cuda:0&#x27;)]"
      }
     },
     "ffa8c4a710de47cea1b2413d88c5c881": {
      "model_module": "@jupyter-widgets/base",
      "model_module_version": "1.2.0",
      "model_name": "LayoutModel",
      "state": {}
     }
    },
    "version_major": 2,
    "version_minor": 0
   }
  }
 },
 "nbformat": 4,
 "nbformat_minor": 2
}
